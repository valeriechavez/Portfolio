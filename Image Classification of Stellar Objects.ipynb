{
 "cells": [
  {
   "cell_type": "markdown",
   "id": "27bc121e-c981-417c-910a-7554e24abdb5",
   "metadata": {},
   "source": [
    "**Image Classification of Stellar Objects**\n"
   ]
  },
  {
   "cell_type": "markdown",
   "id": "0508eda9-1fec-4ab1-b8df-2786af57ded6",
   "metadata": {},
   "source": [
    "**Introduction:** Provide an overview of the\n",
    "chosen dataset, along with the scientific motivation for analyzing it."
   ]
  },
  {
   "attachments": {},
   "cell_type": "markdown",
   "id": "dcb1e939-fe80-4abc-b7b3-060cca41c321",
   "metadata": {},
   "source": [
    "<br>\tWith the expansion of data collection and storage options, the field of observational astronomy and astrophysics are increasingly inundated with large amounts of data. Projects like the Hubble, James Web, and Sloan Digital Sky Survey can collect millions of images within a relatively short frame of time. Conventional techniques could greatly limit scientific potential. Machine Learning models allow scientists to work with large volumes of imaging data more efficiently.\r",
    "<br>\n",
    "\tA classic problem is categorization of stars vs galaxies. Star images can have the appearance of “point spread” when observed through the earth’s atmosphere, while images of galaxies taken from a great distance can resemble stars. With the vast amounts of images “the task would take simply too long for large data sets, and therefore there is a very good case for the use of ML (Kembhavi et al 2020).”<br>   To explore this problem, data from the Aryabhatta Research Institute of Observational Sciences (ARIES), Nainital, India (Agrawal 2021) is explored. The images are given in 64x64 cutouts and represent real-word observations of stars and galaxies. There are a total of 3044 stars and 942 galaxies within the dataset (N = 3986), with an approximately 76%/24% split between stars and galaxies. The images were labeled, reformatted, and normalized then spit into a training (80%) and validation (20%) dataset, with both having the same representation of stars and galaxies.\r\n",
    ".\r\n",
    ".\r\n",
    "s.\r\n"
   ]
  },
  {
   "cell_type": "markdown",
   "id": "6986d8ad-8659-40e6-a6d7-dc8eb153fc44",
   "metadata": {},
   "source": [
    "**Data Set-up**"
   ]
  },
  {
   "cell_type": "code",
   "execution_count": 1,
   "id": "2cd78fb3-d646-44f7-b963-857b15790a70",
   "metadata": {},
   "outputs": [
    {
     "name": "stdout",
     "output_type": "stream",
     "text": [
      "/Users/valerier/Desktop/CSU/Machine Learning/Cutout Files/galaxy/J125219p264053_001_010_848_237_3.jpg\n",
      "/Users/valerier/Desktop/CSU/Machine Learning/Cutout Files/galaxy/J153044p231014_001_001_234_1473_3.jpg\n",
      "/Users/valerier/Desktop/CSU/Machine Learning/Cutout Files/galaxy/J142943p385931_001_001_491_1223_3.jpg\n",
      "/Users/valerier/Desktop/CSU/Machine Learning/Cutout Files/galaxy/J125219p264053_001_010_334_652_3.jpg\n",
      "/Users/valerier/Desktop/CSU/Machine Learning/Cutout Files/galaxy/J1603p3002_001_010_1557_556_3.jpg\n",
      "/Users/valerier/Desktop/CSU/Machine Learning/Cutout Files/galaxy/J1530p2310_r_01_943_466_3.jpg\n",
      "/Users/valerier/Desktop/CSU/Machine Learning/Cutout Files/galaxy/J1530p2310_r_01_111_624_3.jpg\n",
      "/Users/valerier/Desktop/CSU/Machine Learning/Cutout Files/galaxy/J1603p3002_001_010_215_1708_3.jpg\n",
      "/Users/valerier/Desktop/CSU/Machine Learning/Cutout Files/galaxy/J142943p385931_001_001_787_1722_3.jpg\n",
      "/Users/valerier/Desktop/CSU/Machine Learning/Cutout Files/galaxy/J142943p385931_001_001_778_836_3.jpg\n",
      "/Users/valerier/Desktop/CSU/Machine Learning/Cutout Files/galaxy/J142943p385931_001_001_722_1742_3.jpg\n",
      "/Users/valerier/Desktop/CSU/Machine Learning/Cutout Files/galaxy/J142943p385931_001_001_632_872_3.jpg\n",
      "/Users/valerier/Desktop/CSU/Machine Learning/Cutout Files/galaxy/J140012p353930_001_001_860_1149_3.jpg\n",
      "/Users/valerier/Desktop/CSU/Machine Learning/Cutout Files/galaxy/J142943p385931_001_001_372_471_3.jpg\n",
      "/Users/valerier/Desktop/CSU/Machine Learning/Cutout Files/galaxy/J1603p3002_001_010_900_987_3.jpg\n",
      "/Users/valerier/Desktop/CSU/Machine Learning/Cutout Files/galaxy/J153044p231014_001_001_245_740_3.jpg\n",
      "/Users/valerier/Desktop/CSU/Machine Learning/Cutout Files/galaxy/J1603p3002_001_010_1238_95_3.jpg\n",
      "/Users/valerier/Desktop/CSU/Machine Learning/Cutout Files/galaxy/sn12c01_03_1654_738_3.jpg\n",
      "/Users/valerier/Desktop/CSU/Machine Learning/Cutout Files/galaxy/J1603p3002_001_010_1882_516_3.jpg\n",
      "/Users/valerier/Desktop/CSU/Machine Learning/Cutout Files/galaxy/J142943p385931_001_001_659_1388_3.jpg\n",
      "/Users/valerier/Desktop/CSU/Machine Learning/Cutout Files/galaxy/j1612p5118_r_01_1031_1560_3.jpg\n",
      "/Users/valerier/Desktop/CSU/Machine Learning/Cutout Files/galaxy/J15050326_01_1228_786_3.jpg\n",
      "/Users/valerier/Desktop/CSU/Machine Learning/Cutout Files/galaxy/J125219p264053_001_010_1697_744_3.jpg\n",
      "/Users/valerier/Desktop/CSU/Machine Learning/Cutout Files/galaxy/J153044p231014_001_001_504_1340_3.jpg\n",
      "/Users/valerier/Desktop/CSU/Machine Learning/Cutout Files/galaxy/J125219p264053_001_010_306_636_3.jpg\n",
      "/Users/valerier/Desktop/CSU/Machine Learning/Cutout Files/galaxy/J1603p3002_001_010_774_511_3.jpg\n",
      "/Users/valerier/Desktop/CSU/Machine Learning/Cutout Files/galaxy/WASP-24_R01_324_1311_3.jpg\n",
      "/Users/valerier/Desktop/CSU/Machine Learning/Cutout Files/galaxy/J1603p3002_001_010_1189_923_3.jpg\n",
      "/Users/valerier/Desktop/CSU/Machine Learning/Cutout Files/galaxy/J153044p231014_001_001_836_1921_3.jpg\n",
      "/Users/valerier/Desktop/CSU/Machine Learning/Cutout Files/galaxy/J161245p511816_001_010_196_1484_3.jpg\n",
      "/Users/valerier/Desktop/CSU/Machine Learning/Cutout Files/galaxy/J15050326_01_1154_968_3.jpg\n",
      "/Users/valerier/Desktop/CSU/Machine Learning/Cutout Files/galaxy/J161245p511816_001_010_955_1070_3.jpg\n",
      "/Users/valerier/Desktop/CSU/Machine Learning/Cutout Files/galaxy/J1530p2310_r_01_1027_175_3.jpg\n",
      "/Users/valerier/Desktop/CSU/Machine Learning/Cutout Files/galaxy/J125219p264053_001_010_841_259_3.jpg\n",
      "/Users/valerier/Desktop/CSU/Machine Learning/Cutout Files/galaxy/J1603p3002_001_010_1510_506_3.jpg\n",
      "/Users/valerier/Desktop/CSU/Machine Learning/Cutout Files/galaxy/J1603p3002_001_010_1839_1045_3.jpg\n",
      "/Users/valerier/Desktop/CSU/Machine Learning/Cutout Files/galaxy/J1530p2310_r_01_908_693_3.jpg\n",
      "/Users/valerier/Desktop/CSU/Machine Learning/Cutout Files/galaxy/J142943p385931_001_001_766_607_3.jpg\n",
      "/Users/valerier/Desktop/CSU/Machine Learning/Cutout Files/galaxy/J142943p385931_001_001_469_1125_3.jpg\n",
      "/Users/valerier/Desktop/CSU/Machine Learning/Cutout Files/galaxy/IC3521-H01_1300_759_3.jpg\n",
      "/Users/valerier/Desktop/CSU/Machine Learning/Cutout Files/galaxy/xo-1-R001_1352_916_3.jpg\n",
      "/Users/valerier/Desktop/CSU/Machine Learning/Cutout Files/galaxy/J125219p264053_001_010_1346_1098_3.jpg\n",
      "/Users/valerier/Desktop/CSU/Machine Learning/Cutout Files/galaxy/J142943p385931_001_001_545_1863_3.jpg\n",
      "/Users/valerier/Desktop/CSU/Machine Learning/Cutout Files/galaxy/J121929p47152_001_010_1124_1712_3.jpg\n",
      "/Users/valerier/Desktop/CSU/Machine Learning/Cutout Files/galaxy/J15050326_01_1504_943_3.jpg\n",
      "/Users/valerier/Desktop/CSU/Machine Learning/Cutout Files/galaxy/J153044p231014_001_001_1221_872_3.jpg\n",
      "/Users/valerier/Desktop/CSU/Machine Learning/Cutout Files/galaxy/J153044p231014_001_001_268_1131_3.jpg\n",
      "/Users/valerier/Desktop/CSU/Machine Learning/Cutout Files/galaxy/J15050326_01_1045_1021_3.jpg\n",
      "/Users/valerier/Desktop/CSU/Machine Learning/Cutout Files/galaxy/J125219p264053_001_010_876_1109_3.jpg\n",
      "/Users/valerier/Desktop/CSU/Machine Learning/Cutout Files/galaxy/J1603p3002_001_010_963_1904_3.jpg\n",
      "/Users/valerier/Desktop/CSU/Machine Learning/Cutout Files/galaxy/j1612p5118_r_01_1350_74_3.jpg\n",
      "/Users/valerier/Desktop/CSU/Machine Learning/Cutout Files/galaxy/J153044p231014_001_001_429_119_3.jpg\n",
      "/Users/valerier/Desktop/CSU/Machine Learning/Cutout Files/galaxy/J1603p3002_001_010_800_1350_3.jpg\n",
      "/Users/valerier/Desktop/CSU/Machine Learning/Cutout Files/galaxy/J1603p3002_001_010_1320_1414_3.jpg\n",
      "/Users/valerier/Desktop/CSU/Machine Learning/Cutout Files/galaxy/J1530p2310_r_01_700_379_3.jpg\n",
      "/Users/valerier/Desktop/CSU/Machine Learning/Cutout Files/galaxy/J161245p511816_001_010_260_1607_3.jpg\n",
      "/Users/valerier/Desktop/CSU/Machine Learning/Cutout Files/galaxy/J142943p385931_001_001_1570_83_3.jpg\n",
      "/Users/valerier/Desktop/CSU/Machine Learning/Cutout Files/galaxy/J153044p231014_001_001_604_1721_3.jpg\n",
      "/Users/valerier/Desktop/CSU/Machine Learning/Cutout Files/galaxy/J125219p264053_001_010_1373_168_3.jpg\n",
      "/Users/valerier/Desktop/CSU/Machine Learning/Cutout Files/galaxy/J142943p385931_001_001_413_714_3.jpg\n",
      "/Users/valerier/Desktop/CSU/Machine Learning/Cutout Files/galaxy/J161245p511816_001_010_727_1445_3.jpg\n",
      "/Users/valerier/Desktop/CSU/Machine Learning/Cutout Files/galaxy/J142943p385931_001_001_1509_401_3.jpg\n",
      "/Users/valerier/Desktop/CSU/Machine Learning/Cutout Files/galaxy/J142943p385931_001_001_2001_460_3.jpg\n",
      "/Users/valerier/Desktop/CSU/Machine Learning/Cutout Files/galaxy/J153044p231014_001_001_922_274_3.jpg\n",
      "/Users/valerier/Desktop/CSU/Machine Learning/Cutout Files/galaxy/J161245p511816_001_010_355_997_3.jpg\n",
      "/Users/valerier/Desktop/CSU/Machine Learning/Cutout Files/galaxy/j1612p5118_r_01_1599_234_3.jpg\n",
      "/Users/valerier/Desktop/CSU/Machine Learning/Cutout Files/galaxy/NGC3381-H01_593_1725_3.jpg\n",
      "/Users/valerier/Desktop/CSU/Machine Learning/Cutout Files/galaxy/J153044p231014_001_001_1736_757_3.jpg\n",
      "/Users/valerier/Desktop/CSU/Machine Learning/Cutout Files/galaxy/J1252p2640_r_01_10_1609_880_3.jpg\n",
      "/Users/valerier/Desktop/CSU/Machine Learning/Cutout Files/galaxy/J1530p2310_r_01_532_392_3.jpg\n",
      "/Users/valerier/Desktop/CSU/Machine Learning/Cutout Files/galaxy/NGC5665-H01_298_728_3.jpg\n",
      "/Users/valerier/Desktop/CSU/Machine Learning/Cutout Files/galaxy/WR083_H01_841_762_3.jpg\n",
      "/Users/valerier/Desktop/CSU/Machine Learning/Cutout Files/galaxy/J1603p3002_001_010_531_1047_3.jpg\n",
      "/Users/valerier/Desktop/CSU/Machine Learning/Cutout Files/galaxy/J142943p385931_001_001_1388_374_3.jpg\n",
      "/Users/valerier/Desktop/CSU/Machine Learning/Cutout Files/galaxy/J125219p264053_001_010_1546_524_3.jpg\n",
      "/Users/valerier/Desktop/CSU/Machine Learning/Cutout Files/galaxy/J1603p3002_001_010_630_1637_3.jpg\n",
      "/Users/valerier/Desktop/CSU/Machine Learning/Cutout Files/galaxy/NGC3381-H01_323_992_3.jpg\n",
      "/Users/valerier/Desktop/CSU/Machine Learning/Cutout Files/galaxy/J125219p264053_001_010_557_651_3.jpg\n",
      "/Users/valerier/Desktop/CSU/Machine Learning/Cutout Files/galaxy/J1603p3002_001_010_1539_1200_3.jpg\n",
      "/Users/valerier/Desktop/CSU/Machine Learning/Cutout Files/galaxy/J1603p3002_001_010_645_1423_3.jpg\n",
      "/Users/valerier/Desktop/CSU/Machine Learning/Cutout Files/galaxy/J142943p385931_001_001_233_1259_3.jpg\n",
      "/Users/valerier/Desktop/CSU/Machine Learning/Cutout Files/galaxy/J125219p264053_001_010_1616_482_3.jpg\n",
      "/Users/valerier/Desktop/CSU/Machine Learning/Cutout Files/galaxy/J142943p385931_001_001_1169_567_3.jpg\n",
      "/Users/valerier/Desktop/CSU/Machine Learning/Cutout Files/galaxy/NGC5147_H01_1806_1278_3.jpg\n",
      "/Users/valerier/Desktop/CSU/Machine Learning/Cutout Files/galaxy/J161245p511816_001_010_1343_1119_3.jpg\n",
      "/Users/valerier/Desktop/CSU/Machine Learning/Cutout Files/galaxy/J142943p385931_001_001_748_769_3.jpg\n",
      "/Users/valerier/Desktop/CSU/Machine Learning/Cutout Files/galaxy/J153044p231014_001_001_1253_1344_3.jpg\n",
      "/Users/valerier/Desktop/CSU/Machine Learning/Cutout Files/galaxy/j1612p5118_r_01_1880_1361_3.jpg\n",
      "/Users/valerier/Desktop/CSU/Machine Learning/Cutout Files/galaxy/J1252p2640_r_01_10_627_1044_3.jpg\n",
      "/Users/valerier/Desktop/CSU/Machine Learning/Cutout Files/galaxy/J1530p2310_r_01_972_1607_3.jpg\n",
      "/Users/valerier/Desktop/CSU/Machine Learning/Cutout Files/galaxy/J1252p2640_r_01_10_441_137_3.jpg\n",
      "/Users/valerier/Desktop/CSU/Machine Learning/Cutout Files/galaxy/j1612p5118_r_01_1386_1522_3.jpg\n",
      "/Users/valerier/Desktop/CSU/Machine Learning/Cutout Files/galaxy/J1603p3002_001_010_1928_952_3.jpg\n",
      "/Users/valerier/Desktop/CSU/Machine Learning/Cutout Files/galaxy/J1530p2310_r_01_979_59_3.jpg\n",
      "/Users/valerier/Desktop/CSU/Machine Learning/Cutout Files/galaxy/J1603p3002_001_010_661_1406_3.jpg\n",
      "/Users/valerier/Desktop/CSU/Machine Learning/Cutout Files/galaxy/J140012p353930_001_001_1676_1312_3.jpg\n",
      "/Users/valerier/Desktop/CSU/Machine Learning/Cutout Files/galaxy/J1530p2310_r_01_465_1219_3.jpg\n",
      "/Users/valerier/Desktop/CSU/Machine Learning/Cutout Files/galaxy/J1603p3002_001_010_563_307_3.jpg\n",
      "/Users/valerier/Desktop/CSU/Machine Learning/Cutout Files/galaxy/J1603p3002_001_010_193_1420_3.jpg\n",
      "/Users/valerier/Desktop/CSU/Machine Learning/Cutout Files/galaxy/J1252p2640_r_01_10_1248_1334_3.jpg\n",
      "/Users/valerier/Desktop/CSU/Machine Learning/Cutout Files/galaxy/J153044p231014_001_001_56_783_3.jpg\n",
      "/Users/valerier/Desktop/CSU/Machine Learning/Cutout Files/galaxy/J125219p264053_001_010_1821_908_3.jpg\n",
      "/Users/valerier/Desktop/CSU/Machine Learning/Cutout Files/galaxy/J1603p3002_001_010_971_1852_3.jpg\n",
      "/Users/valerier/Desktop/CSU/Machine Learning/Cutout Files/galaxy/J142943p385931_001_001_1848_86_3.jpg\n",
      "/Users/valerier/Desktop/CSU/Machine Learning/Cutout Files/galaxy/J1530p2310_r_01_301_607_3.jpg\n",
      "/Users/valerier/Desktop/CSU/Machine Learning/Cutout Files/galaxy/grb0422a_01_257_154_3.jpg\n",
      "/Users/valerier/Desktop/CSU/Machine Learning/Cutout Files/galaxy/J142943p385931_001_001_599_1280_3.jpg\n",
      "/Users/valerier/Desktop/CSU/Machine Learning/Cutout Files/galaxy/J121929p47152_001_010_1323_1290_3.jpg\n",
      "/Users/valerier/Desktop/CSU/Machine Learning/Cutout Files/galaxy/IC745_H01_904_1708_3.jpg\n",
      "/Users/valerier/Desktop/CSU/Machine Learning/Cutout Files/galaxy/J142943p385931_001_001_1122_50_3.jpg\n",
      "/Users/valerier/Desktop/CSU/Machine Learning/Cutout Files/galaxy/J125219p264053_001_010_1752_1008_3.jpg\n",
      "/Users/valerier/Desktop/CSU/Machine Learning/Cutout Files/galaxy/J125219p264053_001_010_1852_1180_3.jpg\n",
      "/Users/valerier/Desktop/CSU/Machine Learning/Cutout Files/galaxy/J1603p3002_001_010_1796_883_3.jpg\n",
      "/Users/valerier/Desktop/CSU/Machine Learning/Cutout Files/galaxy/J142943p385931_001_001_789_916_3.jpg\n",
      "/Users/valerier/Desktop/CSU/Machine Learning/Cutout Files/galaxy/J1603p3002_001_010_1782_1114_3.jpg\n",
      "/Users/valerier/Desktop/CSU/Machine Learning/Cutout Files/galaxy/J125219p264053_001_010_1207_1533_3.jpg\n",
      "/Users/valerier/Desktop/CSU/Machine Learning/Cutout Files/galaxy/J1603p3002_001_010_740_1369_3.jpg\n",
      "/Users/valerier/Desktop/CSU/Machine Learning/Cutout Files/galaxy/J142943p385931_001_001_1909_1838_3.jpg\n",
      "/Users/valerier/Desktop/CSU/Machine Learning/Cutout Files/galaxy/J125219p264053_001_010_433_1568_3.jpg\n",
      "/Users/valerier/Desktop/CSU/Machine Learning/Cutout Files/galaxy/NGC3381-H01_1562_764_3.jpg\n",
      "/Users/valerier/Desktop/CSU/Machine Learning/Cutout Files/galaxy/J121929p47152_001_010_937_172_3.jpg\n",
      "/Users/valerier/Desktop/CSU/Machine Learning/Cutout Files/galaxy/WR083_H01_494_967_3.jpg\n",
      "/Users/valerier/Desktop/CSU/Machine Learning/Cutout Files/galaxy/J1252p2640_r_01_10_596_1607_3.jpg\n",
      "/Users/valerier/Desktop/CSU/Machine Learning/Cutout Files/galaxy/J1252p2640_r_01_10_73_529_3.jpg\n",
      "/Users/valerier/Desktop/CSU/Machine Learning/Cutout Files/galaxy/j1612p5118_r_01_936_1328_3.jpg\n",
      "/Users/valerier/Desktop/CSU/Machine Learning/Cutout Files/galaxy/WASP-24_R01_726_231_3.jpg\n",
      "/Users/valerier/Desktop/CSU/Machine Learning/Cutout Files/galaxy/J1530p2310_r_01_903_299_3.jpg\n",
      "/Users/valerier/Desktop/CSU/Machine Learning/Cutout Files/galaxy/J142943p385931_001_001_773_914_3.jpg\n",
      "/Users/valerier/Desktop/CSU/Machine Learning/Cutout Files/galaxy/J142943p385931_001_001_614_1772_3.jpg\n",
      "/Users/valerier/Desktop/CSU/Machine Learning/Cutout Files/galaxy/J153044p231014_001_001_1068_399_3.jpg\n",
      "/Users/valerier/Desktop/CSU/Machine Learning/Cutout Files/galaxy/j1612p5118_r_01_1075_1620_3.jpg\n",
      "/Users/valerier/Desktop/CSU/Machine Learning/Cutout Files/galaxy/sn12c01_03_1082_328_3.jpg\n",
      "/Users/valerier/Desktop/CSU/Machine Learning/Cutout Files/galaxy/IC745_H01_1014_1208_3.jpg\n",
      "/Users/valerier/Desktop/CSU/Machine Learning/Cutout Files/galaxy/J161245p511816_001_010_233_1697_3.jpg\n",
      "/Users/valerier/Desktop/CSU/Machine Learning/Cutout Files/galaxy/J1603p3002_001_010_879_591_3.jpg\n",
      "/Users/valerier/Desktop/CSU/Machine Learning/Cutout Files/galaxy/J142943p385931_001_001_676_443_3.jpg\n",
      "/Users/valerier/Desktop/CSU/Machine Learning/Cutout Files/galaxy/J140012p353930_001_001_537_557_3.jpg\n",
      "/Users/valerier/Desktop/CSU/Machine Learning/Cutout Files/galaxy/J1603p3002_001_010_1942_1004_3.jpg\n",
      "/Users/valerier/Desktop/CSU/Machine Learning/Cutout Files/galaxy/J153044p231014_001_001_727_296_3.jpg\n",
      "/Users/valerier/Desktop/CSU/Machine Learning/Cutout Files/galaxy/J142943p385931_001_001_964_599_3.jpg\n",
      "/Users/valerier/Desktop/CSU/Machine Learning/Cutout Files/galaxy/J125219p264053_001_010_449_679_3.jpg\n",
      "/Users/valerier/Desktop/CSU/Machine Learning/Cutout Files/galaxy/J121929p47152_001_010_1109_1835_3.jpg\n",
      "/Users/valerier/Desktop/CSU/Machine Learning/Cutout Files/galaxy/j1612p5118_r_01_1550_115_3.jpg\n",
      "/Users/valerier/Desktop/CSU/Machine Learning/Cutout Files/galaxy/J125219p264053_001_010_1600_1171_3.jpg\n",
      "/Users/valerier/Desktop/CSU/Machine Learning/Cutout Files/galaxy/J125219p264053_001_010_665_1101_3.jpg\n",
      "/Users/valerier/Desktop/CSU/Machine Learning/Cutout Files/galaxy/J1252p2640_r_01_10_1808_1221_3.jpg\n",
      "/Users/valerier/Desktop/CSU/Machine Learning/Cutout Files/galaxy/J142943p385931_001_001_159_996_3.jpg\n",
      "/Users/valerier/Desktop/CSU/Machine Learning/Cutout Files/galaxy/J153044p231014_001_001_826_1723_3.jpg\n",
      "/Users/valerier/Desktop/CSU/Machine Learning/Cutout Files/galaxy/J125219p264053_001_010_451_1118_3.jpg\n",
      "/Users/valerier/Desktop/CSU/Machine Learning/Cutout Files/galaxy/J15050326_01_1143_179_3.jpg\n",
      "/Users/valerier/Desktop/CSU/Machine Learning/Cutout Files/galaxy/J1603p3002_001_010_72_1666_3.jpg\n",
      "/Users/valerier/Desktop/CSU/Machine Learning/Cutout Files/galaxy/J1530p2310_r_01_1763_1307_3.jpg\n",
      "/Users/valerier/Desktop/CSU/Machine Learning/Cutout Files/galaxy/J125219p264053_001_010_276_1111_3.jpg\n",
      "/Users/valerier/Desktop/CSU/Machine Learning/Cutout Files/galaxy/J142943p385931_001_001_819_1854_3.jpg\n",
      "/Users/valerier/Desktop/CSU/Machine Learning/Cutout Files/galaxy/J1530p2310_r_01_441_888_3.jpg\n",
      "/Users/valerier/Desktop/CSU/Machine Learning/Cutout Files/galaxy/J1603p3002_001_010_231_1342_3.jpg\n",
      "/Users/valerier/Desktop/CSU/Machine Learning/Cutout Files/galaxy/J161245p511816_001_010_636_1762_3.jpg\n",
      "/Users/valerier/Desktop/CSU/Machine Learning/Cutout Files/galaxy/J121929p47152_001_010_312_1289_3.jpg\n",
      "/Users/valerier/Desktop/CSU/Machine Learning/Cutout Files/galaxy/xo-1-R001_1416_1998_3.jpg\n",
      "/Users/valerier/Desktop/CSU/Machine Learning/Cutout Files/galaxy/j1612p5118_r_01_256_1256_3.jpg\n",
      "/Users/valerier/Desktop/CSU/Machine Learning/Cutout Files/galaxy/J153044p231014_001_001_105_1146_3.jpg\n",
      "/Users/valerier/Desktop/CSU/Machine Learning/Cutout Files/galaxy/J125219p264053_001_010_1668_1131_3.jpg\n",
      "/Users/valerier/Desktop/CSU/Machine Learning/Cutout Files/galaxy/J161245p511816_001_010_1094_675_3.jpg\n",
      "/Users/valerier/Desktop/CSU/Machine Learning/Cutout Files/galaxy/J15050326_01_1809_853_3.jpg\n",
      "/Users/valerier/Desktop/CSU/Machine Learning/Cutout Files/galaxy/J142943p385931_001_001_360_690_3.jpg\n",
      "/Users/valerier/Desktop/CSU/Machine Learning/Cutout Files/galaxy/j1612p5118_r_01_833_837_3.jpg\n",
      "/Users/valerier/Desktop/CSU/Machine Learning/Cutout Files/galaxy/J153044p231014_001_001_979_296_3.jpg\n",
      "/Users/valerier/Desktop/CSU/Machine Learning/Cutout Files/galaxy/J1603p3002_001_010_1981_1169_3.jpg\n",
      "/Users/valerier/Desktop/CSU/Machine Learning/Cutout Files/galaxy/J1603p3002_001_010_1433_115_3.jpg\n",
      "/Users/valerier/Desktop/CSU/Machine Learning/Cutout Files/galaxy/J1530p2310_r_01_590_1797_3.jpg\n",
      "/Users/valerier/Desktop/CSU/Machine Learning/Cutout Files/galaxy/j1612p5118_r_01_48_1747_3.jpg\n",
      "/Users/valerier/Desktop/CSU/Machine Learning/Cutout Files/galaxy/J121929p47152_001_010_1752_1450_3.jpg\n",
      "/Users/valerier/Desktop/CSU/Machine Learning/Cutout Files/galaxy/j1612p5118_r_01_223_1717_3.jpg\n",
      "/Users/valerier/Desktop/CSU/Machine Learning/Cutout Files/galaxy/J142943p385931_001_001_1227_849_3.jpg\n",
      "/Users/valerier/Desktop/CSU/Machine Learning/Cutout Files/galaxy/J161245p511816_001_010_1854_1129_3.jpg\n",
      "/Users/valerier/Desktop/CSU/Machine Learning/Cutout Files/galaxy/J121929p47152_001_010_380_1371_3.jpg\n",
      "/Users/valerier/Desktop/CSU/Machine Learning/Cutout Files/galaxy/J1603p3002_001_010_1630_1693_3.jpg\n",
      "/Users/valerier/Desktop/CSU/Machine Learning/Cutout Files/galaxy/J125219p264053_001_010_1246_1570_3.jpg\n",
      "/Users/valerier/Desktop/CSU/Machine Learning/Cutout Files/galaxy/J15050326_01_1538_168_3.jpg\n",
      "/Users/valerier/Desktop/CSU/Machine Learning/Cutout Files/galaxy/j1612p5118_r_01_983_1302_3.jpg\n",
      "/Users/valerier/Desktop/CSU/Machine Learning/Cutout Files/galaxy/J1603p3002_001_010_479_1518_3.jpg\n",
      "/Users/valerier/Desktop/CSU/Machine Learning/Cutout Files/galaxy/J142943p385931_001_001_620_1739_3.jpg\n",
      "/Users/valerier/Desktop/CSU/Machine Learning/Cutout Files/galaxy/J140012p353930_001_001_1722_1080_3.jpg\n",
      "/Users/valerier/Desktop/CSU/Machine Learning/Cutout Files/galaxy/J1530p2310_r_01_100_1291_3.jpg\n",
      "/Users/valerier/Desktop/CSU/Machine Learning/Cutout Files/galaxy/J153044p231014_001_001_222_339_3.jpg\n",
      "/Users/valerier/Desktop/CSU/Machine Learning/Cutout Files/galaxy/J1252p2640_r_01_10_1349_1245_3.jpg\n",
      "/Users/valerier/Desktop/CSU/Machine Learning/Cutout Files/galaxy/J161245p511816_001_010_700_660_3.jpg\n",
      "/Users/valerier/Desktop/CSU/Machine Learning/Cutout Files/galaxy/J121929p47152_001_010_284_1568_3.jpg\n",
      "/Users/valerier/Desktop/CSU/Machine Learning/Cutout Files/galaxy/J161245p511816_001_010_1463_1463_3.jpg\n",
      "/Users/valerier/Desktop/CSU/Machine Learning/Cutout Files/galaxy/J1530p2310_r_01_1890_993_3.jpg\n",
      "/Users/valerier/Desktop/CSU/Machine Learning/Cutout Files/galaxy/IC3521-H01_1361_946_3.jpg\n",
      "/Users/valerier/Desktop/CSU/Machine Learning/Cutout Files/galaxy/J140012p353930_001_001_1517_1583_3.jpg\n",
      "/Users/valerier/Desktop/CSU/Machine Learning/Cutout Files/galaxy/J125219p264053_001_010_344_470_3.jpg\n",
      "/Users/valerier/Desktop/CSU/Machine Learning/Cutout Files/galaxy/J142943p385931_001_001_1067_1615_3.jpg\n",
      "/Users/valerier/Desktop/CSU/Machine Learning/Cutout Files/galaxy/J121929p47152_001_010_1855_1876_3.jpg\n",
      "/Users/valerier/Desktop/CSU/Machine Learning/Cutout Files/galaxy/J142943p385931_001_001_451_1238_3.jpg\n",
      "/Users/valerier/Desktop/CSU/Machine Learning/Cutout Files/galaxy/J153044p231014_001_001_1410_1803_3.jpg\n",
      "/Users/valerier/Desktop/CSU/Machine Learning/Cutout Files/galaxy/J1603p3002_001_010_610_913_3.jpg\n",
      "/Users/valerier/Desktop/CSU/Machine Learning/Cutout Files/galaxy/J1530p2310_r_01_73_459_3.jpg\n",
      "/Users/valerier/Desktop/CSU/Machine Learning/Cutout Files/galaxy/J1603p3002_001_010_527_729_3.jpg\n",
      "/Users/valerier/Desktop/CSU/Machine Learning/Cutout Files/galaxy/J153044p231014_001_001_312_307_3.jpg\n",
      "/Users/valerier/Desktop/CSU/Machine Learning/Cutout Files/galaxy/J153044p231014_001_001_1230_1622_3.jpg\n",
      "/Users/valerier/Desktop/CSU/Machine Learning/Cutout Files/galaxy/J161245p511816_001_010_1976_1612_3.jpg\n",
      "/Users/valerier/Desktop/CSU/Machine Learning/Cutout Files/galaxy/J1603p3002_001_010_975_1263_3.jpg\n",
      "/Users/valerier/Desktop/CSU/Machine Learning/Cutout Files/galaxy/J15050326_01_1811_666_3.jpg\n",
      "/Users/valerier/Desktop/CSU/Machine Learning/Cutout Files/galaxy/J1603p3002_001_010_780_1544_3.jpg\n",
      "/Users/valerier/Desktop/CSU/Machine Learning/Cutout Files/galaxy/J1603p3002_001_010_138_292_3.jpg\n",
      "/Users/valerier/Desktop/CSU/Machine Learning/Cutout Files/galaxy/J1603p3002_001_010_33_1297_3.jpg\n",
      "/Users/valerier/Desktop/CSU/Machine Learning/Cutout Files/galaxy/J121929p47152_001_010_973_1167_3.jpg\n",
      "/Users/valerier/Desktop/CSU/Machine Learning/Cutout Files/galaxy/J1603p3002_001_010_160_984_3.jpg\n",
      "/Users/valerier/Desktop/CSU/Machine Learning/Cutout Files/galaxy/sn12c01_03_1197_1008_3.jpg\n",
      "/Users/valerier/Desktop/CSU/Machine Learning/Cutout Files/galaxy/J142943p385931_001_001_1788_64_3.jpg\n",
      "/Users/valerier/Desktop/CSU/Machine Learning/Cutout Files/galaxy/J1530p2310_r_01_1642_426_3.jpg\n",
      "/Users/valerier/Desktop/CSU/Machine Learning/Cutout Files/galaxy/J140012p353930_001_001_744_1081_3.jpg\n",
      "/Users/valerier/Desktop/CSU/Machine Learning/Cutout Files/galaxy/J1603p3002_001_010_731_512_3.jpg\n",
      "/Users/valerier/Desktop/CSU/Machine Learning/Cutout Files/galaxy/J125219p264053_001_010_1590_928_3.jpg\n",
      "/Users/valerier/Desktop/CSU/Machine Learning/Cutout Files/galaxy/J1603p3002_001_010_1595_1604_3.jpg\n",
      "/Users/valerier/Desktop/CSU/Machine Learning/Cutout Files/galaxy/J140012p353930_001_001_1895_1347_3.jpg\n",
      "/Users/valerier/Desktop/CSU/Machine Learning/Cutout Files/galaxy/J1603p3002_001_010_312_1655_3.jpg\n",
      "/Users/valerier/Desktop/CSU/Machine Learning/Cutout Files/galaxy/J1530p2310_r_01_669_950_3.jpg\n",
      "/Users/valerier/Desktop/CSU/Machine Learning/Cutout Files/galaxy/J121929p47152_001_010_1167_1840_3.jpg\n",
      "/Users/valerier/Desktop/CSU/Machine Learning/Cutout Files/galaxy/J153044p231014_001_001_683_874_3.jpg\n",
      "/Users/valerier/Desktop/CSU/Machine Learning/Cutout Files/galaxy/J142943p385931_001_001_1567_758_3.jpg\n",
      "/Users/valerier/Desktop/CSU/Machine Learning/Cutout Files/galaxy/J1530p2310_r_01_928_670_3.jpg\n",
      "/Users/valerier/Desktop/CSU/Machine Learning/Cutout Files/galaxy/J121929p47152_001_010_1466_1734_3.jpg\n",
      "/Users/valerier/Desktop/CSU/Machine Learning/Cutout Files/galaxy/J161245p511816_001_010_373_640_3.jpg\n",
      "/Users/valerier/Desktop/CSU/Machine Learning/Cutout Files/galaxy/J140012p353930_001_001_1727_396_3.jpg\n",
      "/Users/valerier/Desktop/CSU/Machine Learning/Cutout Files/galaxy/J153044p231014_001_001_944_1849_3.jpg\n",
      "/Users/valerier/Desktop/CSU/Machine Learning/Cutout Files/galaxy/J1603p3002_001_010_511_1618_3.jpg\n",
      "/Users/valerier/Desktop/CSU/Machine Learning/Cutout Files/galaxy/J121929p47152_001_010_786_1956_3.jpg\n",
      "/Users/valerier/Desktop/CSU/Machine Learning/Cutout Files/galaxy/J153044p231014_001_001_104_488_3.jpg\n",
      "/Users/valerier/Desktop/CSU/Machine Learning/Cutout Files/galaxy/J142943p385931_001_001_961_1926_3.jpg\n",
      "/Users/valerier/Desktop/CSU/Machine Learning/Cutout Files/galaxy/J121929p47152_001_010_1873_583_3.jpg\n",
      "/Users/valerier/Desktop/CSU/Machine Learning/Cutout Files/galaxy/J140012p353930_001_001_399_1613_3.jpg\n",
      "/Users/valerier/Desktop/CSU/Machine Learning/Cutout Files/galaxy/j1612p5118_r_01_1789_855_3.jpg\n",
      "/Users/valerier/Desktop/CSU/Machine Learning/Cutout Files/galaxy/j1612p5118_r_01_868_990_3.jpg\n",
      "/Users/valerier/Desktop/CSU/Machine Learning/Cutout Files/galaxy/J1603p3002_001_010_570_1386_3.jpg\n",
      "/Users/valerier/Desktop/CSU/Machine Learning/Cutout Files/galaxy/J1603p3002_001_010_647_877_3.jpg\n",
      "/Users/valerier/Desktop/CSU/Machine Learning/Cutout Files/galaxy/J153044p231014_001_001_593_158_3.jpg\n",
      "/Users/valerier/Desktop/CSU/Machine Learning/Cutout Files/galaxy/j1612p5118_r_01_951_344_3.jpg\n",
      "/Users/valerier/Desktop/CSU/Machine Learning/Cutout Files/galaxy/J140012p353930_001_001_1338_1245_3.jpg\n",
      "/Users/valerier/Desktop/CSU/Machine Learning/Cutout Files/galaxy/J140012p353930_001_001_675_259_3.jpg\n",
      "/Users/valerier/Desktop/CSU/Machine Learning/Cutout Files/galaxy/J142943p385931_001_001_449_326_3.jpg\n",
      "/Users/valerier/Desktop/CSU/Machine Learning/Cutout Files/galaxy/J1603p3002_001_010_446_1832_3.jpg\n",
      "/Users/valerier/Desktop/CSU/Machine Learning/Cutout Files/galaxy/J125219p264053_001_010_1861_430_3.jpg\n",
      "/Users/valerier/Desktop/CSU/Machine Learning/Cutout Files/galaxy/J153044p231014_001_001_794_1561_3.jpg\n",
      "/Users/valerier/Desktop/CSU/Machine Learning/Cutout Files/galaxy/J121929p47152_001_010_1560_819_3.jpg\n",
      "/Users/valerier/Desktop/CSU/Machine Learning/Cutout Files/galaxy/J153044p231014_001_001_185_367_3.jpg\n",
      "/Users/valerier/Desktop/CSU/Machine Learning/Cutout Files/galaxy/J15050326_01_1005_1014_3.jpg\n",
      "/Users/valerier/Desktop/CSU/Machine Learning/Cutout Files/galaxy/J1603p3002_001_010_950_60_3.jpg\n",
      "/Users/valerier/Desktop/CSU/Machine Learning/Cutout Files/galaxy/J142943p385931_001_001_593_1791_3.jpg\n",
      "/Users/valerier/Desktop/CSU/Machine Learning/Cutout Files/galaxy/J1530p2310_r_01_1054_475_3.jpg\n",
      "/Users/valerier/Desktop/CSU/Machine Learning/Cutout Files/galaxy/J142943p385931_001_001_1082_498_3.jpg\n",
      "/Users/valerier/Desktop/CSU/Machine Learning/Cutout Files/galaxy/J125219p264053_001_010_1837_1202_3.jpg\n",
      "/Users/valerier/Desktop/CSU/Machine Learning/Cutout Files/galaxy/j1612p5118_r_01_1906_1345_3.jpg\n",
      "/Users/valerier/Desktop/CSU/Machine Learning/Cutout Files/galaxy/J140012p353930_001_001_166_603_3.jpg\n",
      "/Users/valerier/Desktop/CSU/Machine Learning/Cutout Files/galaxy/J1530p2310_r_01_822_1997_3.jpg\n",
      "/Users/valerier/Desktop/CSU/Machine Learning/Cutout Files/galaxy/j1612p5118_r_01_402_924_3.jpg\n",
      "/Users/valerier/Desktop/CSU/Machine Learning/Cutout Files/galaxy/J1530p2310_r_01_1470_1703_3.jpg\n",
      "/Users/valerier/Desktop/CSU/Machine Learning/Cutout Files/galaxy/J121929p47152_001_010_1803_727_3.jpg\n",
      "/Users/valerier/Desktop/CSU/Machine Learning/Cutout Files/galaxy/J140012p353930_001_001_777_713_3.jpg\n",
      "/Users/valerier/Desktop/CSU/Machine Learning/Cutout Files/galaxy/j1612p5118_r_01_1093_1581_3.jpg\n",
      "/Users/valerier/Desktop/CSU/Machine Learning/Cutout Files/galaxy/J1603p3002_001_010_676_1792_3.jpg\n",
      "/Users/valerier/Desktop/CSU/Machine Learning/Cutout Files/galaxy/J153044p231014_001_001_749_1469_3.jpg\n",
      "/Users/valerier/Desktop/CSU/Machine Learning/Cutout Files/galaxy/J153044p231014_001_001_1225_1322_3.jpg\n",
      "/Users/valerier/Desktop/CSU/Machine Learning/Cutout Files/galaxy/j1612p5118_r_01_934_859_3.jpg\n",
      "/Users/valerier/Desktop/CSU/Machine Learning/Cutout Files/galaxy/J140012p353930_001_001_909_72_3.jpg\n",
      "/Users/valerier/Desktop/CSU/Machine Learning/Cutout Files/galaxy/xo-1-R001_1162_1230_3.jpg\n",
      "/Users/valerier/Desktop/CSU/Machine Learning/Cutout Files/galaxy/J125219p264053_001_010_663_1013_3.jpg\n",
      "/Users/valerier/Desktop/CSU/Machine Learning/Cutout Files/galaxy/IC3521-H01_1449_1243_3.jpg\n",
      "/Users/valerier/Desktop/CSU/Machine Learning/Cutout Files/galaxy/J1530p2310_r_01_90_563_3.jpg\n",
      "/Users/valerier/Desktop/CSU/Machine Learning/Cutout Files/galaxy/J125219p264053_001_010_1419_1327_3.jpg\n",
      "/Users/valerier/Desktop/CSU/Machine Learning/Cutout Files/galaxy/J1603p3002_001_010_617_1785_3.jpg\n",
      "/Users/valerier/Desktop/CSU/Machine Learning/Cutout Files/galaxy/J1603p3002_001_010_1076_258_3.jpg\n",
      "/Users/valerier/Desktop/CSU/Machine Learning/Cutout Files/galaxy/J140012p353930_001_001_1444_1735_3.jpg\n",
      "/Users/valerier/Desktop/CSU/Machine Learning/Cutout Files/galaxy/J142943p385931_001_001_77_60_3.jpg\n",
      "/Users/valerier/Desktop/CSU/Machine Learning/Cutout Files/galaxy/J161245p511816_001_010_1152_1425_3.jpg\n",
      "/Users/valerier/Desktop/CSU/Machine Learning/Cutout Files/galaxy/J125219p264053_001_010_1600_1094_3.jpg\n",
      "/Users/valerier/Desktop/CSU/Machine Learning/Cutout Files/galaxy/J125219p264053_001_010_366_663_3.jpg\n",
      "/Users/valerier/Desktop/CSU/Machine Learning/Cutout Files/galaxy/j1612p5118_r_01_906_1948_3.jpg\n",
      "/Users/valerier/Desktop/CSU/Machine Learning/Cutout Files/galaxy/J161245p511816_001_010_472_1593_3.jpg\n",
      "/Users/valerier/Desktop/CSU/Machine Learning/Cutout Files/galaxy/J153044p231014_001_001_356_125_3.jpg\n",
      "/Users/valerier/Desktop/CSU/Machine Learning/Cutout Files/galaxy/J121929p47152_001_010_1259_1573_3.jpg\n",
      "/Users/valerier/Desktop/CSU/Machine Learning/Cutout Files/galaxy/J125219p264053_001_010_1716_866_3.jpg\n",
      "/Users/valerier/Desktop/CSU/Machine Learning/Cutout Files/galaxy/J142943p385931_001_001_1164_175_3.jpg\n",
      "/Users/valerier/Desktop/CSU/Machine Learning/Cutout Files/galaxy/j1612p5118_r_01_1646_180_3.jpg\n",
      "/Users/valerier/Desktop/CSU/Machine Learning/Cutout Files/galaxy/J153044p231014_001_001_1483_1627_3.jpg\n",
      "/Users/valerier/Desktop/CSU/Machine Learning/Cutout Files/galaxy/J121929p47152_001_010_1003_1275_3.jpg\n",
      "/Users/valerier/Desktop/CSU/Machine Learning/Cutout Files/galaxy/J142943p385931_001_001_1264_766_3.jpg\n",
      "/Users/valerier/Desktop/CSU/Machine Learning/Cutout Files/galaxy/IC745_H01_1372_890_3.jpg\n",
      "/Users/valerier/Desktop/CSU/Machine Learning/Cutout Files/galaxy/J1603p3002_001_010_1464_268_3.jpg\n",
      "/Users/valerier/Desktop/CSU/Machine Learning/Cutout Files/galaxy/j1612p5118_r_01_169_539_3.jpg\n",
      "/Users/valerier/Desktop/CSU/Machine Learning/Cutout Files/galaxy/J142943p385931_001_001_1210_1840_3.jpg\n",
      "/Users/valerier/Desktop/CSU/Machine Learning/Cutout Files/galaxy/J1603p3002_001_010_890_1441_3.jpg\n",
      "/Users/valerier/Desktop/CSU/Machine Learning/Cutout Files/galaxy/J121929p47152_001_010_1952_919_3.jpg\n",
      "/Users/valerier/Desktop/CSU/Machine Learning/Cutout Files/galaxy/j1612p5118_r_01_1162_1496_3.jpg\n",
      "/Users/valerier/Desktop/CSU/Machine Learning/Cutout Files/galaxy/J161245p511816_001_010_887_1247_3.jpg\n",
      "/Users/valerier/Desktop/CSU/Machine Learning/Cutout Files/galaxy/J1530p2310_r_01_1204_1425_3.jpg\n",
      "/Users/valerier/Desktop/CSU/Machine Learning/Cutout Files/galaxy/J140012p353930_001_001_544_1168_3.jpg\n",
      "/Users/valerier/Desktop/CSU/Machine Learning/Cutout Files/galaxy/j1612p5118_r_01_1049_116_3.jpg\n",
      "/Users/valerier/Desktop/CSU/Machine Learning/Cutout Files/galaxy/J153044p231014_001_001_1104_261_3.jpg\n",
      "/Users/valerier/Desktop/CSU/Machine Learning/Cutout Files/galaxy/J1530p2310_r_01_629_1156_3.jpg\n",
      "/Users/valerier/Desktop/CSU/Machine Learning/Cutout Files/galaxy/J153044p231014_001_001_577_187_3.jpg\n",
      "/Users/valerier/Desktop/CSU/Machine Learning/Cutout Files/galaxy/J153044p231014_001_001_131_677_3.jpg\n",
      "/Users/valerier/Desktop/CSU/Machine Learning/Cutout Files/galaxy/J1252p2640_r_01_10_368_810_3.jpg\n",
      "/Users/valerier/Desktop/CSU/Machine Learning/Cutout Files/galaxy/J142943p385931_001_001_280_860_3.jpg\n",
      "/Users/valerier/Desktop/CSU/Machine Learning/Cutout Files/galaxy/J125219p264053_001_010_423_1032_3.jpg\n",
      "/Users/valerier/Desktop/CSU/Machine Learning/Cutout Files/galaxy/J140012p353930_001_001_626_888_3.jpg\n",
      "/Users/valerier/Desktop/CSU/Machine Learning/Cutout Files/galaxy/j1612p5118_r_01_1734_1253_3.jpg\n",
      "/Users/valerier/Desktop/CSU/Machine Learning/Cutout Files/galaxy/J1603p3002_001_010_358_172_3.jpg\n",
      "/Users/valerier/Desktop/CSU/Machine Learning/Cutout Files/galaxy/J1252p2640_r_01_10_1385_1763_3.jpg\n",
      "/Users/valerier/Desktop/CSU/Machine Learning/Cutout Files/galaxy/J1603p3002_001_010_1890_847_3.jpg\n",
      "/Users/valerier/Desktop/CSU/Machine Learning/Cutout Files/galaxy/J142943p385931_001_001_908_1134_3.jpg\n",
      "/Users/valerier/Desktop/CSU/Machine Learning/Cutout Files/galaxy/j1612p5118_r_01_161_981_3.jpg\n",
      "/Users/valerier/Desktop/CSU/Machine Learning/Cutout Files/galaxy/J121929p47152_001_010_1261_1284_3.jpg\n",
      "/Users/valerier/Desktop/CSU/Machine Learning/Cutout Files/galaxy/J153044p231014_001_001_877_72_3.jpg\n",
      "/Users/valerier/Desktop/CSU/Machine Learning/Cutout Files/galaxy/J140012p353930_001_001_995_779_3.jpg\n",
      "/Users/valerier/Desktop/CSU/Machine Learning/Cutout Files/galaxy/J140012p353930_001_001_658_321_3.jpg\n",
      "/Users/valerier/Desktop/CSU/Machine Learning/Cutout Files/galaxy/J1603p3002_001_010_139_1077_3.jpg\n",
      "/Users/valerier/Desktop/CSU/Machine Learning/Cutout Files/galaxy/J140012p353930_001_001_361_591_3.jpg\n",
      "/Users/valerier/Desktop/CSU/Machine Learning/Cutout Files/galaxy/J125219p264053_001_010_1804_1074_3.jpg\n",
      "/Users/valerier/Desktop/CSU/Machine Learning/Cutout Files/galaxy/J153044p231014_001_001_643_1079_3.jpg\n",
      "/Users/valerier/Desktop/CSU/Machine Learning/Cutout Files/galaxy/J140012p353930_001_001_815_548_3.jpg\n",
      "/Users/valerier/Desktop/CSU/Machine Learning/Cutout Files/galaxy/J153044p231014_001_001_296_1594_3.jpg\n",
      "/Users/valerier/Desktop/CSU/Machine Learning/Cutout Files/galaxy/J125219p264053_001_010_1287_1128_3.jpg\n",
      "/Users/valerier/Desktop/CSU/Machine Learning/Cutout Files/galaxy/j1612p5118_r_01_1362_1587_3.jpg\n",
      "/Users/valerier/Desktop/CSU/Machine Learning/Cutout Files/galaxy/J153044p231014_001_001_184_732_3.jpg\n",
      "/Users/valerier/Desktop/CSU/Machine Learning/Cutout Files/galaxy/J1603p3002_001_010_1395_709_3.jpg\n",
      "/Users/valerier/Desktop/CSU/Machine Learning/Cutout Files/galaxy/sn12c01_03_816_681_3.jpg\n",
      "/Users/valerier/Desktop/CSU/Machine Learning/Cutout Files/galaxy/J1530p2310_r_01_1364_1052_3.jpg\n",
      "/Users/valerier/Desktop/CSU/Machine Learning/Cutout Files/galaxy/NGC3381-H01_267_1046_3.jpg\n",
      "/Users/valerier/Desktop/CSU/Machine Learning/Cutout Files/galaxy/J121929p47152_001_010_368_1696_3.jpg\n",
      "/Users/valerier/Desktop/CSU/Machine Learning/Cutout Files/galaxy/J1603p3002_001_010_1278_1325_3.jpg\n",
      "/Users/valerier/Desktop/CSU/Machine Learning/Cutout Files/galaxy/J142943p385931_001_001_406_307_3.jpg\n",
      "/Users/valerier/Desktop/CSU/Machine Learning/Cutout Files/galaxy/IC745_H01_683_1551_3.jpg\n",
      "/Users/valerier/Desktop/CSU/Machine Learning/Cutout Files/galaxy/J1603p3002_001_010_1113_1553_3.jpg\n",
      "/Users/valerier/Desktop/CSU/Machine Learning/Cutout Files/galaxy/J125219p264053_001_010_1079_1523_3.jpg\n",
      "/Users/valerier/Desktop/CSU/Machine Learning/Cutout Files/galaxy/j1612p5118_r_01_346_833_3.jpg\n",
      "/Users/valerier/Desktop/CSU/Machine Learning/Cutout Files/galaxy/J153044p231014_001_001_676_1282_3.jpg\n",
      "/Users/valerier/Desktop/CSU/Machine Learning/Cutout Files/galaxy/J153044p231014_001_001_371_204_3.jpg\n",
      "/Users/valerier/Desktop/CSU/Machine Learning/Cutout Files/galaxy/J1603p3002_001_010_1811_300_3.jpg\n",
      "/Users/valerier/Desktop/CSU/Machine Learning/Cutout Files/galaxy/J125219p264053_001_010_1553_500_3.jpg\n",
      "/Users/valerier/Desktop/CSU/Machine Learning/Cutout Files/galaxy/J125219p264053_001_010_231_1656_3.jpg\n",
      "/Users/valerier/Desktop/CSU/Machine Learning/Cutout Files/galaxy/J1603p3002_001_010_906_1710_3.jpg\n",
      "/Users/valerier/Desktop/CSU/Machine Learning/Cutout Files/galaxy/J1603p3002_001_010_507_1404_3.jpg\n",
      "/Users/valerier/Desktop/CSU/Machine Learning/Cutout Files/galaxy/J142943p385931_001_001_167_829_3.jpg\n",
      "/Users/valerier/Desktop/CSU/Machine Learning/Cutout Files/galaxy/J140012p353930_001_001_1899_720_3.jpg\n",
      "/Users/valerier/Desktop/CSU/Machine Learning/Cutout Files/galaxy/J1603p3002_001_010_95_241_3.jpg\n",
      "/Users/valerier/Desktop/CSU/Machine Learning/Cutout Files/galaxy/J125219p264053_001_010_325_194_3.jpg\n",
      "/Users/valerier/Desktop/CSU/Machine Learning/Cutout Files/galaxy/J125219p264053_001_010_737_1617_3.jpg\n",
      "/Users/valerier/Desktop/CSU/Machine Learning/Cutout Files/galaxy/J125219p264053_001_010_1931_1604_3.jpg\n",
      "/Users/valerier/Desktop/CSU/Machine Learning/Cutout Files/galaxy/J1603p3002_001_010_929_916_3.jpg\n",
      "/Users/valerier/Desktop/CSU/Machine Learning/Cutout Files/galaxy/IC745_H01_412_1000_3.jpg\n",
      "/Users/valerier/Desktop/CSU/Machine Learning/Cutout Files/galaxy/J125219p264053_001_010_318_710_3.jpg\n",
      "/Users/valerier/Desktop/CSU/Machine Learning/Cutout Files/galaxy/J153044p231014_001_001_351_865_3.jpg\n",
      "/Users/valerier/Desktop/CSU/Machine Learning/Cutout Files/galaxy/J161245p511816_001_010_1814_1451_3.jpg\n",
      "/Users/valerier/Desktop/CSU/Machine Learning/Cutout Files/galaxy/J142943p385931_001_001_1084_1791_3.jpg\n",
      "/Users/valerier/Desktop/CSU/Machine Learning/Cutout Files/galaxy/J140012p353930_001_001_699_1169_3.jpg\n",
      "/Users/valerier/Desktop/CSU/Machine Learning/Cutout Files/galaxy/J1603p3002_001_010_469_1219_3.jpg\n",
      "/Users/valerier/Desktop/CSU/Machine Learning/Cutout Files/galaxy/J140012p353930_001_001_527_444_3.jpg\n",
      "/Users/valerier/Desktop/CSU/Machine Learning/Cutout Files/galaxy/IC3521-H01_1399_1031_3.jpg\n",
      "/Users/valerier/Desktop/CSU/Machine Learning/Cutout Files/galaxy/J153044p231014_001_001_787_1348_3.jpg\n",
      "/Users/valerier/Desktop/CSU/Machine Learning/Cutout Files/galaxy/J1252p2640_r_01_10_426_1179_3.jpg\n",
      "/Users/valerier/Desktop/CSU/Machine Learning/Cutout Files/galaxy/J153044p231014_001_001_547_316_3.jpg\n",
      "/Users/valerier/Desktop/CSU/Machine Learning/Cutout Files/galaxy/J153044p231014_001_001_1057_299_3.jpg\n",
      "/Users/valerier/Desktop/CSU/Machine Learning/Cutout Files/galaxy/j1612p5118_r_01_400_871_3.jpg\n",
      "/Users/valerier/Desktop/CSU/Machine Learning/Cutout Files/galaxy/J140012p353930_001_001_154_624_3.jpg\n",
      "/Users/valerier/Desktop/CSU/Machine Learning/Cutout Files/galaxy/J1252p2640_r_01_10_798_901_3.jpg\n",
      "/Users/valerier/Desktop/CSU/Machine Learning/Cutout Files/galaxy/J1603p3002_001_010_654_315_3.jpg\n",
      "/Users/valerier/Desktop/CSU/Machine Learning/Cutout Files/galaxy/J1603p3002_001_010_1016_1670_3.jpg\n",
      "/Users/valerier/Desktop/CSU/Machine Learning/Cutout Files/galaxy/j1612p5118_r_01_704_224_3.jpg\n",
      "/Users/valerier/Desktop/CSU/Machine Learning/Cutout Files/galaxy/J153044p231014_001_001_304_500_3.jpg\n",
      "/Users/valerier/Desktop/CSU/Machine Learning/Cutout Files/galaxy/J125219p264053_001_010_1001_1245_3.jpg\n",
      "/Users/valerier/Desktop/CSU/Machine Learning/Cutout Files/galaxy/J153044p231014_001_001_455_597_3.jpg\n",
      "/Users/valerier/Desktop/CSU/Machine Learning/Cutout Files/galaxy/J153044p231014_001_001_219_738_3.jpg\n",
      "/Users/valerier/Desktop/CSU/Machine Learning/Cutout Files/galaxy/J1603p3002_001_010_1942_1146_3.jpg\n",
      "/Users/valerier/Desktop/CSU/Machine Learning/Cutout Files/galaxy/NGC3381-H01_184_918_3.jpg\n",
      "/Users/valerier/Desktop/CSU/Machine Learning/Cutout Files/galaxy/J153044p231014_001_001_1754_751_3.jpg\n",
      "/Users/valerier/Desktop/CSU/Machine Learning/Cutout Files/galaxy/J1603p3002_001_010_687_1155_3.jpg\n",
      "/Users/valerier/Desktop/CSU/Machine Learning/Cutout Files/galaxy/J121929p47152_001_010_1164_1872_3.jpg\n",
      "/Users/valerier/Desktop/CSU/Machine Learning/Cutout Files/galaxy/J1603p3002_001_010_1554_276_3.jpg\n",
      "/Users/valerier/Desktop/CSU/Machine Learning/Cutout Files/galaxy/J1603p3002_001_010_1325_441_3.jpg\n",
      "/Users/valerier/Desktop/CSU/Machine Learning/Cutout Files/galaxy/J153044p231014_001_001_562_243_3.jpg\n",
      "/Users/valerier/Desktop/CSU/Machine Learning/Cutout Files/galaxy/WR083_H01_722_1289_3.jpg\n",
      "/Users/valerier/Desktop/CSU/Machine Learning/Cutout Files/galaxy/J153044p231014_001_001_185_575_3.jpg\n",
      "/Users/valerier/Desktop/CSU/Machine Learning/Cutout Files/galaxy/J1603p3002_001_010_1138_1493_3.jpg\n",
      "/Users/valerier/Desktop/CSU/Machine Learning/Cutout Files/galaxy/J1603p3002_001_010_1793_1295_3.jpg\n",
      "/Users/valerier/Desktop/CSU/Machine Learning/Cutout Files/galaxy/J1603p3002_001_010_1798_501_3.jpg\n",
      "/Users/valerier/Desktop/CSU/Machine Learning/Cutout Files/galaxy/J142943p385931_001_001_675_1835_3.jpg\n",
      "/Users/valerier/Desktop/CSU/Machine Learning/Cutout Files/galaxy/J140012p353930_001_001_1845_1057_3.jpg\n",
      "/Users/valerier/Desktop/CSU/Machine Learning/Cutout Files/galaxy/j1612p5118_r_01_1174_1281_3.jpg\n",
      "/Users/valerier/Desktop/CSU/Machine Learning/Cutout Files/galaxy/J1603p3002_001_010_103_1289_3.jpg\n",
      "/Users/valerier/Desktop/CSU/Machine Learning/Cutout Files/galaxy/J161245p511816_001_010_1359_1290_3.jpg\n",
      "/Users/valerier/Desktop/CSU/Machine Learning/Cutout Files/galaxy/j1612p5118_r_01_71_612_3.jpg\n",
      "/Users/valerier/Desktop/CSU/Machine Learning/Cutout Files/galaxy/J140012p353930_001_001_364_446_3.jpg\n",
      "/Users/valerier/Desktop/CSU/Machine Learning/Cutout Files/galaxy/IC745_H01_1519_1266_3.jpg\n",
      "/Users/valerier/Desktop/CSU/Machine Learning/Cutout Files/galaxy/J1603p3002_001_010_1657_119_3.jpg\n",
      "/Users/valerier/Desktop/CSU/Machine Learning/Cutout Files/galaxy/J1530p2310_r_01_336_941_3.jpg\n",
      "/Users/valerier/Desktop/CSU/Machine Learning/Cutout Files/galaxy/J153044p231014_001_001_1098_878_3.jpg\n",
      "/Users/valerier/Desktop/CSU/Machine Learning/Cutout Files/galaxy/J142943p385931_001_001_808_1834_3.jpg\n",
      "/Users/valerier/Desktop/CSU/Machine Learning/Cutout Files/galaxy/sn12c01_03_1368_1343_3.jpg\n",
      "/Users/valerier/Desktop/CSU/Machine Learning/Cutout Files/galaxy/J1603p3002_001_010_826_1293_3.jpg\n",
      "/Users/valerier/Desktop/CSU/Machine Learning/Cutout Files/galaxy/Mrk475-H01_480_849_3.jpg\n",
      "/Users/valerier/Desktop/CSU/Machine Learning/Cutout Files/galaxy/j1612p5118_r_01_957_1198_3.jpg\n",
      "/Users/valerier/Desktop/CSU/Machine Learning/Cutout Files/galaxy/J1603p3002_001_010_828_1673_3.jpg\n",
      "/Users/valerier/Desktop/CSU/Machine Learning/Cutout Files/galaxy/J153044p231014_001_001_1378_977_3.jpg\n",
      "/Users/valerier/Desktop/CSU/Machine Learning/Cutout Files/galaxy/J121929p47152_001_010_1504_1453_3.jpg\n",
      "/Users/valerier/Desktop/CSU/Machine Learning/Cutout Files/galaxy/J125219p264053_001_010_1499_706_3.jpg\n",
      "/Users/valerier/Desktop/CSU/Machine Learning/Cutout Files/galaxy/J140012p353930_001_001_1747_1631_3.jpg\n",
      "/Users/valerier/Desktop/CSU/Machine Learning/Cutout Files/galaxy/J153044p231014_001_001_748_1832_3.jpg\n",
      "/Users/valerier/Desktop/CSU/Machine Learning/Cutout Files/galaxy/J140012p353930_001_001_1235_312_3.jpg\n",
      "/Users/valerier/Desktop/CSU/Machine Learning/Cutout Files/galaxy/J125219p264053_001_010_624_897_3.jpg\n",
      "/Users/valerier/Desktop/CSU/Machine Learning/Cutout Files/galaxy/J1530p2310_r_01_42_859_3.jpg\n",
      "/Users/valerier/Desktop/CSU/Machine Learning/Cutout Files/galaxy/J153044p231014_001_001_1843_272_3.jpg\n",
      "/Users/valerier/Desktop/CSU/Machine Learning/Cutout Files/galaxy/J161245p511816_001_010_986_735_3.jpg\n",
      "/Users/valerier/Desktop/CSU/Machine Learning/Cutout Files/galaxy/J153044p231014_001_001_1904_917_3.jpg\n",
      "/Users/valerier/Desktop/CSU/Machine Learning/Cutout Files/galaxy/J142943p385931_001_001_888_117_3.jpg\n",
      "/Users/valerier/Desktop/CSU/Machine Learning/Cutout Files/galaxy/J153044p231014_001_001_1041_311_3.jpg\n",
      "/Users/valerier/Desktop/CSU/Machine Learning/Cutout Files/galaxy/J140012p353930_001_001_1858_1569_3.jpg\n",
      "/Users/valerier/Desktop/CSU/Machine Learning/Cutout Files/galaxy/J125219p264053_001_010_326_1407_3.jpg\n",
      "/Users/valerier/Desktop/CSU/Machine Learning/Cutout Files/galaxy/j1612p5118_r_01_1111_659_3.jpg\n",
      "/Users/valerier/Desktop/CSU/Machine Learning/Cutout Files/galaxy/J1603p3002_001_010_1260_1333_3.jpg\n",
      "/Users/valerier/Desktop/CSU/Machine Learning/Cutout Files/galaxy/J161245p511816_001_010_1975_1971_3.jpg\n",
      "/Users/valerier/Desktop/CSU/Machine Learning/Cutout Files/galaxy/J142943p385931_001_001_548_1628_3.jpg\n",
      "/Users/valerier/Desktop/CSU/Machine Learning/Cutout Files/galaxy/J1603p3002_001_010_466_1386_3.jpg\n",
      "/Users/valerier/Desktop/CSU/Machine Learning/Cutout Files/galaxy/J121929p47152_001_010_1454_1007_3.jpg\n",
      "/Users/valerier/Desktop/CSU/Machine Learning/Cutout Files/galaxy/J161245p511816_001_010_806_605_3.jpg\n",
      "/Users/valerier/Desktop/CSU/Machine Learning/Cutout Files/galaxy/J1530p2310_r_01_171_651_3.jpg\n",
      "/Users/valerier/Desktop/CSU/Machine Learning/Cutout Files/galaxy/J153044p231014_001_001_1190_1430_3.jpg\n",
      "/Users/valerier/Desktop/CSU/Machine Learning/Cutout Files/galaxy/J1603p3002_001_010_668_1379_3.jpg\n",
      "/Users/valerier/Desktop/CSU/Machine Learning/Cutout Files/galaxy/J125219p264053_001_010_1606_733_3.jpg\n",
      "/Users/valerier/Desktop/CSU/Machine Learning/Cutout Files/galaxy/J125219p264053_001_010_877_1367_3.jpg\n",
      "/Users/valerier/Desktop/CSU/Machine Learning/Cutout Files/galaxy/J1603p3002_001_010_1531_331_3.jpg\n",
      "/Users/valerier/Desktop/CSU/Machine Learning/Cutout Files/galaxy/J153044p231014_001_001_1577_534_3.jpg\n",
      "/Users/valerier/Desktop/CSU/Machine Learning/Cutout Files/galaxy/J1603p3002_001_010_1447_1800_3.jpg\n",
      "/Users/valerier/Desktop/CSU/Machine Learning/Cutout Files/galaxy/J1603p3002_001_010_383_1355_3.jpg\n",
      "/Users/valerier/Desktop/CSU/Machine Learning/Cutout Files/galaxy/J161245p511816_001_010_924_112_3.jpg\n",
      "/Users/valerier/Desktop/CSU/Machine Learning/Cutout Files/galaxy/J161245p511816_001_010_1762_623_3.jpg\n",
      "/Users/valerier/Desktop/CSU/Machine Learning/Cutout Files/galaxy/J142943p385931_001_001_887_347_3.jpg\n",
      "/Users/valerier/Desktop/CSU/Machine Learning/Cutout Files/galaxy/J125219p264053_001_010_1702_1129_3.jpg\n",
      "/Users/valerier/Desktop/CSU/Machine Learning/Cutout Files/galaxy/J142943p385931_001_001_1125_146_3.jpg\n",
      "/Users/valerier/Desktop/CSU/Machine Learning/Cutout Files/galaxy/J153044p231014_001_001_942_594_3.jpg\n",
      "/Users/valerier/Desktop/CSU/Machine Learning/Cutout Files/galaxy/J121929p47152_001_010_1472_1749_3.jpg\n",
      "/Users/valerier/Desktop/CSU/Machine Learning/Cutout Files/galaxy/J142943p385931_001_001_803_1886_3.jpg\n",
      "/Users/valerier/Desktop/CSU/Machine Learning/Cutout Files/galaxy/j1612p5118_r_01_595_86_3.jpg\n",
      "/Users/valerier/Desktop/CSU/Machine Learning/Cutout Files/galaxy/xo-1-R001_1292_1285_3.jpg\n",
      "/Users/valerier/Desktop/CSU/Machine Learning/Cutout Files/galaxy/J1603p3002_001_010_1380_1801_3.jpg\n",
      "/Users/valerier/Desktop/CSU/Machine Learning/Cutout Files/galaxy/j1612p5118_r_01_1067_1244_3.jpg\n",
      "/Users/valerier/Desktop/CSU/Machine Learning/Cutout Files/galaxy/J1603p3002_001_010_513_1465_3.jpg\n",
      "/Users/valerier/Desktop/CSU/Machine Learning/Cutout Files/galaxy/sn12c01_03_1012_1178_3.jpg\n",
      "/Users/valerier/Desktop/CSU/Machine Learning/Cutout Files/galaxy/J121929p47152_001_010_1385_1772_3.jpg\n",
      "/Users/valerier/Desktop/CSU/Machine Learning/Cutout Files/galaxy/J153044p231014_001_001_565_2002_3.jpg\n",
      "/Users/valerier/Desktop/CSU/Machine Learning/Cutout Files/galaxy/J125219p264053_001_010_1122_1287_3.jpg\n",
      "/Users/valerier/Desktop/CSU/Machine Learning/Cutout Files/galaxy/J1603p3002_001_010_1682_1682_3.jpg\n",
      "/Users/valerier/Desktop/CSU/Machine Learning/Cutout Files/galaxy/J161245p511816_001_010_285_676_3.jpg\n",
      "/Users/valerier/Desktop/CSU/Machine Learning/Cutout Files/galaxy/J153044p231014_001_001_1391_1203_3.jpg\n",
      "/Users/valerier/Desktop/CSU/Machine Learning/Cutout Files/galaxy/J153044p231014_001_001_126_547_3.jpg\n",
      "/Users/valerier/Desktop/CSU/Machine Learning/Cutout Files/galaxy/J140012p353930_001_001_1931_678_3.jpg\n",
      "/Users/valerier/Desktop/CSU/Machine Learning/Cutout Files/galaxy/J142943p385931_001_001_1704_1077_3.jpg\n",
      "/Users/valerier/Desktop/CSU/Machine Learning/Cutout Files/galaxy/J142943p385931_001_001_1619_511_3.jpg\n",
      "/Users/valerier/Desktop/CSU/Machine Learning/Cutout Files/galaxy/J125219p264053_001_010_1228_1342_3.jpg\n",
      "/Users/valerier/Desktop/CSU/Machine Learning/Cutout Files/galaxy/J125219p264053_001_010_1086_297_3.jpg\n",
      "/Users/valerier/Desktop/CSU/Machine Learning/Cutout Files/galaxy/J1603p3002_001_010_1313_786_3.jpg\n",
      "/Users/valerier/Desktop/CSU/Machine Learning/Cutout Files/galaxy/J142943p385931_001_001_680_1749_3.jpg\n",
      "/Users/valerier/Desktop/CSU/Machine Learning/Cutout Files/galaxy/J140012p353930_001_001_1810_1118_3.jpg\n",
      "/Users/valerier/Desktop/CSU/Machine Learning/Cutout Files/galaxy/J142943p385931_001_001_298_808_3.jpg\n",
      "/Users/valerier/Desktop/CSU/Machine Learning/Cutout Files/galaxy/J125219p264053_001_010_895_225_3.jpg\n",
      "/Users/valerier/Desktop/CSU/Machine Learning/Cutout Files/galaxy/J142943p385931_001_001_1062_424_3.jpg\n",
      "/Users/valerier/Desktop/CSU/Machine Learning/Cutout Files/galaxy/J121929p47152_001_010_820_1548_3.jpg\n",
      "/Users/valerier/Desktop/CSU/Machine Learning/Cutout Files/galaxy/J140012p353930_001_001_138_565_3.jpg\n",
      "/Users/valerier/Desktop/CSU/Machine Learning/Cutout Files/galaxy/J161245p511816_001_010_374_693_3.jpg\n",
      "/Users/valerier/Desktop/CSU/Machine Learning/Cutout Files/galaxy/j1612p5118_r_01_1295_680_3.jpg\n",
      "/Users/valerier/Desktop/CSU/Machine Learning/Cutout Files/galaxy/J142943p385931_001_001_631_1183_3.jpg\n",
      "/Users/valerier/Desktop/CSU/Machine Learning/Cutout Files/galaxy/J161245p511816_001_010_1268_448_3.jpg\n",
      "/Users/valerier/Desktop/CSU/Machine Learning/Cutout Files/galaxy/J161245p511816_001_010_575_712_3.jpg\n",
      "/Users/valerier/Desktop/CSU/Machine Learning/Cutout Files/galaxy/J125219p264053_001_010_693_561_3.jpg\n",
      "/Users/valerier/Desktop/CSU/Machine Learning/Cutout Files/galaxy/WR083_H01_1064_1490_3.jpg\n",
      "/Users/valerier/Desktop/CSU/Machine Learning/Cutout Files/galaxy/j1612p5118_r_01_1214_1489_3.jpg\n",
      "/Users/valerier/Desktop/CSU/Machine Learning/Cutout Files/galaxy/J125219p264053_001_010_1245_1186_3.jpg\n",
      "/Users/valerier/Desktop/CSU/Machine Learning/Cutout Files/galaxy/J153044p231014_001_001_928_750_3.jpg\n",
      "/Users/valerier/Desktop/CSU/Machine Learning/Cutout Files/galaxy/J1603p3002_001_010_676_851_3.jpg\n",
      "/Users/valerier/Desktop/CSU/Machine Learning/Cutout Files/galaxy/NGC3381-H01_620_957_3.jpg\n",
      "/Users/valerier/Desktop/CSU/Machine Learning/Cutout Files/galaxy/J125219p264053_001_010_1039_1583_3.jpg\n",
      "/Users/valerier/Desktop/CSU/Machine Learning/Cutout Files/galaxy/J1252p2640_r_01_10_1686_862_3.jpg\n",
      "/Users/valerier/Desktop/CSU/Machine Learning/Cutout Files/galaxy/J153044p231014_001_001_982_322_3.jpg\n",
      "/Users/valerier/Desktop/CSU/Machine Learning/Cutout Files/galaxy/WR083_H01_1172_1792_3.jpg\n",
      "/Users/valerier/Desktop/CSU/Machine Learning/Cutout Files/galaxy/J15050326_01_1771_587_3.jpg\n",
      "/Users/valerier/Desktop/CSU/Machine Learning/Cutout Files/galaxy/J1603p3002_001_010_1364_1952_3.jpg\n",
      "/Users/valerier/Desktop/CSU/Machine Learning/Cutout Files/galaxy/J153044p231014_001_001_1846_584_3.jpg\n",
      "/Users/valerier/Desktop/CSU/Machine Learning/Cutout Files/galaxy/J1530p2310_r_01_170_809_3.jpg\n",
      "/Users/valerier/Desktop/CSU/Machine Learning/Cutout Files/galaxy/J1603p3002_001_010_324_1885_3.jpg\n",
      "/Users/valerier/Desktop/CSU/Machine Learning/Cutout Files/galaxy/J140012p353930_001_001_923_1550_3.jpg\n",
      "/Users/valerier/Desktop/CSU/Machine Learning/Cutout Files/galaxy/J1603p3002_001_010_499_904_3.jpg\n",
      "/Users/valerier/Desktop/CSU/Machine Learning/Cutout Files/galaxy/J1603p3002_001_010_1089_1558_3.jpg\n",
      "/Users/valerier/Desktop/CSU/Machine Learning/Cutout Files/galaxy/J161245p511816_001_010_674_939_3.jpg\n",
      "/Users/valerier/Desktop/CSU/Machine Learning/Cutout Files/galaxy/J140012p353930_001_001_274_1207_3.jpg\n",
      "/Users/valerier/Desktop/CSU/Machine Learning/Cutout Files/galaxy/NGC5147_H01_1880_1910_3.jpg\n",
      "/Users/valerier/Desktop/CSU/Machine Learning/Cutout Files/galaxy/J1252p2640_r_01_10_1864_578_3.jpg\n",
      "/Users/valerier/Desktop/CSU/Machine Learning/Cutout Files/galaxy/J125219p264053_001_010_1640_225_3.jpg\n",
      "/Users/valerier/Desktop/CSU/Machine Learning/Cutout Files/galaxy/J142943p385931_001_001_1598_1045_3.jpg\n",
      "/Users/valerier/Desktop/CSU/Machine Learning/Cutout Files/galaxy/J161245p511816_001_010_1879_1113_3.jpg\n",
      "/Users/valerier/Desktop/CSU/Machine Learning/Cutout Files/galaxy/J1603p3002_001_010_1618_703_3.jpg\n",
      "/Users/valerier/Desktop/CSU/Machine Learning/Cutout Files/galaxy/J125219p264053_001_010_609_198_3.jpg\n",
      "/Users/valerier/Desktop/CSU/Machine Learning/Cutout Files/galaxy/NGC5665-H01_816_789_3.jpg\n",
      "/Users/valerier/Desktop/CSU/Machine Learning/Cutout Files/galaxy/J125219p264053_001_010_356_1296_3.jpg\n",
      "/Users/valerier/Desktop/CSU/Machine Learning/Cutout Files/galaxy/WR083_H01_1020_1187_3.jpg\n",
      "/Users/valerier/Desktop/CSU/Machine Learning/Cutout Files/galaxy/J1603p3002_001_010_1465_1649_3.jpg\n",
      "/Users/valerier/Desktop/CSU/Machine Learning/Cutout Files/galaxy/J1530p2310_r_01_1721_833_3.jpg\n",
      "/Users/valerier/Desktop/CSU/Machine Learning/Cutout Files/galaxy/J161245p511816_001_010_1070_458_3.jpg\n",
      "/Users/valerier/Desktop/CSU/Machine Learning/Cutout Files/galaxy/J153044p231014_001_001_1704_1178_3.jpg\n",
      "/Users/valerier/Desktop/CSU/Machine Learning/Cutout Files/galaxy/J140012p353930_001_001_1881_697_3.jpg\n",
      "/Users/valerier/Desktop/CSU/Machine Learning/Cutout Files/galaxy/J142943p385931_001_001_898_177_3.jpg\n",
      "/Users/valerier/Desktop/CSU/Machine Learning/Cutout Files/galaxy/J121929p47152_001_010_1652_851_3.jpg\n",
      "/Users/valerier/Desktop/CSU/Machine Learning/Cutout Files/galaxy/J125219p264053_001_010_578_1739_3.jpg\n",
      "/Users/valerier/Desktop/CSU/Machine Learning/Cutout Files/galaxy/J1530p2310_r_01_812_1800_3.jpg\n",
      "/Users/valerier/Desktop/CSU/Machine Learning/Cutout Files/galaxy/J1603p3002_001_010_1990_903_3.jpg\n",
      "/Users/valerier/Desktop/CSU/Machine Learning/Cutout Files/galaxy/J140012p353930_001_001_254_906_3.jpg\n",
      "/Users/valerier/Desktop/CSU/Machine Learning/Cutout Files/galaxy/J1603p3002_001_010_1119_1050_3.jpg\n",
      "/Users/valerier/Desktop/CSU/Machine Learning/Cutout Files/galaxy/J153044p231014_001_001_114_1214_3.jpg\n",
      "/Users/valerier/Desktop/CSU/Machine Learning/Cutout Files/galaxy/J153044p231014_001_001_986_1531_3.jpg\n",
      "/Users/valerier/Desktop/CSU/Machine Learning/Cutout Files/galaxy/J142943p385931_001_001_549_1768_3.jpg\n",
      "/Users/valerier/Desktop/CSU/Machine Learning/Cutout Files/galaxy/J1530p2310_r_01_251_1751_3.jpg\n",
      "/Users/valerier/Desktop/CSU/Machine Learning/Cutout Files/galaxy/j1612p5118_r_01_92_872_3.jpg\n",
      "/Users/valerier/Desktop/CSU/Machine Learning/Cutout Files/galaxy/J142943p385931_001_001_386_1756_3.jpg\n",
      "/Users/valerier/Desktop/CSU/Machine Learning/Cutout Files/galaxy/J142943p385931_001_001_747_1688_3.jpg\n",
      "/Users/valerier/Desktop/CSU/Machine Learning/Cutout Files/galaxy/j1612p5118_r_01_914_1479_3.jpg\n",
      "/Users/valerier/Desktop/CSU/Machine Learning/Cutout Files/galaxy/j1612p5118_r_01_742_800_3.jpg\n",
      "/Users/valerier/Desktop/CSU/Machine Learning/Cutout Files/galaxy/J125219p264053_001_010_1172_1897_3.jpg\n",
      "/Users/valerier/Desktop/CSU/Machine Learning/Cutout Files/galaxy/sn12c01_03_1794_728_3.jpg\n",
      "/Users/valerier/Desktop/CSU/Machine Learning/Cutout Files/galaxy/WR083_H01_1019_1174_3.jpg\n",
      "/Users/valerier/Desktop/CSU/Machine Learning/Cutout Files/galaxy/J125219p264053_001_010_1647_1869_3.jpg\n",
      "/Users/valerier/Desktop/CSU/Machine Learning/Cutout Files/galaxy/J142943p385931_001_001_615_1794_3.jpg\n",
      "/Users/valerier/Desktop/CSU/Machine Learning/Cutout Files/galaxy/J1603p3002_001_010_700_1480_3.jpg\n",
      "/Users/valerier/Desktop/CSU/Machine Learning/Cutout Files/galaxy/J1530p2310_r_01_1144_499_3.jpg\n",
      "/Users/valerier/Desktop/CSU/Machine Learning/Cutout Files/galaxy/xo-1-R001_68_212_3.jpg\n",
      "/Users/valerier/Desktop/CSU/Machine Learning/Cutout Files/galaxy/j1612p5118_r_01_564_1802_3.jpg\n",
      "/Users/valerier/Desktop/CSU/Machine Learning/Cutout Files/galaxy/J153044p231014_001_001_1412_139_3.jpg\n",
      "/Users/valerier/Desktop/CSU/Machine Learning/Cutout Files/galaxy/J142943p385931_001_001_1206_923_3.jpg\n",
      "/Users/valerier/Desktop/CSU/Machine Learning/Cutout Files/galaxy/J125219p264053_001_010_1434_1592_3.jpg\n",
      "/Users/valerier/Desktop/CSU/Machine Learning/Cutout Files/galaxy/J1603p3002_001_010_1031_1636_3.jpg\n",
      "/Users/valerier/Desktop/CSU/Machine Learning/Cutout Files/galaxy/J1603p3002_001_010_1618_598_3.jpg\n",
      "/Users/valerier/Desktop/CSU/Machine Learning/Cutout Files/galaxy/J153044p231014_001_001_1042_99_3.jpg\n",
      "/Users/valerier/Desktop/CSU/Machine Learning/Cutout Files/galaxy/J142943p385931_001_001_687_1629_3.jpg\n",
      "/Users/valerier/Desktop/CSU/Machine Learning/Cutout Files/galaxy/J125219p264053_001_010_990_1323_3.jpg\n",
      "/Users/valerier/Desktop/CSU/Machine Learning/Cutout Files/galaxy/J161245p511816_001_010_1151_631_3.jpg\n",
      "/Users/valerier/Desktop/CSU/Machine Learning/Cutout Files/galaxy/J1603p3002_001_010_1474_1674_3.jpg\n",
      "/Users/valerier/Desktop/CSU/Machine Learning/Cutout Files/galaxy/NGC5147_H01_1489_1062_3.jpg\n",
      "/Users/valerier/Desktop/CSU/Machine Learning/Cutout Files/galaxy/j1612p5118_r_01_701_1171_3.jpg\n",
      "/Users/valerier/Desktop/CSU/Machine Learning/Cutout Files/galaxy/J153044p231014_001_001_1346_670_3.jpg\n",
      "/Users/valerier/Desktop/CSU/Machine Learning/Cutout Files/galaxy/J153044p231014_001_001_1008_1369_3.jpg\n",
      "/Users/valerier/Desktop/CSU/Machine Learning/Cutout Files/galaxy/J153044p231014_001_001_358_886_3.jpg\n",
      "/Users/valerier/Desktop/CSU/Machine Learning/Cutout Files/galaxy/WR083_H01_709_749_3.jpg\n",
      "/Users/valerier/Desktop/CSU/Machine Learning/Cutout Files/galaxy/J1530p2310_r_01_171_443_3.jpg\n",
      "/Users/valerier/Desktop/CSU/Machine Learning/Cutout Files/galaxy/J142943p385931_001_001_1429_1617_3.jpg\n",
      "/Users/valerier/Desktop/CSU/Machine Learning/Cutout Files/galaxy/J1252p2640_r_01_10_327_341_3.jpg\n",
      "/Users/valerier/Desktop/CSU/Machine Learning/Cutout Files/galaxy/J1603p3002_001_010_195_962_3.jpg\n",
      "/Users/valerier/Desktop/CSU/Machine Learning/Cutout Files/galaxy/J125219p264053_001_010_380_626_3.jpg\n",
      "/Users/valerier/Desktop/CSU/Machine Learning/Cutout Files/galaxy/J153044p231014_001_001_1795_1335_3.jpg\n",
      "/Users/valerier/Desktop/CSU/Machine Learning/Cutout Files/galaxy/J1530p2310_r_01_415_195_3.jpg\n",
      "/Users/valerier/Desktop/CSU/Machine Learning/Cutout Files/galaxy/J142943p385931_001_001_198_622_3.jpg\n",
      "/Users/valerier/Desktop/CSU/Machine Learning/Cutout Files/galaxy/J142943p385931_001_001_671_1523_3.jpg\n",
      "/Users/valerier/Desktop/CSU/Machine Learning/Cutout Files/galaxy/J161245p511816_001_010_1456_1729_3.jpg\n",
      "/Users/valerier/Desktop/CSU/Machine Learning/Cutout Files/galaxy/j1612p5118_r_01_313_908_3.jpg\n",
      "/Users/valerier/Desktop/CSU/Machine Learning/Cutout Files/galaxy/J1530p2310_r_01_413_486_3.jpg\n",
      "/Users/valerier/Desktop/CSU/Machine Learning/Cutout Files/galaxy/j1612p5118_r_01_75_1471_3.jpg\n",
      "/Users/valerier/Desktop/CSU/Machine Learning/Cutout Files/galaxy/J125219p264053_001_010_1861_996_3.jpg\n",
      "/Users/valerier/Desktop/CSU/Machine Learning/Cutout Files/galaxy/J140012p353930_001_001_1818_867_3.jpg\n",
      "/Users/valerier/Desktop/CSU/Machine Learning/Cutout Files/galaxy/J121929p47152_001_010_1666_994_3.jpg\n",
      "/Users/valerier/Desktop/CSU/Machine Learning/Cutout Files/galaxy/NGC5665-H01_1401_946_3.jpg\n",
      "/Users/valerier/Desktop/CSU/Machine Learning/Cutout Files/galaxy/J1530p2310_r_01_562_264_3.jpg\n",
      "/Users/valerier/Desktop/CSU/Machine Learning/Cutout Files/galaxy/J161245p511816_001_010_909_1096_3.jpg\n",
      "/Users/valerier/Desktop/CSU/Machine Learning/Cutout Files/galaxy/j1612p5118_r_01_339_1340_3.jpg\n",
      "/Users/valerier/Desktop/CSU/Machine Learning/Cutout Files/galaxy/J142943p385931_001_001_1671_1783_3.jpg\n",
      "/Users/valerier/Desktop/CSU/Machine Learning/Cutout Files/galaxy/J161245p511816_001_010_1335_1354_3.jpg\n",
      "/Users/valerier/Desktop/CSU/Machine Learning/Cutout Files/galaxy/J1530p2310_r_01_713_348_3.jpg\n",
      "/Users/valerier/Desktop/CSU/Machine Learning/Cutout Files/galaxy/J125219p264053_001_010_591_576_3.jpg\n",
      "/Users/valerier/Desktop/CSU/Machine Learning/Cutout Files/galaxy/J125219p264053_001_010_925_1504_3.jpg\n",
      "/Users/valerier/Desktop/CSU/Machine Learning/Cutout Files/galaxy/WR083_H01_1836_78_3.jpg\n",
      "/Users/valerier/Desktop/CSU/Machine Learning/Cutout Files/galaxy/xo-1-R001_1427_258_3.jpg\n",
      "/Users/valerier/Desktop/CSU/Machine Learning/Cutout Files/galaxy/J1603p3002_001_010_544_486_3.jpg\n",
      "/Users/valerier/Desktop/CSU/Machine Learning/Cutout Files/galaxy/J125219p264053_001_010_548_136_3.jpg\n",
      "/Users/valerier/Desktop/CSU/Machine Learning/Cutout Files/galaxy/J1603p3002_001_010_1165_1518_3.jpg\n",
      "/Users/valerier/Desktop/CSU/Machine Learning/Cutout Files/galaxy/J1530p2310_r_01_367_389_3.jpg\n",
      "/Users/valerier/Desktop/CSU/Machine Learning/Cutout Files/galaxy/J153044p231014_001_001_625_119_3.jpg\n",
      "/Users/valerier/Desktop/CSU/Machine Learning/Cutout Files/galaxy/j1612p5118_r_01_1611_133_3.jpg\n",
      "/Users/valerier/Desktop/CSU/Machine Learning/Cutout Files/galaxy/J161245p511816_001_010_1187_1257_3.jpg\n",
      "/Users/valerier/Desktop/CSU/Machine Learning/Cutout Files/galaxy/J140012p353930_001_001_962_181_3.jpg\n",
      "/Users/valerier/Desktop/CSU/Machine Learning/Cutout Files/galaxy/J1530p2310_r_01_713_371_3.jpg\n",
      "/Users/valerier/Desktop/CSU/Machine Learning/Cutout Files/galaxy/J1603p3002_001_010_387_1372_3.jpg\n",
      "/Users/valerier/Desktop/CSU/Machine Learning/Cutout Files/galaxy/J1603p3002_001_010_1706_508_3.jpg\n",
      "/Users/valerier/Desktop/CSU/Machine Learning/Cutout Files/galaxy/J1530p2310_r_01_297_383_3.jpg\n",
      "/Users/valerier/Desktop/CSU/Machine Learning/Cutout Files/galaxy/J153044p231014_001_001_1217_1349_3.jpg\n",
      "/Users/valerier/Desktop/CSU/Machine Learning/Cutout Files/galaxy/J125219p264053_001_010_1079_531_3.jpg\n",
      "/Users/valerier/Desktop/CSU/Machine Learning/Cutout Files/galaxy/J1530p2310_r_01_1238_1376_3.jpg\n",
      "/Users/valerier/Desktop/CSU/Machine Learning/Cutout Files/galaxy/J125219p264053_001_010_1683_715_3.jpg\n",
      "/Users/valerier/Desktop/CSU/Machine Learning/Cutout Files/galaxy/J161245p511816_001_010_930_966_3.jpg\n",
      "/Users/valerier/Desktop/CSU/Machine Learning/Cutout Files/galaxy/J1252p2640_r_01_10_1299_625_3.jpg\n",
      "/Users/valerier/Desktop/CSU/Machine Learning/Cutout Files/galaxy/J1530p2310_r_01_1269_81_3.jpg\n",
      "/Users/valerier/Desktop/CSU/Machine Learning/Cutout Files/galaxy/J1603p3002_001_010_534_214_3.jpg\n",
      "/Users/valerier/Desktop/CSU/Machine Learning/Cutout Files/galaxy/J161245p511816_001_010_1147_1049_3.jpg\n",
      "/Users/valerier/Desktop/CSU/Machine Learning/Cutout Files/galaxy/NGC3381-H01_873_1662_3.jpg\n",
      "/Users/valerier/Desktop/CSU/Machine Learning/Cutout Files/galaxy/J140012p353930_001_001_937_911_3.jpg\n",
      "/Users/valerier/Desktop/CSU/Machine Learning/Cutout Files/galaxy/J1603p3002_001_010_1224_1432_3.jpg\n",
      "/Users/valerier/Desktop/CSU/Machine Learning/Cutout Files/galaxy/J15050326_01_1513_1128_3.jpg\n",
      "/Users/valerier/Desktop/CSU/Machine Learning/Cutout Files/galaxy/J142943p385931_001_001_1891_152_3.jpg\n",
      "/Users/valerier/Desktop/CSU/Machine Learning/Cutout Files/galaxy/sn12c01_03_1733_735_3.jpg\n",
      "/Users/valerier/Desktop/CSU/Machine Learning/Cutout Files/galaxy/J1530p2310_r_01_968_398_3.jpg\n",
      "/Users/valerier/Desktop/CSU/Machine Learning/Cutout Files/galaxy/j1612p5118_r_01_667_1596_3.jpg\n",
      "/Users/valerier/Desktop/CSU/Machine Learning/Cutout Files/galaxy/J1603p3002_001_010_1011_1746_3.jpg\n",
      "/Users/valerier/Desktop/CSU/Machine Learning/Cutout Files/galaxy/J140012p353930_001_001_1274_908_3.jpg\n",
      "/Users/valerier/Desktop/CSU/Machine Learning/Cutout Files/galaxy/J142943p385931_001_001_1867_1378_3.jpg\n",
      "/Users/valerier/Desktop/CSU/Machine Learning/Cutout Files/galaxy/J1530p2310_r_01_1563_610_3.jpg\n",
      "/Users/valerier/Desktop/CSU/Machine Learning/Cutout Files/galaxy/J125219p264053_001_010_1461_1476_3.jpg\n",
      "/Users/valerier/Desktop/CSU/Machine Learning/Cutout Files/galaxy/J121929p47152_001_010_1443_622_3.jpg\n",
      "/Users/valerier/Desktop/CSU/Machine Learning/Cutout Files/galaxy/J142943p385931_001_001_785_805_3.jpg\n",
      "/Users/valerier/Desktop/CSU/Machine Learning/Cutout Files/galaxy/J153044p231014_001_001_367_75_3.jpg\n",
      "/Users/valerier/Desktop/CSU/Machine Learning/Cutout Files/galaxy/J153044p231014_001_001_714_303_3.jpg\n",
      "/Users/valerier/Desktop/CSU/Machine Learning/Cutout Files/galaxy/J125219p264053_001_010_591_556_3.jpg\n",
      "/Users/valerier/Desktop/CSU/Machine Learning/Cutout Files/galaxy/J161245p511816_001_010_1176_457_3.jpg\n",
      "/Users/valerier/Desktop/CSU/Machine Learning/Cutout Files/galaxy/J140012p353930_001_001_599_182_3.jpg\n",
      "/Users/valerier/Desktop/CSU/Machine Learning/Cutout Files/galaxy/J142943p385931_001_001_1647_1904_3.jpg\n",
      "/Users/valerier/Desktop/CSU/Machine Learning/Cutout Files/galaxy/J142943p385931_001_001_1288_1816_3.jpg\n",
      "/Users/valerier/Desktop/CSU/Machine Learning/Cutout Files/galaxy/J1603p3002_001_010_38_666_3.jpg\n",
      "/Users/valerier/Desktop/CSU/Machine Learning/Cutout Files/galaxy/J140012p353930_001_001_535_432_3.jpg\n",
      "/Users/valerier/Desktop/CSU/Machine Learning/Cutout Files/galaxy/J142943p385931_001_001_1392_1749_3.jpg\n",
      "/Users/valerier/Desktop/CSU/Machine Learning/Cutout Files/galaxy/J142943p385931_001_001_614_474_3.jpg\n",
      "/Users/valerier/Desktop/CSU/Machine Learning/Cutout Files/galaxy/J161245p511816_001_010_1778_1194_3.jpg\n",
      "/Users/valerier/Desktop/CSU/Machine Learning/Cutout Files/galaxy/J153044p231014_001_001_957_390_3.jpg\n",
      "/Users/valerier/Desktop/CSU/Machine Learning/Cutout Files/galaxy/J140012p353930_001_001_1709_1467_3.jpg\n",
      "/Users/valerier/Desktop/CSU/Machine Learning/Cutout Files/galaxy/UM439-H01_498_778_3.jpg\n",
      "/Users/valerier/Desktop/CSU/Machine Learning/Cutout Files/galaxy/WR083_H01_1312_1015_3.jpg\n",
      "/Users/valerier/Desktop/CSU/Machine Learning/Cutout Files/galaxy/J125219p264053_001_010_1393_856_3.jpg\n",
      "/Users/valerier/Desktop/CSU/Machine Learning/Cutout Files/galaxy/IC3521-H01_1260_751_3.jpg\n",
      "/Users/valerier/Desktop/CSU/Machine Learning/Cutout Files/galaxy/J1252p2640_r_01_10_1290_1275_3.jpg\n",
      "/Users/valerier/Desktop/CSU/Machine Learning/Cutout Files/galaxy/J15050326_01_1914_1332_3.jpg\n",
      "/Users/valerier/Desktop/CSU/Machine Learning/Cutout Files/galaxy/j1612p5118_r_01_1709_552_3.jpg\n",
      "/Users/valerier/Desktop/CSU/Machine Learning/Cutout Files/galaxy/J1603p3002_001_010_978_826_3.jpg\n",
      "/Users/valerier/Desktop/CSU/Machine Learning/Cutout Files/galaxy/J161245p511816_001_010_1066_1350_3.jpg\n",
      "/Users/valerier/Desktop/CSU/Machine Learning/Cutout Files/galaxy/j1612p5118_r_01_1178_862_3.jpg\n",
      "/Users/valerier/Desktop/CSU/Machine Learning/Cutout Files/galaxy/J1530p2310_r_01_1740_827_3.jpg\n",
      "/Users/valerier/Desktop/CSU/Machine Learning/Cutout Files/galaxy/J1530p2310_r_01_289_576_3.jpg\n",
      "/Users/valerier/Desktop/CSU/Machine Learning/Cutout Files/galaxy/J1530p2310_r_01_92_1222_3.jpg\n",
      "/Users/valerier/Desktop/CSU/Machine Learning/Cutout Files/galaxy/J153044p231014_001_001_535_1300_3.jpg\n",
      "/Users/valerier/Desktop/CSU/Machine Learning/Cutout Files/galaxy/J153044p231014_001_001_316_531_3.jpg\n",
      "/Users/valerier/Desktop/CSU/Machine Learning/Cutout Files/galaxy/J161245p511816_001_010_445_1988_3.jpg\n",
      "/Users/valerier/Desktop/CSU/Machine Learning/Cutout Files/galaxy/J142943p385931_001_001_707_1331_3.jpg\n",
      "/Users/valerier/Desktop/CSU/Machine Learning/Cutout Files/galaxy/J1603p3002_001_010_459_390_3.jpg\n",
      "/Users/valerier/Desktop/CSU/Machine Learning/Cutout Files/galaxy/J153044p231014_001_001_1252_1301_3.jpg\n",
      "/Users/valerier/Desktop/CSU/Machine Learning/Cutout Files/galaxy/J161245p511816_001_010_1169_1397_3.jpg\n",
      "/Users/valerier/Desktop/CSU/Machine Learning/Cutout Files/galaxy/J1603p3002_001_010_780_1323_3.jpg\n",
      "/Users/valerier/Desktop/CSU/Machine Learning/Cutout Files/galaxy/J153044p231014_001_001_427_409_3.jpg\n",
      "/Users/valerier/Desktop/CSU/Machine Learning/Cutout Files/galaxy/J1530p2310_r_01_1832_659_3.jpg\n",
      "/Users/valerier/Desktop/CSU/Machine Learning/Cutout Files/galaxy/J1603p3002_001_010_1906_1157_3.jpg\n",
      "/Users/valerier/Desktop/CSU/Machine Learning/Cutout Files/galaxy/J161245p511816_001_010_1384_1504_3.jpg\n",
      "/Users/valerier/Desktop/CSU/Machine Learning/Cutout Files/galaxy/J1603p3002_001_010_1842_436_3.jpg\n",
      "/Users/valerier/Desktop/CSU/Machine Learning/Cutout Files/galaxy/J140012p353930_001_001_243_640_3.jpg\n",
      "/Users/valerier/Desktop/CSU/Machine Learning/Cutout Files/galaxy/J161245p511816_001_010_1004_1328_3.jpg\n",
      "/Users/valerier/Desktop/CSU/Machine Learning/Cutout Files/galaxy/NGC5147_H01_268_190_3.jpg\n",
      "/Users/valerier/Desktop/CSU/Machine Learning/Cutout Files/galaxy/J121929p47152_001_010_1486_1488_3.jpg\n",
      "/Users/valerier/Desktop/CSU/Machine Learning/Cutout Files/galaxy/J1603p3002_001_010_1509_453_3.jpg\n",
      "/Users/valerier/Desktop/CSU/Machine Learning/Cutout Files/galaxy/NGC5147_H01_1620_720_3.jpg\n",
      "/Users/valerier/Desktop/CSU/Machine Learning/Cutout Files/galaxy/J161245p511816_001_010_879_1716_3.jpg\n",
      "/Users/valerier/Desktop/CSU/Machine Learning/Cutout Files/galaxy/J1530p2310_r_01_1216_1698_3.jpg\n",
      "/Users/valerier/Desktop/CSU/Machine Learning/Cutout Files/galaxy/grb0422a_01_1035_1991_3.jpg\n",
      "/Users/valerier/Desktop/CSU/Machine Learning/Cutout Files/galaxy/J153044p231014_001_001_325_492_3.jpg\n",
      "/Users/valerier/Desktop/CSU/Machine Learning/Cutout Files/galaxy/j1612p5118_r_01_1013_967_3.jpg\n",
      "/Users/valerier/Desktop/CSU/Machine Learning/Cutout Files/galaxy/J153044p231014_001_001_1415_652_3.jpg\n",
      "/Users/valerier/Desktop/CSU/Machine Learning/Cutout Files/galaxy/J125219p264053_001_010_1120_1329_3.jpg\n",
      "/Users/valerier/Desktop/CSU/Machine Learning/Cutout Files/galaxy/J142943p385931_001_001_1644_1013_3.jpg\n",
      "/Users/valerier/Desktop/CSU/Machine Learning/Cutout Files/galaxy/J1603p3002_001_010_1296_1458_3.jpg\n",
      "/Users/valerier/Desktop/CSU/Machine Learning/Cutout Files/galaxy/J121929p47152_001_010_1437_1881_3.jpg\n",
      "/Users/valerier/Desktop/CSU/Machine Learning/Cutout Files/galaxy/J142943p385931_001_001_1171_1853_3.jpg\n",
      "/Users/valerier/Desktop/CSU/Machine Learning/Cutout Files/galaxy/J15050326_01_1378_1792_3.jpg\n",
      "/Users/valerier/Desktop/CSU/Machine Learning/Cutout Files/galaxy/J125219p264053_001_010_1321_2000_3.jpg\n",
      "/Users/valerier/Desktop/CSU/Machine Learning/Cutout Files/galaxy/j1612p5118_r_01_747_782_3.jpg\n",
      "/Users/valerier/Desktop/CSU/Machine Learning/Cutout Files/galaxy/J125219p264053_001_010_1334_547_3.jpg\n",
      "/Users/valerier/Desktop/CSU/Machine Learning/Cutout Files/galaxy/J121929p47152_001_010_712_1718_3.jpg\n",
      "/Users/valerier/Desktop/CSU/Machine Learning/Cutout Files/galaxy/j1612p5118_r_01_88_693_3.jpg\n",
      "/Users/valerier/Desktop/CSU/Machine Learning/Cutout Files/galaxy/J15050326_01_197_1673_3.jpg\n",
      "/Users/valerier/Desktop/CSU/Machine Learning/Cutout Files/galaxy/J153044p231014_001_001_1162_491_3.jpg\n",
      "/Users/valerier/Desktop/CSU/Machine Learning/Cutout Files/galaxy/J1603p3002_001_010_162_1781_3.jpg\n",
      "/Users/valerier/Desktop/CSU/Machine Learning/Cutout Files/galaxy/J125219p264053_001_010_463_199_3.jpg\n",
      "/Users/valerier/Desktop/CSU/Machine Learning/Cutout Files/galaxy/J153044p231014_001_001_1058_593_3.jpg\n",
      "/Users/valerier/Desktop/CSU/Machine Learning/Cutout Files/galaxy/J1530p2310_r_01_1090_337_3.jpg\n",
      "/Users/valerier/Desktop/CSU/Machine Learning/Cutout Files/galaxy/J153044p231014_001_001_1488_583_3.jpg\n",
      "/Users/valerier/Desktop/CSU/Machine Learning/Cutout Files/galaxy/J153044p231014_001_001_1536_343_3.jpg\n",
      "/Users/valerier/Desktop/CSU/Machine Learning/Cutout Files/galaxy/NGC3381-H01_192_58_3.jpg\n",
      "/Users/valerier/Desktop/CSU/Machine Learning/Cutout Files/galaxy/J1530p2310_r_01_908_350_3.jpg\n",
      "/Users/valerier/Desktop/CSU/Machine Learning/Cutout Files/galaxy/J153044p231014_001_001_455_812_3.jpg\n",
      "/Users/valerier/Desktop/CSU/Machine Learning/Cutout Files/galaxy/J121929p47152_001_010_944_1175_3.jpg\n",
      "/Users/valerier/Desktop/CSU/Machine Learning/Cutout Files/galaxy/J142943p385931_001_001_913_517_3.jpg\n",
      "/Users/valerier/Desktop/CSU/Machine Learning/Cutout Files/galaxy/j1612p5118_r_01_1203_689_3.jpg\n",
      "/Users/valerier/Desktop/CSU/Machine Learning/Cutout Files/galaxy/J142943p385931_001_001_773_1833_3.jpg\n",
      "/Users/valerier/Desktop/CSU/Machine Learning/Cutout Files/galaxy/j1612p5118_r_01_1411_1736_3.jpg\n",
      "/Users/valerier/Desktop/CSU/Machine Learning/Cutout Files/galaxy/J1603p3002_001_010_894_1250_3.jpg\n",
      "/Users/valerier/Desktop/CSU/Machine Learning/Cutout Files/galaxy/j1612p5118_r_01_287_1839_3.jpg\n",
      "/Users/valerier/Desktop/CSU/Machine Learning/Cutout Files/galaxy/J125219p264053_001_010_1836_1163_3.jpg\n",
      "/Users/valerier/Desktop/CSU/Machine Learning/Cutout Files/galaxy/J140012p353930_001_001_210_222_3.jpg\n",
      "/Users/valerier/Desktop/CSU/Machine Learning/Cutout Files/galaxy/J153044p231014_001_001_1016_1542_3.jpg\n",
      "/Users/valerier/Desktop/CSU/Machine Learning/Cutout Files/galaxy/WR083_H01_1690_181_3.jpg\n",
      "/Users/valerier/Desktop/CSU/Machine Learning/Cutout Files/galaxy/J125219p264053_001_010_1012_1034_3.jpg\n",
      "/Users/valerier/Desktop/CSU/Machine Learning/Cutout Files/galaxy/J142943p385931_001_001_341_1553_3.jpg\n",
      "/Users/valerier/Desktop/CSU/Machine Learning/Cutout Files/galaxy/J1252p2640_r_01_10_1390_95_3.jpg\n",
      "/Users/valerier/Desktop/CSU/Machine Learning/Cutout Files/galaxy/J15050326_01_724_829_3.jpg\n",
      "/Users/valerier/Desktop/CSU/Machine Learning/Cutout Files/galaxy/J1252p2640_r_01_10_1864_1143_3.jpg\n",
      "/Users/valerier/Desktop/CSU/Machine Learning/Cutout Files/galaxy/IC3521-H01_1536_1206_3.jpg\n",
      "/Users/valerier/Desktop/CSU/Machine Learning/Cutout Files/galaxy/grb0422a_01_1013_1727_3.jpg\n",
      "/Users/valerier/Desktop/CSU/Machine Learning/Cutout Files/galaxy/J1252p2640_r_01_10_1824_1055_3.jpg\n",
      "/Users/valerier/Desktop/CSU/Machine Learning/Cutout Files/galaxy/J142943p385931_001_001_1485_1784_3.jpg\n",
      "/Users/valerier/Desktop/CSU/Machine Learning/Cutout Files/galaxy/J1530p2310_r_01_356_281_3.jpg\n",
      "/Users/valerier/Desktop/CSU/Machine Learning/Cutout Files/galaxy/xo-1-R001_68_89_3.jpg\n",
      "/Users/valerier/Desktop/CSU/Machine Learning/Cutout Files/galaxy/J153044p231014_001_001_1656_349_3.jpg\n",
      "/Users/valerier/Desktop/CSU/Machine Learning/Cutout Files/galaxy/J1603p3002_001_010_1756_534_3.jpg\n",
      "/Users/valerier/Desktop/CSU/Machine Learning/Cutout Files/galaxy/NGC3381-H01_851_1883_3.jpg\n",
      "/Users/valerier/Desktop/CSU/Machine Learning/Cutout Files/galaxy/J1603p3002_001_010_1347_1832_3.jpg\n",
      "/Users/valerier/Desktop/CSU/Machine Learning/Cutout Files/galaxy/J125219p264053_001_010_679_826_3.jpg\n",
      "/Users/valerier/Desktop/CSU/Machine Learning/Cutout Files/galaxy/J142943p385931_001_001_940_460_3.jpg\n",
      "/Users/valerier/Desktop/CSU/Machine Learning/Cutout Files/galaxy/Mrk475-H01_882_1389_3.jpg\n",
      "/Users/valerier/Desktop/CSU/Machine Learning/Cutout Files/galaxy/J142943p385931_001_001_1438_1590_3.jpg\n",
      "/Users/valerier/Desktop/CSU/Machine Learning/Cutout Files/galaxy/J125219p264053_001_010_1591_319_3.jpg\n",
      "/Users/valerier/Desktop/CSU/Machine Learning/Cutout Files/galaxy/J1603p3002_001_010_299_1622_3.jpg\n",
      "/Users/valerier/Desktop/CSU/Machine Learning/Cutout Files/galaxy/J121929p47152_001_010_960_53_3.jpg\n",
      "/Users/valerier/Desktop/CSU/Machine Learning/Cutout Files/galaxy/J142943p385931_001_001_584_741_3.jpg\n",
      "/Users/valerier/Desktop/CSU/Machine Learning/Cutout Files/galaxy/J125219p264053_001_010_593_1461_3.jpg\n",
      "/Users/valerier/Desktop/CSU/Machine Learning/Cutout Files/galaxy/WASP-24_R01_1641_657_3.jpg\n",
      "/Users/valerier/Desktop/CSU/Machine Learning/Cutout Files/galaxy/J140012p353930_001_001_1051_463_3.jpg\n",
      "/Users/valerier/Desktop/CSU/Machine Learning/Cutout Files/galaxy/J1603p3002_001_010_1033_1570_3.jpg\n",
      "/Users/valerier/Desktop/CSU/Machine Learning/Cutout Files/galaxy/J125219p264053_001_010_795_753_3.jpg\n",
      "/Users/valerier/Desktop/CSU/Machine Learning/Cutout Files/galaxy/UM439-H01_653_1354_3.jpg\n",
      "/Users/valerier/Desktop/CSU/Machine Learning/Cutout Files/galaxy/sn12c01_03_1529_1117_3.jpg\n",
      "/Users/valerier/Desktop/CSU/Machine Learning/Cutout Files/galaxy/J1530p2310_r_01_451_1319_3.jpg\n",
      "/Users/valerier/Desktop/CSU/Machine Learning/Cutout Files/galaxy/J1530p2310_r_01_1179_867_3.jpg\n",
      "/Users/valerier/Desktop/CSU/Machine Learning/Cutout Files/galaxy/sn12c01_03_929_371_3.jpg\n",
      "/Users/valerier/Desktop/CSU/Machine Learning/Cutout Files/galaxy/J1603p3002_001_010_1266_1666_3.jpg\n",
      "/Users/valerier/Desktop/CSU/Machine Learning/Cutout Files/galaxy/J1530p2310_r_01_491_1416_3.jpg\n",
      "/Users/valerier/Desktop/CSU/Machine Learning/Cutout Files/galaxy/J121929p47152_001_010_1766_364_3.jpg\n",
      "/Users/valerier/Desktop/CSU/Machine Learning/Cutout Files/galaxy/J140012p353930_001_001_340_701_3.jpg\n",
      "/Users/valerier/Desktop/CSU/Machine Learning/Cutout Files/galaxy/J142943p385931_001_001_1070_1774_3.jpg\n",
      "/Users/valerier/Desktop/CSU/Machine Learning/Cutout Files/galaxy/J15050326_01_1568_512_3.jpg\n",
      "/Users/valerier/Desktop/CSU/Machine Learning/Cutout Files/galaxy/J1603p3002_001_010_1565_1508_3.jpg\n",
      "/Users/valerier/Desktop/CSU/Machine Learning/Cutout Files/galaxy/J1603p3002_001_010_1767_189_3.jpg\n",
      "/Users/valerier/Desktop/CSU/Machine Learning/Cutout Files/galaxy/J1603p3002_001_010_571_426_3.jpg\n",
      "/Users/valerier/Desktop/CSU/Machine Learning/Cutout Files/galaxy/J125219p264053_001_010_1296_478_3.jpg\n",
      "/Users/valerier/Desktop/CSU/Machine Learning/Cutout Files/galaxy/j1612p5118_r_01_1300_794_3.jpg\n",
      "/Users/valerier/Desktop/CSU/Machine Learning/Cutout Files/galaxy/J161245p511816_001_010_1707_1020_3.jpg\n",
      "/Users/valerier/Desktop/CSU/Machine Learning/Cutout Files/galaxy/J125219p264053_001_010_1348_868_3.jpg\n",
      "/Users/valerier/Desktop/CSU/Machine Learning/Cutout Files/galaxy/J1603p3002_001_010_330_1267_3.jpg\n",
      "/Users/valerier/Desktop/CSU/Machine Learning/Cutout Files/galaxy/J125219p264053_001_010_347_1811_3.jpg\n",
      "/Users/valerier/Desktop/CSU/Machine Learning/Cutout Files/galaxy/NGC3381-H01_1010_623_3.jpg\n",
      "/Users/valerier/Desktop/CSU/Machine Learning/Cutout Files/galaxy/J153044p231014_001_001_92_1292_3.jpg\n",
      "/Users/valerier/Desktop/CSU/Machine Learning/Cutout Files/galaxy/J125219p264053_001_010_1264_841_3.jpg\n",
      "/Users/valerier/Desktop/CSU/Machine Learning/Cutout Files/galaxy/J1603p3002_001_010_925_1743_3.jpg\n",
      "/Users/valerier/Desktop/CSU/Machine Learning/Cutout Files/galaxy/J142943p385931_001_001_1370_1269_3.jpg\n",
      "/Users/valerier/Desktop/CSU/Machine Learning/Cutout Files/galaxy/J161245p511816_001_010_133_749_3.jpg\n",
      "/Users/valerier/Desktop/CSU/Machine Learning/Cutout Files/galaxy/j1612p5118_r_01_1098_690_3.jpg\n",
      "/Users/valerier/Desktop/CSU/Machine Learning/Cutout Files/galaxy/J1603p3002_001_010_924_1047_3.jpg\n",
      "/Users/valerier/Desktop/CSU/Machine Learning/Cutout Files/galaxy/J161245p511816_001_010_48_1240_3.jpg\n",
      "/Users/valerier/Desktop/CSU/Machine Learning/Cutout Files/galaxy/J1603p3002_001_010_1261_357_3.jpg\n",
      "/Users/valerier/Desktop/CSU/Machine Learning/Cutout Files/galaxy/J142943p385931_001_001_1939_129_3.jpg\n",
      "/Users/valerier/Desktop/CSU/Machine Learning/Cutout Files/galaxy/J140012p353930_001_001_366_503_3.jpg\n",
      "/Users/valerier/Desktop/CSU/Machine Learning/Cutout Files/galaxy/J1603p3002_001_010_1956_1076_3.jpg\n",
      "/Users/valerier/Desktop/CSU/Machine Learning/Cutout Files/galaxy/J161245p511816_001_010_1758_1516_3.jpg\n",
      "/Users/valerier/Desktop/CSU/Machine Learning/Cutout Files/galaxy/J142943p385931_001_001_1866_700_3.jpg\n",
      "/Users/valerier/Desktop/CSU/Machine Learning/Cutout Files/galaxy/UM439-H01_1932_938_3.jpg\n",
      "/Users/valerier/Desktop/CSU/Machine Learning/Cutout Files/galaxy/J142943p385931_001_001_135_722_3.jpg\n",
      "/Users/valerier/Desktop/CSU/Machine Learning/Cutout Files/galaxy/J1252p2640_r_01_10_347_618_3.jpg\n",
      "/Users/valerier/Desktop/CSU/Machine Learning/Cutout Files/galaxy/J125219p264053_001_010_1382_1615_3.jpg\n",
      "/Users/valerier/Desktop/CSU/Machine Learning/Cutout Files/galaxy/J125219p264053_001_010_1764_284_3.jpg\n",
      "/Users/valerier/Desktop/CSU/Machine Learning/Cutout Files/galaxy/J125219p264053_001_010_1673_1692_3.jpg\n",
      "/Users/valerier/Desktop/CSU/Machine Learning/Cutout Files/galaxy/J161245p511816_001_010_479_932_3.jpg\n",
      "/Users/valerier/Desktop/CSU/Machine Learning/Cutout Files/galaxy/J1252p2640_r_01_10_1767_431_3.jpg\n",
      "/Users/valerier/Desktop/CSU/Machine Learning/Cutout Files/galaxy/Mrk475-H01_1027_1139_3.jpg\n",
      "/Users/valerier/Desktop/CSU/Machine Learning/Cutout Files/galaxy/j1612p5118_r_01_450_1016_3.jpg\n",
      "/Users/valerier/Desktop/CSU/Machine Learning/Cutout Files/galaxy/J140012p353930_001_001_924_1513_3.jpg\n",
      "/Users/valerier/Desktop/CSU/Machine Learning/Cutout Files/galaxy/J153044p231014_001_001_87_382_3.jpg\n",
      "/Users/valerier/Desktop/CSU/Machine Learning/Cutout Files/galaxy/J153044p231014_001_001_922_617_3.jpg\n",
      "/Users/valerier/Desktop/CSU/Machine Learning/Cutout Files/galaxy/j1612p5118_r_01_1845_1193_3.jpg\n",
      "/Users/valerier/Desktop/CSU/Machine Learning/Cutout Files/galaxy/J153044p231014_001_001_917_222_3.jpg\n",
      "/Users/valerier/Desktop/CSU/Machine Learning/Cutout Files/galaxy/J125219p264053_001_010_1126_320_3.jpg\n",
      "/Users/valerier/Desktop/CSU/Machine Learning/Cutout Files/galaxy/J142943p385931_001_001_1054_1596_3.jpg\n",
      "/Users/valerier/Desktop/CSU/Machine Learning/Cutout Files/galaxy/J121929p47152_001_010_883_1486_3.jpg\n",
      "/Users/valerier/Desktop/CSU/Machine Learning/Cutout Files/galaxy/J142943p385931_001_001_678_190_3.jpg\n",
      "/Users/valerier/Desktop/CSU/Machine Learning/Cutout Files/galaxy/J125219p264053_001_010_1278_561_3.jpg\n",
      "/Users/valerier/Desktop/CSU/Machine Learning/Cutout Files/galaxy/J161245p511816_001_010_1048_1388_3.jpg\n",
      "/Users/valerier/Desktop/CSU/Machine Learning/Cutout Files/galaxy/J1603p3002_001_010_1237_1690_3.jpg\n",
      "/Users/valerier/Desktop/CSU/Machine Learning/Cutout Files/galaxy/J161245p511816_001_010_229_1024_3.jpg\n",
      "/Users/valerier/Desktop/CSU/Machine Learning/Cutout Files/galaxy/J142943p385931_001_001_1994_481_3.jpg\n",
      "/Users/valerier/Desktop/CSU/Machine Learning/Cutout Files/galaxy/J1603p3002_001_010_465_477_3.jpg\n",
      "/Users/valerier/Desktop/CSU/Machine Learning/Cutout Files/galaxy/WR083_H01_339_1641_3.jpg\n",
      "/Users/valerier/Desktop/CSU/Machine Learning/Cutout Files/galaxy/J1603p3002_001_010_1407_801_3.jpg\n",
      "/Users/valerier/Desktop/CSU/Machine Learning/Cutout Files/galaxy/J121929p47152_001_010_1830_320_3.jpg\n",
      "/Users/valerier/Desktop/CSU/Machine Learning/Cutout Files/galaxy/J161245p511816_001_010_64_640_3.jpg\n",
      "/Users/valerier/Desktop/CSU/Machine Learning/Cutout Files/galaxy/J1603p3002_001_010_182_1753_3.jpg\n",
      "/Users/valerier/Desktop/CSU/Machine Learning/Cutout Files/galaxy/J1530p2310_r_01_117_754_3.jpg\n",
      "/Users/valerier/Desktop/CSU/Machine Learning/Cutout Files/galaxy/J1603p3002_001_010_262_1515_3.jpg\n",
      "/Users/valerier/Desktop/CSU/Machine Learning/Cutout Files/galaxy/J142943p385931_001_001_1436_523_3.jpg\n",
      "/Users/valerier/Desktop/CSU/Machine Learning/Cutout Files/galaxy/J1603p3002_001_010_1712_1516_3.jpg\n",
      "/Users/valerier/Desktop/CSU/Machine Learning/Cutout Files/galaxy/J1603p3002_001_010_769_1006_3.jpg\n",
      "/Users/valerier/Desktop/CSU/Machine Learning/Cutout Files/galaxy/J140012p353930_001_001_1422_1199_3.jpg\n",
      "/Users/valerier/Desktop/CSU/Machine Learning/Cutout Files/galaxy/j1612p5118_r_01_728_892_3.jpg\n",
      "/Users/valerier/Desktop/CSU/Machine Learning/Cutout Files/galaxy/J1530p2310_r_01_1396_1879_3.jpg\n",
      "/Users/valerier/Desktop/CSU/Machine Learning/Cutout Files/galaxy/J121929p47152_001_010_201_1653_3.jpg\n",
      "/Users/valerier/Desktop/CSU/Machine Learning/Cutout Files/galaxy/J1530p2310_r_01_914_826_3.jpg\n",
      "/Users/valerier/Desktop/CSU/Machine Learning/Cutout Files/galaxy/IC745_H01_734_168_3.jpg\n",
      "/Users/valerier/Desktop/CSU/Machine Learning/Cutout Files/galaxy/j1612p5118_r_01_1707_208_3.jpg\n",
      "/Users/valerier/Desktop/CSU/Machine Learning/Cutout Files/galaxy/J142943p385931_001_001_731_1774_3.jpg\n",
      "/Users/valerier/Desktop/CSU/Machine Learning/Cutout Files/galaxy/J125219p264053_001_010_1466_1800_3.jpg\n",
      "/Users/valerier/Desktop/CSU/Machine Learning/Cutout Files/galaxy/J1603p3002_001_010_692_566_3.jpg\n",
      "/Users/valerier/Desktop/CSU/Machine Learning/Cutout Files/galaxy/J1603p3002_001_010_371_523_3.jpg\n",
      "/Users/valerier/Desktop/CSU/Machine Learning/Cutout Files/galaxy/J161245p511816_001_010_1040_1013_3.jpg\n",
      "/Users/valerier/Desktop/CSU/Machine Learning/Cutout Files/galaxy/J142943p385931_001_001_440_207_3.jpg\n",
      "/Users/valerier/Desktop/CSU/Machine Learning/Cutout Files/galaxy/J153044p231014_001_001_381_313_3.jpg\n",
      "/Users/valerier/Desktop/CSU/Machine Learning/Cutout Files/galaxy/J161245p511816_001_010_950_355_3.jpg\n",
      "/Users/valerier/Desktop/CSU/Machine Learning/Cutout Files/galaxy/J1530p2310_r_01_1717_1032_3.jpg\n",
      "/Users/valerier/Desktop/CSU/Machine Learning/Cutout Files/galaxy/J1603p3002_001_010_1175_868_3.jpg\n",
      "/Users/valerier/Desktop/CSU/Machine Learning/Cutout Files/galaxy/J125219p264053_001_010_1251_648_3.jpg\n",
      "/Users/valerier/Desktop/CSU/Machine Learning/Cutout Files/galaxy/J142943p385931_001_001_981_1198_3.jpg\n",
      "/Users/valerier/Desktop/CSU/Machine Learning/Cutout Files/galaxy/J125219p264053_001_010_1103_1482_3.jpg\n",
      "/Users/valerier/Desktop/CSU/Machine Learning/Cutout Files/galaxy/J1603p3002_001_010_452_1471_3.jpg\n",
      "/Users/valerier/Desktop/CSU/Machine Learning/Cutout Files/galaxy/WASP-24_R01_1897_137_3.jpg\n",
      "/Users/valerier/Desktop/CSU/Machine Learning/Cutout Files/galaxy/j1612p5118_r_01_602_944_3.jpg\n",
      "/Users/valerier/Desktop/CSU/Machine Learning/Cutout Files/galaxy/J142943p385931_001_001_773_1315_3.jpg\n",
      "/Users/valerier/Desktop/CSU/Machine Learning/Cutout Files/galaxy/J142943p385931_001_001_1155_1604_3.jpg\n",
      "/Users/valerier/Desktop/CSU/Machine Learning/Cutout Files/galaxy/J142943p385931_001_001_398_340_3.jpg\n",
      "/Users/valerier/Desktop/CSU/Machine Learning/Cutout Files/galaxy/J142943p385931_001_001_522_1483_3.jpg\n",
      "/Users/valerier/Desktop/CSU/Machine Learning/Cutout Files/galaxy/j1612p5118_r_01_590_515_3.jpg\n",
      "/Users/valerier/Desktop/CSU/Machine Learning/Cutout Files/galaxy/J161245p511816_001_010_312_1109_3.jpg\n",
      "/Users/valerier/Desktop/CSU/Machine Learning/Cutout Files/galaxy/J153044p231014_001_001_728_273_3.jpg\n",
      "/Users/valerier/Desktop/CSU/Machine Learning/Cutout Files/galaxy/J140012p353930_001_001_1059_947_3.jpg\n",
      "/Users/valerier/Desktop/CSU/Machine Learning/Cutout Files/galaxy/J161245p511816_001_010_658_946_3.jpg\n",
      "/Users/valerier/Desktop/CSU/Machine Learning/Cutout Files/galaxy/J125219p264053_001_010_1080_1974_3.jpg\n",
      "/Users/valerier/Desktop/CSU/Machine Learning/Cutout Files/galaxy/J125219p264053_001_010_945_391_3.jpg\n",
      "/Users/valerier/Desktop/CSU/Machine Learning/Cutout Files/galaxy/J125219p264053_001_010_910_1660_3.jpg\n",
      "/Users/valerier/Desktop/CSU/Machine Learning/Cutout Files/galaxy/J15050326_01_227_1669_3.jpg\n",
      "/Users/valerier/Desktop/CSU/Machine Learning/Cutout Files/galaxy/J161245p511816_001_010_715_568_3.jpg\n",
      "/Users/valerier/Desktop/CSU/Machine Learning/Cutout Files/galaxy/J161245p511816_001_010_318_601_3.jpg\n",
      "/Users/valerier/Desktop/CSU/Machine Learning/Cutout Files/galaxy/J161245p511816_001_010_1135_1264_3.jpg\n",
      "/Users/valerier/Desktop/CSU/Machine Learning/Cutout Files/galaxy/J1603p3002_001_010_122_891_3.jpg\n",
      "/Users/valerier/Desktop/CSU/Machine Learning/Cutout Files/galaxy/J1530p2310_r_01_344_962_3.jpg\n",
      "/Users/valerier/Desktop/CSU/Machine Learning/Cutout Files/galaxy/J1530p2310_r_01_342_202_3.jpg\n",
      "/Users/valerier/Desktop/CSU/Machine Learning/Cutout Files/galaxy/J153044p231014_001_001_1730_956_3.jpg\n",
      "/Users/valerier/Desktop/CSU/Machine Learning/Cutout Files/galaxy/J161245p511816_001_010_841_758_3.jpg\n",
      "/Users/valerier/Desktop/CSU/Machine Learning/Cutout Files/galaxy/j1612p5118_r_01_162_882_3.jpg\n",
      "/Users/valerier/Desktop/CSU/Machine Learning/Cutout Files/galaxy/J161245p511816_001_010_906_627_3.jpg\n",
      "/Users/valerier/Desktop/CSU/Machine Learning/Cutout Files/galaxy/J140012p353930_001_001_698_594_3.jpg\n",
      "/Users/valerier/Desktop/CSU/Machine Learning/Cutout Files/galaxy/J153044p231014_001_001_1464_1463_3.jpg\n",
      "/Users/valerier/Desktop/CSU/Machine Learning/Cutout Files/galaxy/J1603p3002_001_010_1818_986_3.jpg\n",
      "/Users/valerier/Desktop/CSU/Machine Learning/Cutout Files/galaxy/J140012p353930_001_001_1496_798_3.jpg\n",
      "/Users/valerier/Desktop/CSU/Machine Learning/Cutout Files/galaxy/J125219p264053_001_010_467_720_3.jpg\n",
      "/Users/valerier/Desktop/CSU/Machine Learning/Cutout Files/galaxy/j1612p5118_r_01_1806_1426_3.jpg\n",
      "/Users/valerier/Desktop/CSU/Machine Learning/Cutout Files/galaxy/J153044p231014_001_001_1310_1392_3.jpg\n",
      "/Users/valerier/Desktop/CSU/Machine Learning/Cutout Files/galaxy/J153044p231014_001_001_479_1143_3.jpg\n",
      "/Users/valerier/Desktop/CSU/Machine Learning/Cutout Files/galaxy/J1530p2310_r_01_1044_669_3.jpg\n",
      "/Users/valerier/Desktop/CSU/Machine Learning/Cutout Files/galaxy/J1603p3002_001_010_705_1257_3.jpg\n",
      "/Users/valerier/Desktop/CSU/Machine Learning/Cutout Files/galaxy/J125219p264053_001_010_1527_354_3.jpg\n",
      "/Users/valerier/Desktop/CSU/Machine Learning/Cutout Files/galaxy/J153044p231014_001_001_285_405_3.jpg\n",
      "/Users/valerier/Desktop/CSU/Machine Learning/Cutout Files/galaxy/J1603p3002_001_010_416_1383_3.jpg\n",
      "/Users/valerier/Desktop/CSU/Machine Learning/Cutout Files/galaxy/J1603p3002_001_010_970_1095_3.jpg\n",
      "/Users/valerier/Desktop/CSU/Machine Learning/Cutout Files/galaxy/J1252p2640_r_01_10_1123_1477_3.jpg\n",
      "/Users/valerier/Desktop/CSU/Machine Learning/Cutout Files/galaxy/IC3521-H01_1326_1169_3.jpg\n",
      "/Users/valerier/Desktop/CSU/Machine Learning/Cutout Files/galaxy/J161245p511816_001_010_1818_961_3.jpg\n",
      "/Users/valerier/Desktop/CSU/Machine Learning/Cutout Files/galaxy/J1603p3002_001_010_1110_1773_3.jpg\n",
      "/Users/valerier/Desktop/CSU/Machine Learning/Cutout Files/galaxy/J125219p264053_001_010_1305_576_3.jpg\n",
      "/Users/valerier/Desktop/CSU/Machine Learning/Cutout Files/galaxy/NGC3381-H01_334_1710_3.jpg\n",
      "/Users/valerier/Desktop/CSU/Machine Learning/Cutout Files/galaxy/j1612p5118_r_01_977_586_3.jpg\n",
      "/Users/valerier/Desktop/CSU/Machine Learning/Cutout Files/galaxy/J1530p2310_r_01_78_1369_3.jpg\n",
      "/Users/valerier/Desktop/CSU/Machine Learning/Cutout Files/galaxy/J142943p385931_001_001_1091_967_3.jpg\n",
      "/Users/valerier/Desktop/CSU/Machine Learning/Cutout Files/galaxy/J1603p3002_001_010_1752_502_3.jpg\n",
      "/Users/valerier/Desktop/CSU/Machine Learning/Cutout Files/galaxy/J161245p511816_001_010_285_1854_3.jpg\n",
      "/Users/valerier/Desktop/CSU/Machine Learning/Cutout Files/galaxy/sn12c01_03_1335_991_3.jpg\n",
      "/Users/valerier/Desktop/CSU/Machine Learning/Cutout Files/galaxy/J1603p3002_001_010_603_453_3.jpg\n",
      "/Users/valerier/Desktop/CSU/Machine Learning/Cutout Files/galaxy/J1252p2640_r_01_10_453_49_3.jpg\n",
      "/Users/valerier/Desktop/CSU/Machine Learning/Cutout Files/galaxy/J161245p511816_001_010_640_1364_3.jpg\n",
      "/Users/valerier/Desktop/CSU/Machine Learning/Cutout Files/galaxy/J153044p231014_001_001_465_1242_3.jpg\n",
      "/Users/valerier/Desktop/CSU/Machine Learning/Cutout Files/galaxy/J121929p47152_001_010_1890_163_3.jpg\n",
      "/Users/valerier/Desktop/CSU/Machine Learning/Cutout Files/galaxy/J1603p3002_001_010_261_1744_3.jpg\n",
      "/Users/valerier/Desktop/CSU/Machine Learning/Cutout Files/galaxy/J161245p511816_001_010_1785_1894_3.jpg\n",
      "/Users/valerier/Desktop/CSU/Machine Learning/Cutout Files/galaxy/NGC3381-H01_712_1011_3.jpg\n",
      "/Users/valerier/Desktop/CSU/Machine Learning/Cutout Files/galaxy/J1530p2310_r_01_1207_949_3.jpg\n",
      "/Users/valerier/Desktop/CSU/Machine Learning/Cutout Files/galaxy/J1603p3002_001_010_1650_1097_3.jpg\n",
      "/Users/valerier/Desktop/CSU/Machine Learning/Cutout Files/galaxy/J125219p264053_001_010_859_953_3.jpg\n",
      "/Users/valerier/Desktop/CSU/Machine Learning/Cutout Files/galaxy/J1603p3002_001_010_847_38_3.jpg\n",
      "/Users/valerier/Desktop/CSU/Machine Learning/Cutout Files/galaxy/J142943p385931_001_001_248_667_3.jpg\n",
      "/Users/valerier/Desktop/CSU/Machine Learning/Cutout Files/galaxy/J121929p47152_001_010_910_1127_3.jpg\n",
      "/Users/valerier/Desktop/CSU/Machine Learning/Cutout Files/galaxy/J140012p353930_001_001_1198_674_3.jpg\n",
      "/Users/valerier/Desktop/CSU/Machine Learning/Cutout Files/galaxy/J1603p3002_001_010_243_383_3.jpg\n",
      "/Users/valerier/Desktop/CSU/Machine Learning/Cutout Files/galaxy/J153044p231014_001_001_453_1389_3.jpg\n",
      "/Users/valerier/Desktop/CSU/Machine Learning/Cutout Files/galaxy/J153044p231014_001_001_1158_423_3.jpg\n",
      "/Users/valerier/Desktop/CSU/Machine Learning/Cutout Files/galaxy/J142943p385931_001_001_1588_454_3.jpg\n",
      "/Users/valerier/Desktop/CSU/Machine Learning/Cutout Files/galaxy/J142943p385931_001_001_637_406_3.jpg\n",
      "/Users/valerier/Desktop/CSU/Machine Learning/Cutout Files/galaxy/J1530p2310_r_01_548_319_3.jpg\n",
      "/Users/valerier/Desktop/CSU/Machine Learning/Cutout Files/galaxy/J125219p264053_001_010_1814_449_3.jpg\n",
      "/Users/valerier/Desktop/CSU/Machine Learning/Cutout Files/galaxy/UM439-H01_1746_1410_3.jpg\n",
      "/Users/valerier/Desktop/CSU/Machine Learning/Cutout Files/galaxy/J1530p2310_r_01_208_415_3.jpg\n",
      "/Users/valerier/Desktop/CSU/Machine Learning/Cutout Files/galaxy/IC745_H01_1195_791_3.jpg\n",
      "/Users/valerier/Desktop/CSU/Machine Learning/Cutout Files/galaxy/J1530p2310_r_01_1781_1410_3.jpg\n",
      "/Users/valerier/Desktop/CSU/Machine Learning/Cutout Files/galaxy/J1603p3002_001_010_795_733_3.jpg\n",
      "/Users/valerier/Desktop/CSU/Machine Learning/Cutout Files/galaxy/J125219p264053_001_010_679_710_3.jpg\n",
      "/Users/valerier/Desktop/CSU/Machine Learning/Cutout Files/galaxy/J153044p231014_001_001_1193_791_3.jpg\n",
      "/Users/valerier/Desktop/CSU/Machine Learning/Cutout Files/galaxy/J1603p3002_001_010_200_1126_3.jpg\n",
      "/Users/valerier/Desktop/CSU/Machine Learning/Cutout Files/galaxy/IC745_H01_1821_1270_3.jpg\n",
      "/Users/valerier/Desktop/CSU/Machine Learning/Cutout Files/galaxy/J1603p3002_001_010_763_1448_3.jpg\n",
      "/Users/valerier/Desktop/CSU/Machine Learning/Cutout Files/galaxy/J1603p3002_001_010_124_1975_3.jpg\n",
      "/Users/valerier/Desktop/CSU/Machine Learning/Cutout Files/galaxy/J140012p353930_001_001_928_1527_3.jpg\n",
      "/Users/valerier/Desktop/CSU/Machine Learning/Cutout Files/galaxy/J1603p3002_001_010_981_957_3.jpg\n",
      "/Users/valerier/Desktop/CSU/Machine Learning/Cutout Files/galaxy/J153044p231014_001_001_1757_1484_3.jpg\n",
      "/Users/valerier/Desktop/CSU/Machine Learning/Cutout Files/galaxy/J125219p264053_001_010_256_1854_3.jpg\n",
      "/Users/valerier/Desktop/CSU/Machine Learning/Cutout Files/galaxy/J142943p385931_001_001_1165_750_3.jpg\n",
      "/Users/valerier/Desktop/CSU/Machine Learning/Cutout Files/galaxy/J125219p264053_001_010_1090_653_3.jpg\n",
      "/Users/valerier/Desktop/CSU/Machine Learning/Cutout Files/galaxy/J125219p264053_001_010_799_805_3.jpg\n",
      "/Users/valerier/Desktop/CSU/Machine Learning/Cutout Files/galaxy/J125219p264053_001_010_683_1252_3.jpg\n",
      "/Users/valerier/Desktop/CSU/Machine Learning/Cutout Files/galaxy/J140012p353930_001_001_152_552_3.jpg\n",
      "/Users/valerier/Desktop/CSU/Machine Learning/Cutout Files/galaxy/J153044p231014_001_001_723_1785_3.jpg\n",
      "/Users/valerier/Desktop/CSU/Machine Learning/Cutout Files/galaxy/NGC3381-H01_570_2009_3.jpg\n",
      "/Users/valerier/Desktop/CSU/Machine Learning/Cutout Files/galaxy/J142943p385931_001_001_744_1356_3.jpg\n",
      "/Users/valerier/Desktop/CSU/Machine Learning/Cutout Files/galaxy/j1612p5118_r_01_506_1164_3.jpg\n",
      "/Users/valerier/Desktop/CSU/Machine Learning/Cutout Files/galaxy/J15050326_01_322_1827_3.jpg\n",
      "/Users/valerier/Desktop/CSU/Machine Learning/Cutout Files/galaxy/J161245p511816_001_010_1560_1828_3.jpg\n",
      "/Users/valerier/Desktop/CSU/Machine Learning/Cutout Files/galaxy/j1612p5118_r_01_686_1178_3.jpg\n",
      "/Users/valerier/Desktop/CSU/Machine Learning/Cutout Files/galaxy/J140012p353930_001_001_1212_860_3.jpg\n",
      "/Users/valerier/Desktop/CSU/Machine Learning/Cutout Files/galaxy/J1603p3002_001_010_546_1247_3.jpg\n",
      "/Users/valerier/Desktop/CSU/Machine Learning/Cutout Files/galaxy/J153044p231014_001_001_83_1350_3.jpg\n",
      "/Users/valerier/Desktop/CSU/Machine Learning/Cutout Files/galaxy/J142943p385931_001_001_884_221_3.jpg\n",
      "/Users/valerier/Desktop/CSU/Machine Learning/Cutout Files/galaxy/J161245p511816_001_010_1468_1293_3.jpg\n",
      "/Users/valerier/Desktop/CSU/Machine Learning/Cutout Files/galaxy/J125219p264053_001_010_655_1011_3.jpg\n",
      "/Users/valerier/Desktop/CSU/Machine Learning/Cutout Files/galaxy/J140012p353930_001_001_1157_1689_3.jpg\n",
      "/Users/valerier/Desktop/CSU/Machine Learning/Cutout Files/galaxy/J1530p2310_r_01_611_195_3.jpg\n",
      "/Users/valerier/Desktop/CSU/Machine Learning/Cutout Files/galaxy/J153044p231014_001_001_589_167_3.jpg\n",
      "/Users/valerier/Desktop/CSU/Machine Learning/Cutout Files/galaxy/NGC3381-H01_307_872_3.jpg\n",
      "/Users/valerier/Desktop/CSU/Machine Learning/Cutout Files/galaxy/J153044p231014_001_001_91_1258_3.jpg\n",
      "/Users/valerier/Desktop/CSU/Machine Learning/Cutout Files/galaxy/J142943p385931_001_001_1418_74_3.jpg\n",
      "/Users/valerier/Desktop/CSU/Machine Learning/Cutout Files/galaxy/J125219p264053_001_010_1348_1119_3.jpg\n",
      "/Users/valerier/Desktop/CSU/Machine Learning/Cutout Files/galaxy/J125219p264053_001_010_1414_1562_3.jpg\n",
      "/Users/valerier/Desktop/CSU/Machine Learning/Cutout Files/galaxy/J140012p353930_001_001_1389_1133_3.jpg\n",
      "/Users/valerier/Desktop/CSU/Machine Learning/Cutout Files/galaxy/J142943p385931_001_001_420_1335_3.jpg\n",
      "/Users/valerier/Desktop/CSU/Machine Learning/Cutout Files/galaxy/J125219p264053_001_010_675_1104_3.jpg\n",
      "/Users/valerier/Desktop/CSU/Machine Learning/Cutout Files/galaxy/J1603p3002_001_010_980_850_3.jpg\n",
      "/Users/valerier/Desktop/CSU/Machine Learning/Cutout Files/galaxy/j1612p5118_r_01_1122_907_3.jpg\n",
      "/Users/valerier/Desktop/CSU/Machine Learning/Cutout Files/galaxy/NGC3381-H01_929_1581_3.jpg\n",
      "/Users/valerier/Desktop/CSU/Machine Learning/Cutout Files/galaxy/J142943p385931_001_001_264_604_3.jpg\n",
      "/Users/valerier/Desktop/CSU/Machine Learning/Cutout Files/galaxy/J142943p385931_001_001_1909_532_3.jpg\n",
      "/Users/valerier/Desktop/CSU/Machine Learning/Cutout Files/galaxy/J161245p511816_001_010_189_1814_3.jpg\n"
     ]
    }
   ],
   "source": [
    "##Loading packages\n",
    "\n",
    "import numpy as np\n",
    "import pandas as pd\n",
    "import tensorflow as tf\n",
    "from tensorflow import keras\n",
    "from tensorflow.keras import layers\n",
    "import os, shutil\n",
    "from sklearn.model_selection import train_test_split\n",
    "from tensorflow.keras.preprocessing import image \n",
    "from PIL import Image\n",
    "import sys\n",
    "from tensorflow.keras.utils import to_categorical\n",
    "import glob\n",
    "\n",
    "\n",
    "galaxy_dataset_dir = glob.glob('/Users/valerier/Desktop/CSU/Machine Learning/Cutout Files/galaxy/*')\n",
    "star_dataset_dir = glob.glob('/Users/valerier/Desktop/CSU/Machine Learning/Cutout Files/star/*')\n",
    "\n",
    "#Creating data frames for the stars and galaxy\n",
    "data = []\n",
    "labels = []\n",
    "for x in galaxy_dataset_dir:\n",
    "    print(x)\n",
    "    image = Image.open(x)\n",
    "    image= np.array(image)\n",
    "    data.append(image)\n",
    "    labels.append(0)\n",
    "for x in star_dataset_dir:\n",
    "    image = Image.open(x)\n",
    "    image= np.array(image)\n",
    "    data.append(image)\n",
    "    labels.append(1) \n",
    "\n",
    "data, labels= np.array(data), np.array(labels)\n"
   ]
  },
  {
   "cell_type": "code",
   "execution_count": 3,
   "id": "2eac1917-0d53-448e-ab2a-2ca1ebda38b4",
   "metadata": {},
   "outputs": [],
   "source": [
    "#organizing data into one dataframe and splitting into training and test images\n",
    "full_dataset= pd.DataFrame(list(zip(data, labels)), columns=['images','labels'])\n",
    "\n",
    "x_train, x_test, y_train, y_test = train_test_split(data, labels, test_size=0.2,\n",
    "                                                random_state=42, shuffle=True,stratify=full_dataset['labels'].values)"
   ]
  },
  {
   "cell_type": "code",
   "execution_count": 4,
   "id": "aa29c354-5764-4acb-b546-a6d8a2a16158",
   "metadata": {},
   "outputs": [
    {
     "data": {
      "text/plain": [
       "(3188, 64, 64, 3)"
      ]
     },
     "execution_count": 4,
     "metadata": {},
     "output_type": "execute_result"
    }
   ],
   "source": [
    "x_train.shape"
   ]
  },
  {
   "cell_type": "code",
   "execution_count": 5,
   "id": "9569cb53-085e-4739-a514-f4b5e9590b29",
   "metadata": {},
   "outputs": [
    {
     "data": {
      "text/plain": [
       "(798, 64, 64, 3)"
      ]
     },
     "execution_count": 5,
     "metadata": {},
     "output_type": "execute_result"
    }
   ],
   "source": [
    "x_test.shape"
   ]
  },
  {
   "cell_type": "code",
   "execution_count": 6,
   "id": "d8ab7040-64a7-45d3-af7a-cb46e5b0f5e1",
   "metadata": {},
   "outputs": [
    {
     "data": {
      "text/plain": [
       "(3188,)"
      ]
     },
     "execution_count": 6,
     "metadata": {},
     "output_type": "execute_result"
    }
   ],
   "source": [
    "y_train.shape"
   ]
  },
  {
   "cell_type": "code",
   "execution_count": 7,
   "id": "21f96029-8cf5-4730-ab49-8c58e721cc3c",
   "metadata": {},
   "outputs": [
    {
     "data": {
      "text/plain": [
       "(798,)"
      ]
     },
     "execution_count": 7,
     "metadata": {},
     "output_type": "execute_result"
    }
   ],
   "source": [
    "y_test.shape"
   ]
  },
  {
   "cell_type": "code",
   "execution_count": 8,
   "id": "9dc02b66-e319-468d-9602-5240b2b17b8f",
   "metadata": {},
   "outputs": [],
   "source": [
    "#normalization\n",
    "x_train=x_train/255\n",
    "x_test=x_test/255"
   ]
  },
  {
   "cell_type": "code",
   "execution_count": 9,
   "id": "cfca9ac3-6d5d-40e0-b632-59555de0e5b7",
   "metadata": {},
   "outputs": [
    {
     "name": "stdout",
     "output_type": "stream",
     "text": [
      "[ 753 2435]\n"
     ]
    },
    {
     "data": {
      "image/png": "[encoded data removed]",
      "text/plain": [
       "<Figure size 640x480 with 1 Axes>"
      ]
     },
     "metadata": {},
     "output_type": "display_data"
    }
   ],
   "source": [
    "#Looking at the breakdown of Stars and Galaxies\n",
    "import matplotlib.pyplot as plt\n",
    "\n",
    "class_name = ['Galaxy', 'Star']\n",
    "\n",
    "classes, counts = np.unique(y_train, return_counts=True)\n",
    "plt.barh(class_name, counts)\n",
    "plt.title('Classes in training subset')\n",
    "print(counts)"
   ]
  },
  {
   "cell_type": "code",
   "execution_count": 10,
   "id": "e2405552-14a9-480c-955c-abf84e8303f4",
   "metadata": {},
   "outputs": [
    {
     "name": "stdout",
     "output_type": "stream",
     "text": [
      "[189 609]\n"
     ]
    },
    {
     "data": {
      "image/png": "[encoded data removed]",
      "text/plain": [
       "<Figure size 640x480 with 1 Axes>"
      ]
     },
     "metadata": {},
     "output_type": "display_data"
    }
   ],
   "source": [
    "classes, counts = np.unique(y_test, return_counts=True)\n",
    "plt.barh(class_name, counts)\n",
    "plt.title('Classes in test subset')\n",
    "print(counts)"
   ]
  },
  {
   "cell_type": "markdown",
   "id": "7c271934-e109-40e2-810b-ee4d2767ef54",
   "metadata": {},
   "source": [
    "**Method:** Specify the model\n",
    "you use, including the details of hyperparameter choice and tuning. "
   ]
  },
  {
   "attachments": {},
   "cell_type": "markdown",
   "id": "9197953d-525f-43bf-a0e5-bb07d81257f3",
   "metadata": {},
   "source": [
    "A recent overview of applications of Machine Learning in Astronomy note the use of methods such as logistic regression, k-nearest neighbors and random forests as satisfactory alternatives to the potentially more time-consuming and computationally expensive deep learning methods (Kembavi et al 2022). There is specific discussion of Random Forests and and Convolution Neural Network(CNN) for classification of stellar objects. As such, both were fit to explore their relative merits, with the Random forest serving as a \"shallow\" baseline. Since CNNs are “a type of deep-learning model almost universally used in computer vision applications (Chollet 2017)” with the ability to learn spatial features, this is the natural choice for classification of images."
   ]
  },
  {
   "cell_type": "markdown",
   "id": "b4de26ef-552d-4859-b972-d72dee1faeba",
   "metadata": {},
   "source": [
    "**Random Forest**"
   ]
  },
  {
   "cell_type": "code",
   "execution_count": 11,
   "id": "5c6516f7-c398-432b-a297-9be5da9c4392",
   "metadata": {},
   "outputs": [],
   "source": [
    "# Modeling\n",
    "from sklearn.ensemble import RandomForestClassifier\n",
    "from sklearn.metrics import accuracy_score, confusion_matrix, precision_score, recall_score, ConfusionMatrixDisplay\n",
    "from sklearn.model_selection import RandomizedSearchCV, train_test_split\n",
    "from scipy.stats import randint\n",
    "\n",
    "# Tree Visualization\n",
    "from sklearn.tree import export_graphviz\n",
    "from IPython.display import Image\n",
    "import graphviz\n",
    "\n"
   ]
  },
  {
   "cell_type": "code",
   "execution_count": 12,
   "id": "5671f198-9289-4650-a2dd-b07a59edabb8",
   "metadata": {},
   "outputs": [],
   "source": [
    "# reshape the array (4d to 2d)\n",
    "nsamples, nx, ny, nrgb = x_train.shape\n",
    "x_train_rf = x_train.reshape((nsamples,nx*ny*nrgb))\n",
    "\n",
    "nsamples, nx, ny, nrgb = x_test.shape\n",
    "x_test_rf = x_test.reshape((nsamples,nx*ny*nrgb))"
   ]
  },
  {
   "cell_type": "code",
   "execution_count": 13,
   "id": "a094aac1-0809-4c97-b3cb-f00108540426",
   "metadata": {},
   "outputs": [],
   "source": [
    "rf = RandomForestClassifier()\n",
    "rf.fit(x_train_rf, y_train)\n",
    "y_pred = rf.predict(x_test_rf)"
   ]
  },
  {
   "cell_type": "code",
   "execution_count": 14,
   "id": "9eaedf36-9b91-438c-a256-8b239e0d474d",
   "metadata": {},
   "outputs": [
    {
     "name": "stdout",
     "output_type": "stream",
     "text": [
      "Accuracy: 0.7807017543859649\n"
     ]
    }
   ],
   "source": [
    "accuracy = accuracy_score(y_test, y_pred)\n",
    "print(\"Accuracy:\", accuracy)"
   ]
  },
  {
   "cell_type": "code",
   "execution_count": 15,
   "id": "80337b5b-31fc-4c38-aa54-9b65692a21a2",
   "metadata": {},
   "outputs": [
    {
     "data": {
      "image/png": "[encoded data removed]",
      "text/plain": [
       "<Figure size 640x480 with 2 Axes>"
      ]
     },
     "metadata": {},
     "output_type": "display_data"
    }
   ],
   "source": [
    "cm = confusion_matrix(y_test, y_pred)\n",
    "\n",
    "disp = ConfusionMatrixDisplay(confusion_matrix=cm).plot()\n"
   ]
  },
  {
   "cell_type": "code",
   "execution_count": 31,
   "id": "fb016c8a-f457-4e75-b3cb-2bb61ad689d2",
   "metadata": {},
   "outputs": [
    {
     "data": {
      "text/html": [
       "<style>#sk-container-id-3 {color: black;background-color: white;}#sk-container-id-3 pre{padding: 0;}#sk-container-id-3 div.sk-toggleable {background-color: white;}#sk-container-id-3 label.sk-toggleable__label {cursor: pointer;display: block;width: 100%;margin-bottom: 0;padding: 0.3em;box-sizing: border-box;text-align: center;}#sk-container-id-3 label.sk-toggleable__label-arrow:before {content: \"▸\";float: left;margin-right: 0.25em;color: #696969;}#sk-container-id-3 label.sk-toggleable__label-arrow:hover:before {color: black;}#sk-container-id-3 div.sk-estimator:hover label.sk-toggleable__label-arrow:before {color: black;}#sk-container-id-3 div.sk-toggleable__content {max-height: 0;max-width: 0;overflow: hidden;text-align: left;background-color: #f0f8ff;}#sk-container-id-3 div.sk-toggleable__content pre {margin: 0.2em;color: black;border-radius: 0.25em;background-color: #f0f8ff;}#sk-container-id-3 input.sk-toggleable__control:checked~div.sk-toggleable__content {max-height: 200px;max-width: 100%;overflow: auto;}#sk-container-id-3 input.sk-toggleable__control:checked~label.sk-toggleable__label-arrow:before {content: \"▾\";}#sk-container-id-3 div.sk-estimator input.sk-toggleable__control:checked~label.sk-toggleable__label {background-color: #d4ebff;}#sk-container-id-3 div.sk-label input.sk-toggleable__control:checked~label.sk-toggleable__label {background-color: #d4ebff;}#sk-container-id-3 input.sk-hidden--visually {border: 0;clip: rect(1px 1px 1px 1px);clip: rect(1px, 1px, 1px, 1px);height: 1px;margin: -1px;overflow: hidden;padding: 0;position: absolute;width: 1px;}#sk-container-id-3 div.sk-estimator {font-family: monospace;background-color: #f0f8ff;border: 1px dotted black;border-radius: 0.25em;box-sizing: border-box;margin-bottom: 0.5em;}#sk-container-id-3 div.sk-estimator:hover {background-color: #d4ebff;}#sk-container-id-3 div.sk-parallel-item::after {content: \"\";width: 100%;border-bottom: 1px solid gray;flex-grow: 1;}#sk-container-id-3 div.sk-label:hover label.sk-toggleable__label {background-color: #d4ebff;}#sk-container-id-3 div.sk-serial::before {content: \"\";position: absolute;border-left: 1px solid gray;box-sizing: border-box;top: 0;bottom: 0;left: 50%;z-index: 0;}#sk-container-id-3 div.sk-serial {display: flex;flex-direction: column;align-items: center;background-color: white;padding-right: 0.2em;padding-left: 0.2em;position: relative;}#sk-container-id-3 div.sk-item {position: relative;z-index: 1;}#sk-container-id-3 div.sk-parallel {display: flex;align-items: stretch;justify-content: center;background-color: white;position: relative;}#sk-container-id-3 div.sk-item::before, #sk-container-id-3 div.sk-parallel-item::before {content: \"\";position: absolute;border-left: 1px solid gray;box-sizing: border-box;top: 0;bottom: 0;left: 50%;z-index: -1;}#sk-container-id-3 div.sk-parallel-item {display: flex;flex-direction: column;z-index: 1;position: relative;background-color: white;}#sk-container-id-3 div.sk-parallel-item:first-child::after {align-self: flex-end;width: 50%;}#sk-container-id-3 div.sk-parallel-item:last-child::after {align-self: flex-start;width: 50%;}#sk-container-id-3 div.sk-parallel-item:only-child::after {width: 0;}#sk-container-id-3 div.sk-dashed-wrapped {border: 1px dashed gray;margin: 0 0.4em 0.5em 0.4em;box-sizing: border-box;padding-bottom: 0.4em;background-color: white;}#sk-container-id-3 div.sk-label label {font-family: monospace;font-weight: bold;display: inline-block;line-height: 1.2em;}#sk-container-id-3 div.sk-label-container {text-align: center;}#sk-container-id-3 div.sk-container {/* jupyter's `normalize.less` sets `[hidden] { display: none; }` but bootstrap.min.css set `[hidden] { display: none !important; }` so we also need the `!important` here to be able to override the default hidden behavior on the sphinx rendered scikit-learn.org. See: https://github.com/scikit-learn/scikit-learn/issues/21755 */display: inline-block !important;position: relative;}#sk-container-id-3 div.sk-text-repr-fallback {display: none;}</style><div id=\"sk-container-id-3\" class=\"sk-top-container\"><div class=\"sk-text-repr-fallback\"><pre>RandomizedSearchCV(cv=5, estimator=RandomForestClassifier(), n_iter=5,\n",
       "                   param_distributions={&#x27;max_depth&#x27;: [3, 5, 10, 15],\n",
       "                                        &#x27;n_estimators&#x27;: [50, 100, 500]})</pre><b>In a Jupyter environment, please rerun this cell to show the HTML representation or trust the notebook. <br />On GitHub, the HTML representation is unable to render, please try loading this page with nbviewer.org.</b></div><div class=\"sk-container\" hidden><div class=\"sk-item sk-dashed-wrapped\"><div class=\"sk-label-container\"><div class=\"sk-label sk-toggleable\"><input class=\"sk-toggleable__control sk-hidden--visually\" id=\"sk-estimator-id-5\" type=\"checkbox\" ><label for=\"sk-estimator-id-5\" class=\"sk-toggleable__label sk-toggleable__label-arrow\">RandomizedSearchCV</label><div class=\"sk-toggleable__content\"><pre>RandomizedSearchCV(cv=5, estimator=RandomForestClassifier(), n_iter=5,\n",
       "                   param_distributions={&#x27;max_depth&#x27;: [3, 5, 10, 15],\n",
       "                                        &#x27;n_estimators&#x27;: [50, 100, 500]})</pre></div></div></div><div class=\"sk-parallel\"><div class=\"sk-parallel-item\"><div class=\"sk-item\"><div class=\"sk-label-container\"><div class=\"sk-label sk-toggleable\"><input class=\"sk-toggleable__control sk-hidden--visually\" id=\"sk-estimator-id-6\" type=\"checkbox\" ><label for=\"sk-estimator-id-6\" class=\"sk-toggleable__label sk-toggleable__label-arrow\">estimator: RandomForestClassifier</label><div class=\"sk-toggleable__content\"><pre>RandomForestClassifier()</pre></div></div></div><div class=\"sk-serial\"><div class=\"sk-item\"><div class=\"sk-estimator sk-toggleable\"><input class=\"sk-toggleable__control sk-hidden--visually\" id=\"sk-estimator-id-7\" type=\"checkbox\" ><label for=\"sk-estimator-id-7\" class=\"sk-toggleable__label sk-toggleable__label-arrow\">RandomForestClassifier</label><div class=\"sk-toggleable__content\"><pre>RandomForestClassifier()</pre></div></div></div></div></div></div></div></div></div></div>"
      ],
      "text/plain": [
       "RandomizedSearchCV(cv=5, estimator=RandomForestClassifier(), n_iter=5,\n",
       "                   param_distributions={'max_depth': [3, 5, 10, 15],\n",
       "                                        'n_estimators': [50, 100, 500]})"
      ]
     },
     "execution_count": 31,
     "metadata": {},
     "output_type": "execute_result"
    }
   ],
   "source": [
    "param_dist = {'n_estimators': [50,100,500],\n",
    "                'max_depth': [3,5,10,15]}\n",
    "\n",
    "# Create a random forest classifier\n",
    "rf = RandomForestClassifier()\n",
    "\n",
    "# Use random search to find the best hyperparameters\n",
    "rand_search = RandomizedSearchCV(rf, \n",
    "                                 param_distributions = param_dist, \n",
    "                                 n_iter=5, \n",
    "                                 cv=5)\n",
    "\n",
    "# Fit the random search object to the data\n",
    "rand_search.fit(x_train_rf, y_train)"
   ]
  },
  {
   "cell_type": "code",
   "execution_count": 34,
   "id": "9837aedb-cdfe-4b6d-967f-7be3d91c12a3",
   "metadata": {},
   "outputs": [
    {
     "name": "stdout",
     "output_type": "stream",
     "text": [
      "Best hyperparameters: {'n_estimators': 50, 'max_depth': 15}\n"
     ]
    }
   ],
   "source": [
    "best_rf = rand_search.best_estimator_\n",
    "\n",
    "# Print the best hyperparameters\n",
    "print('Best hyperparameters:',  rand_search.best_params_)"
   ]
  },
  {
   "cell_type": "code",
   "execution_count": 16,
   "id": "e518b81e-a7ad-40a3-b0a1-3d7c1c4140e0",
   "metadata": {},
   "outputs": [],
   "source": [
    "rf = RandomForestClassifier(\n",
    "    n_estimators = 50,\n",
    "    max_depth=15\n",
    ")\n",
    "rf.fit(x_train_rf, y_train)\n",
    "y_pred = rf.predict(x_test_rf)"
   ]
  },
  {
   "cell_type": "code",
   "execution_count": 17,
   "id": "da790047-ed83-4d41-a47d-0f183fd103ae",
   "metadata": {},
   "outputs": [
    {
     "name": "stdout",
     "output_type": "stream",
     "text": [
      "Accuracy: 0.7832080200501254\n"
     ]
    }
   ],
   "source": [
    "y_pred = rf.predict(x_test_rf)\n",
    "accuracy = accuracy_score(y_test, y_pred)\n",
    "print(\"Accuracy:\", accuracy)"
   ]
  },
  {
   "cell_type": "code",
   "execution_count": 19,
   "id": "38d2082f-f1e3-433e-96cc-e0e0e8967d2d",
   "metadata": {},
   "outputs": [
    {
     "data": {
      "image/png": "[encoded data removed]",
      "text/plain": [
       "<Figure size 640x480 with 2 Axes>"
      ]
     },
     "metadata": {},
     "output_type": "display_data"
    }
   ],
   "source": [
    "cm = confusion_matrix(y_test, y_pred)\n",
    "\n",
    "disp = ConfusionMatrixDisplay(confusion_matrix=cm).plot()"
   ]
  },
  {
   "cell_type": "markdown",
   "id": "7c8cdeb7-5b5f-40af-adba-2110b825b881",
   "metadata": {},
   "source": [
    "**Image Classification using CNN**"
   ]
  },
  {
   "cell_type": "code",
   "execution_count": 21,
   "id": "12a6c274-507d-495f-bd67-241f93c5ad5e",
   "metadata": {},
   "outputs": [],
   "source": [
    "from tensorflow import keras\n",
    "from tensorflow.keras import layers\n",
    "from keras import models\n",
    "\n",
    "\n",
    "model = keras.models.Sequential()\n",
    "#inputs = keras.Input()\n",
    "model.add(layers.Conv2D(32, (3, 3), activation='relu',input_shape=(64,64, 3)))\n",
    "model.add(layers.MaxPooling2D((2, 2)))\n",
    "model.add(layers.Conv2D(64, (3, 3), activation='relu'))\n",
    "model.add(layers.MaxPooling2D((2, 2)))\n",
    "model.add(layers.Conv2D(64, (3, 3), activation='relu'))\n",
    "\n"
   ]
  },
  {
   "cell_type": "code",
   "execution_count": 22,
   "id": "21d731a9-430f-4391-adb6-fd08254db6b0",
   "metadata": {},
   "outputs": [
    {
     "data": {
      "text/html": [
       "<pre style=\"white-space:pre;overflow-x:auto;line-height:normal;font-family:Menlo,'DejaVu Sans Mono',consolas,'Courier New',monospace\"><span style=\"font-weight: bold\">Model: \"sequential_1\"</span>\n",
       "</pre>\n"
      ],
      "text/plain": [
       "\u001b[1mModel: \"sequential_1\"\u001b[0m\n"
      ]
     },
     "metadata": {},
     "output_type": "display_data"
    },
    {
     "data": {
      "text/html": [
       "<pre style=\"white-space:pre;overflow-x:auto;line-height:normal;font-family:Menlo,'DejaVu Sans Mono',consolas,'Courier New',monospace\">┏━━━━━━━━━━━━━━━━━━━━━━━━━━━━━━━━━┳━━━━━━━━━━━━━━━━━━━━━━━━┳━━━━━━━━━━━━━━━┓\n",
       "┃<span style=\"font-weight: bold\"> Layer (type)                    </span>┃<span style=\"font-weight: bold\"> Output Shape           </span>┃<span style=\"font-weight: bold\">       Param # </span>┃\n",
       "┡━━━━━━━━━━━━━━━━━━━━━━━━━━━━━━━━━╇━━━━━━━━━━━━━━━━━━━━━━━━╇━━━━━━━━━━━━━━━┩\n",
       "│ conv2d_3 (<span style=\"color: #0087ff; text-decoration-color: #0087ff\">Conv2D</span>)               │ (<span style=\"color: #00d7ff; text-decoration-color: #00d7ff\">None</span>, <span style=\"color: #00af00; text-decoration-color: #00af00\">62</span>, <span style=\"color: #00af00; text-decoration-color: #00af00\">62</span>, <span style=\"color: #00af00; text-decoration-color: #00af00\">32</span>)     │           <span style=\"color: #00af00; text-decoration-color: #00af00\">896</span> │\n",
       "├─────────────────────────────────┼────────────────────────┼───────────────┤\n",
       "│ max_pooling2d_2 (<span style=\"color: #0087ff; text-decoration-color: #0087ff\">MaxPooling2D</span>)  │ (<span style=\"color: #00d7ff; text-decoration-color: #00d7ff\">None</span>, <span style=\"color: #00af00; text-decoration-color: #00af00\">31</span>, <span style=\"color: #00af00; text-decoration-color: #00af00\">31</span>, <span style=\"color: #00af00; text-decoration-color: #00af00\">32</span>)     │             <span style=\"color: #00af00; text-decoration-color: #00af00\">0</span> │\n",
       "├─────────────────────────────────┼────────────────────────┼───────────────┤\n",
       "│ conv2d_4 (<span style=\"color: #0087ff; text-decoration-color: #0087ff\">Conv2D</span>)               │ (<span style=\"color: #00d7ff; text-decoration-color: #00d7ff\">None</span>, <span style=\"color: #00af00; text-decoration-color: #00af00\">29</span>, <span style=\"color: #00af00; text-decoration-color: #00af00\">29</span>, <span style=\"color: #00af00; text-decoration-color: #00af00\">64</span>)     │        <span style=\"color: #00af00; text-decoration-color: #00af00\">18,496</span> │\n",
       "├─────────────────────────────────┼────────────────────────┼───────────────┤\n",
       "│ max_pooling2d_3 (<span style=\"color: #0087ff; text-decoration-color: #0087ff\">MaxPooling2D</span>)  │ (<span style=\"color: #00d7ff; text-decoration-color: #00d7ff\">None</span>, <span style=\"color: #00af00; text-decoration-color: #00af00\">14</span>, <span style=\"color: #00af00; text-decoration-color: #00af00\">14</span>, <span style=\"color: #00af00; text-decoration-color: #00af00\">64</span>)     │             <span style=\"color: #00af00; text-decoration-color: #00af00\">0</span> │\n",
       "├─────────────────────────────────┼────────────────────────┼───────────────┤\n",
       "│ conv2d_5 (<span style=\"color: #0087ff; text-decoration-color: #0087ff\">Conv2D</span>)               │ (<span style=\"color: #00d7ff; text-decoration-color: #00d7ff\">None</span>, <span style=\"color: #00af00; text-decoration-color: #00af00\">12</span>, <span style=\"color: #00af00; text-decoration-color: #00af00\">12</span>, <span style=\"color: #00af00; text-decoration-color: #00af00\">64</span>)     │        <span style=\"color: #00af00; text-decoration-color: #00af00\">36,928</span> │\n",
       "└─────────────────────────────────┴────────────────────────┴───────────────┘\n",
       "</pre>\n"
      ],
      "text/plain": [
       "┏━━━━━━━━━━━━━━━━━━━━━━━━━━━━━━━━━┳━━━━━━━━━━━━━━━━━━━━━━━━┳━━━━━━━━━━━━━━━┓\n",
       "┃\u001b[1m \u001b[0m\u001b[1mLayer (type)                   \u001b[0m\u001b[1m \u001b[0m┃\u001b[1m \u001b[0m\u001b[1mOutput Shape          \u001b[0m\u001b[1m \u001b[0m┃\u001b[1m \u001b[0m\u001b[1m      Param #\u001b[0m\u001b[1m \u001b[0m┃\n",
       "┡━━━━━━━━━━━━━━━━━━━━━━━━━━━━━━━━━╇━━━━━━━━━━━━━━━━━━━━━━━━╇━━━━━━━━━━━━━━━┩\n",
       "│ conv2d_3 (\u001b[38;5;33mConv2D\u001b[0m)               │ (\u001b[38;5;45mNone\u001b[0m, \u001b[38;5;34m62\u001b[0m, \u001b[38;5;34m62\u001b[0m, \u001b[38;5;34m32\u001b[0m)     │           \u001b[38;5;34m896\u001b[0m │\n",
       "├─────────────────────────────────┼────────────────────────┼───────────────┤\n",
       "│ max_pooling2d_2 (\u001b[38;5;33mMaxPooling2D\u001b[0m)  │ (\u001b[38;5;45mNone\u001b[0m, \u001b[38;5;34m31\u001b[0m, \u001b[38;5;34m31\u001b[0m, \u001b[38;5;34m32\u001b[0m)     │             \u001b[38;5;34m0\u001b[0m │\n",
       "├─────────────────────────────────┼────────────────────────┼───────────────┤\n",
       "│ conv2d_4 (\u001b[38;5;33mConv2D\u001b[0m)               │ (\u001b[38;5;45mNone\u001b[0m, \u001b[38;5;34m29\u001b[0m, \u001b[38;5;34m29\u001b[0m, \u001b[38;5;34m64\u001b[0m)     │        \u001b[38;5;34m18,496\u001b[0m │\n",
       "├─────────────────────────────────┼────────────────────────┼───────────────┤\n",
       "│ max_pooling2d_3 (\u001b[38;5;33mMaxPooling2D\u001b[0m)  │ (\u001b[38;5;45mNone\u001b[0m, \u001b[38;5;34m14\u001b[0m, \u001b[38;5;34m14\u001b[0m, \u001b[38;5;34m64\u001b[0m)     │             \u001b[38;5;34m0\u001b[0m │\n",
       "├─────────────────────────────────┼────────────────────────┼───────────────┤\n",
       "│ conv2d_5 (\u001b[38;5;33mConv2D\u001b[0m)               │ (\u001b[38;5;45mNone\u001b[0m, \u001b[38;5;34m12\u001b[0m, \u001b[38;5;34m12\u001b[0m, \u001b[38;5;34m64\u001b[0m)     │        \u001b[38;5;34m36,928\u001b[0m │\n",
       "└─────────────────────────────────┴────────────────────────┴───────────────┘\n"
      ]
     },
     "metadata": {},
     "output_type": "display_data"
    },
    {
     "data": {
      "text/html": [
       "<pre style=\"white-space:pre;overflow-x:auto;line-height:normal;font-family:Menlo,'DejaVu Sans Mono',consolas,'Courier New',monospace\"><span style=\"font-weight: bold\"> Total params: </span><span style=\"color: #00af00; text-decoration-color: #00af00\">56,320</span> (220.00 KB)\n",
       "</pre>\n"
      ],
      "text/plain": [
       "\u001b[1m Total params: \u001b[0m\u001b[38;5;34m56,320\u001b[0m (220.00 KB)\n"
      ]
     },
     "metadata": {},
     "output_type": "display_data"
    },
    {
     "data": {
      "text/html": [
       "<pre style=\"white-space:pre;overflow-x:auto;line-height:normal;font-family:Menlo,'DejaVu Sans Mono',consolas,'Courier New',monospace\"><span style=\"font-weight: bold\"> Trainable params: </span><span style=\"color: #00af00; text-decoration-color: #00af00\">56,320</span> (220.00 KB)\n",
       "</pre>\n"
      ],
      "text/plain": [
       "\u001b[1m Trainable params: \u001b[0m\u001b[38;5;34m56,320\u001b[0m (220.00 KB)\n"
      ]
     },
     "metadata": {},
     "output_type": "display_data"
    },
    {
     "data": {
      "text/html": [
       "<pre style=\"white-space:pre;overflow-x:auto;line-height:normal;font-family:Menlo,'DejaVu Sans Mono',consolas,'Courier New',monospace\"><span style=\"font-weight: bold\"> Non-trainable params: </span><span style=\"color: #00af00; text-decoration-color: #00af00\">0</span> (0.00 B)\n",
       "</pre>\n"
      ],
      "text/plain": [
       "\u001b[1m Non-trainable params: \u001b[0m\u001b[38;5;34m0\u001b[0m (0.00 B)\n"
      ]
     },
     "metadata": {},
     "output_type": "display_data"
    }
   ],
   "source": [
    "model.summary()"
   ]
  },
  {
   "cell_type": "code",
   "execution_count": 23,
   "id": "78f941e4-8dfb-4cab-8533-d0587dd91fe4",
   "metadata": {},
   "outputs": [],
   "source": [
    "#Adding a classifier layer\n",
    "model.add(layers.Flatten())\n",
    "model.add(layers.Dense(64, activation='relu'))\n",
    "model.add(layers.Dense(1, activation = 'sigmoid'))"
   ]
  },
  {
   "cell_type": "code",
   "execution_count": 24,
   "id": "053311ba-28b8-432c-8880-afbd6d6bb1ab",
   "metadata": {},
   "outputs": [
    {
     "data": {
      "text/html": [
       "<pre style=\"white-space:pre;overflow-x:auto;line-height:normal;font-family:Menlo,'DejaVu Sans Mono',consolas,'Courier New',monospace\"><span style=\"font-weight: bold\">Model: \"sequential_1\"</span>\n",
       "</pre>\n"
      ],
      "text/plain": [
       "\u001b[1mModel: \"sequential_1\"\u001b[0m\n"
      ]
     },
     "metadata": {},
     "output_type": "display_data"
    },
    {
     "data": {
      "text/html": [
       "<pre style=\"white-space:pre;overflow-x:auto;line-height:normal;font-family:Menlo,'DejaVu Sans Mono',consolas,'Courier New',monospace\">┏━━━━━━━━━━━━━━━━━━━━━━━━━━━━━━━━━┳━━━━━━━━━━━━━━━━━━━━━━━━┳━━━━━━━━━━━━━━━┓\n",
       "┃<span style=\"font-weight: bold\"> Layer (type)                    </span>┃<span style=\"font-weight: bold\"> Output Shape           </span>┃<span style=\"font-weight: bold\">       Param # </span>┃\n",
       "┡━━━━━━━━━━━━━━━━━━━━━━━━━━━━━━━━━╇━━━━━━━━━━━━━━━━━━━━━━━━╇━━━━━━━━━━━━━━━┩\n",
       "│ conv2d_3 (<span style=\"color: #0087ff; text-decoration-color: #0087ff\">Conv2D</span>)               │ (<span style=\"color: #00d7ff; text-decoration-color: #00d7ff\">None</span>, <span style=\"color: #00af00; text-decoration-color: #00af00\">62</span>, <span style=\"color: #00af00; text-decoration-color: #00af00\">62</span>, <span style=\"color: #00af00; text-decoration-color: #00af00\">32</span>)     │           <span style=\"color: #00af00; text-decoration-color: #00af00\">896</span> │\n",
       "├─────────────────────────────────┼────────────────────────┼───────────────┤\n",
       "│ max_pooling2d_2 (<span style=\"color: #0087ff; text-decoration-color: #0087ff\">MaxPooling2D</span>)  │ (<span style=\"color: #00d7ff; text-decoration-color: #00d7ff\">None</span>, <span style=\"color: #00af00; text-decoration-color: #00af00\">31</span>, <span style=\"color: #00af00; text-decoration-color: #00af00\">31</span>, <span style=\"color: #00af00; text-decoration-color: #00af00\">32</span>)     │             <span style=\"color: #00af00; text-decoration-color: #00af00\">0</span> │\n",
       "├─────────────────────────────────┼────────────────────────┼───────────────┤\n",
       "│ conv2d_4 (<span style=\"color: #0087ff; text-decoration-color: #0087ff\">Conv2D</span>)               │ (<span style=\"color: #00d7ff; text-decoration-color: #00d7ff\">None</span>, <span style=\"color: #00af00; text-decoration-color: #00af00\">29</span>, <span style=\"color: #00af00; text-decoration-color: #00af00\">29</span>, <span style=\"color: #00af00; text-decoration-color: #00af00\">64</span>)     │        <span style=\"color: #00af00; text-decoration-color: #00af00\">18,496</span> │\n",
       "├─────────────────────────────────┼────────────────────────┼───────────────┤\n",
       "│ max_pooling2d_3 (<span style=\"color: #0087ff; text-decoration-color: #0087ff\">MaxPooling2D</span>)  │ (<span style=\"color: #00d7ff; text-decoration-color: #00d7ff\">None</span>, <span style=\"color: #00af00; text-decoration-color: #00af00\">14</span>, <span style=\"color: #00af00; text-decoration-color: #00af00\">14</span>, <span style=\"color: #00af00; text-decoration-color: #00af00\">64</span>)     │             <span style=\"color: #00af00; text-decoration-color: #00af00\">0</span> │\n",
       "├─────────────────────────────────┼────────────────────────┼───────────────┤\n",
       "│ conv2d_5 (<span style=\"color: #0087ff; text-decoration-color: #0087ff\">Conv2D</span>)               │ (<span style=\"color: #00d7ff; text-decoration-color: #00d7ff\">None</span>, <span style=\"color: #00af00; text-decoration-color: #00af00\">12</span>, <span style=\"color: #00af00; text-decoration-color: #00af00\">12</span>, <span style=\"color: #00af00; text-decoration-color: #00af00\">64</span>)     │        <span style=\"color: #00af00; text-decoration-color: #00af00\">36,928</span> │\n",
       "├─────────────────────────────────┼────────────────────────┼───────────────┤\n",
       "│ flatten (<span style=\"color: #0087ff; text-decoration-color: #0087ff\">Flatten</span>)               │ (<span style=\"color: #00d7ff; text-decoration-color: #00d7ff\">None</span>, <span style=\"color: #00af00; text-decoration-color: #00af00\">9216</span>)           │             <span style=\"color: #00af00; text-decoration-color: #00af00\">0</span> │\n",
       "├─────────────────────────────────┼────────────────────────┼───────────────┤\n",
       "│ dense (<span style=\"color: #0087ff; text-decoration-color: #0087ff\">Dense</span>)                   │ (<span style=\"color: #00d7ff; text-decoration-color: #00d7ff\">None</span>, <span style=\"color: #00af00; text-decoration-color: #00af00\">64</span>)             │       <span style=\"color: #00af00; text-decoration-color: #00af00\">589,888</span> │\n",
       "├─────────────────────────────────┼────────────────────────┼───────────────┤\n",
       "│ dense_1 (<span style=\"color: #0087ff; text-decoration-color: #0087ff\">Dense</span>)                 │ (<span style=\"color: #00d7ff; text-decoration-color: #00d7ff\">None</span>, <span style=\"color: #00af00; text-decoration-color: #00af00\">1</span>)              │            <span style=\"color: #00af00; text-decoration-color: #00af00\">65</span> │\n",
       "└─────────────────────────────────┴────────────────────────┴───────────────┘\n",
       "</pre>\n"
      ],
      "text/plain": [
       "┏━━━━━━━━━━━━━━━━━━━━━━━━━━━━━━━━━┳━━━━━━━━━━━━━━━━━━━━━━━━┳━━━━━━━━━━━━━━━┓\n",
       "┃\u001b[1m \u001b[0m\u001b[1mLayer (type)                   \u001b[0m\u001b[1m \u001b[0m┃\u001b[1m \u001b[0m\u001b[1mOutput Shape          \u001b[0m\u001b[1m \u001b[0m┃\u001b[1m \u001b[0m\u001b[1m      Param #\u001b[0m\u001b[1m \u001b[0m┃\n",
       "┡━━━━━━━━━━━━━━━━━━━━━━━━━━━━━━━━━╇━━━━━━━━━━━━━━━━━━━━━━━━╇━━━━━━━━━━━━━━━┩\n",
       "│ conv2d_3 (\u001b[38;5;33mConv2D\u001b[0m)               │ (\u001b[38;5;45mNone\u001b[0m, \u001b[38;5;34m62\u001b[0m, \u001b[38;5;34m62\u001b[0m, \u001b[38;5;34m32\u001b[0m)     │           \u001b[38;5;34m896\u001b[0m │\n",
       "├─────────────────────────────────┼────────────────────────┼───────────────┤\n",
       "│ max_pooling2d_2 (\u001b[38;5;33mMaxPooling2D\u001b[0m)  │ (\u001b[38;5;45mNone\u001b[0m, \u001b[38;5;34m31\u001b[0m, \u001b[38;5;34m31\u001b[0m, \u001b[38;5;34m32\u001b[0m)     │             \u001b[38;5;34m0\u001b[0m │\n",
       "├─────────────────────────────────┼────────────────────────┼───────────────┤\n",
       "│ conv2d_4 (\u001b[38;5;33mConv2D\u001b[0m)               │ (\u001b[38;5;45mNone\u001b[0m, \u001b[38;5;34m29\u001b[0m, \u001b[38;5;34m29\u001b[0m, \u001b[38;5;34m64\u001b[0m)     │        \u001b[38;5;34m18,496\u001b[0m │\n",
       "├─────────────────────────────────┼────────────────────────┼───────────────┤\n",
       "│ max_pooling2d_3 (\u001b[38;5;33mMaxPooling2D\u001b[0m)  │ (\u001b[38;5;45mNone\u001b[0m, \u001b[38;5;34m14\u001b[0m, \u001b[38;5;34m14\u001b[0m, \u001b[38;5;34m64\u001b[0m)     │             \u001b[38;5;34m0\u001b[0m │\n",
       "├─────────────────────────────────┼────────────────────────┼───────────────┤\n",
       "│ conv2d_5 (\u001b[38;5;33mConv2D\u001b[0m)               │ (\u001b[38;5;45mNone\u001b[0m, \u001b[38;5;34m12\u001b[0m, \u001b[38;5;34m12\u001b[0m, \u001b[38;5;34m64\u001b[0m)     │        \u001b[38;5;34m36,928\u001b[0m │\n",
       "├─────────────────────────────────┼────────────────────────┼───────────────┤\n",
       "│ flatten (\u001b[38;5;33mFlatten\u001b[0m)               │ (\u001b[38;5;45mNone\u001b[0m, \u001b[38;5;34m9216\u001b[0m)           │             \u001b[38;5;34m0\u001b[0m │\n",
       "├─────────────────────────────────┼────────────────────────┼───────────────┤\n",
       "│ dense (\u001b[38;5;33mDense\u001b[0m)                   │ (\u001b[38;5;45mNone\u001b[0m, \u001b[38;5;34m64\u001b[0m)             │       \u001b[38;5;34m589,888\u001b[0m │\n",
       "├─────────────────────────────────┼────────────────────────┼───────────────┤\n",
       "│ dense_1 (\u001b[38;5;33mDense\u001b[0m)                 │ (\u001b[38;5;45mNone\u001b[0m, \u001b[38;5;34m1\u001b[0m)              │            \u001b[38;5;34m65\u001b[0m │\n",
       "└─────────────────────────────────┴────────────────────────┴───────────────┘\n"
      ]
     },
     "metadata": {},
     "output_type": "display_data"
    },
    {
     "data": {
      "text/html": [
       "<pre style=\"white-space:pre;overflow-x:auto;line-height:normal;font-family:Menlo,'DejaVu Sans Mono',consolas,'Courier New',monospace\"><span style=\"font-weight: bold\"> Total params: </span><span style=\"color: #00af00; text-decoration-color: #00af00\">646,273</span> (2.47 MB)\n",
       "</pre>\n"
      ],
      "text/plain": [
       "\u001b[1m Total params: \u001b[0m\u001b[38;5;34m646,273\u001b[0m (2.47 MB)\n"
      ]
     },
     "metadata": {},
     "output_type": "display_data"
    },
    {
     "data": {
      "text/html": [
       "<pre style=\"white-space:pre;overflow-x:auto;line-height:normal;font-family:Menlo,'DejaVu Sans Mono',consolas,'Courier New',monospace\"><span style=\"font-weight: bold\"> Trainable params: </span><span style=\"color: #00af00; text-decoration-color: #00af00\">646,273</span> (2.47 MB)\n",
       "</pre>\n"
      ],
      "text/plain": [
       "\u001b[1m Trainable params: \u001b[0m\u001b[38;5;34m646,273\u001b[0m (2.47 MB)\n"
      ]
     },
     "metadata": {},
     "output_type": "display_data"
    },
    {
     "data": {
      "text/html": [
       "<pre style=\"white-space:pre;overflow-x:auto;line-height:normal;font-family:Menlo,'DejaVu Sans Mono',consolas,'Courier New',monospace\"><span style=\"font-weight: bold\"> Non-trainable params: </span><span style=\"color: #00af00; text-decoration-color: #00af00\">0</span> (0.00 B)\n",
       "</pre>\n"
      ],
      "text/plain": [
       "\u001b[1m Non-trainable params: \u001b[0m\u001b[38;5;34m0\u001b[0m (0.00 B)\n"
      ]
     },
     "metadata": {},
     "output_type": "display_data"
    }
   ],
   "source": [
    "model.summary()"
   ]
  },
  {
   "cell_type": "code",
   "execution_count": 29,
   "id": "5cbfae93-e3ab-471c-86b1-049187f28187",
   "metadata": {},
   "outputs": [
    {
     "name": "stdout",
     "output_type": "stream",
     "text": [
      "Epoch 1/10\n",
      "\u001b[1m100/100\u001b[0m \u001b[32m━━━━━━━━━━━━━━━━━━━━\u001b[0m\u001b[37m\u001b[0m \u001b[1m3s\u001b[0m 29ms/step - binary_accuracy: 0.9312 - false_negatives_1: 37.0594 - false_positives_1: 72.0396 - loss: 0.1992 - val_binary_accuracy: 0.8747 - val_false_negatives_1: 36.0000 - val_false_positives_1: 64.0000 - val_loss: 0.3063\n",
      "Epoch 2/10\n",
      "\u001b[1m100/100\u001b[0m \u001b[32m━━━━━━━━━━━━━━━━━━━━\u001b[0m\u001b[37m\u001b[0m \u001b[1m3s\u001b[0m 27ms/step - binary_accuracy: 0.9284 - false_negatives_1: 43.5149 - false_positives_1: 65.7228 - loss: 0.1786 - val_binary_accuracy: 0.8622 - val_false_negatives_1: 67.0000 - val_false_positives_1: 43.0000 - val_loss: 0.3191\n",
      "Epoch 3/10\n",
      "\u001b[1m100/100\u001b[0m \u001b[32m━━━━━━━━━━━━━━━━━━━━\u001b[0m\u001b[37m\u001b[0m \u001b[1m3s\u001b[0m 27ms/step - binary_accuracy: 0.9591 - false_negatives_1: 28.8416 - false_positives_1: 39.0891 - loss: 0.1250 - val_binary_accuracy: 0.8647 - val_false_negatives_1: 56.0000 - val_false_positives_1: 52.0000 - val_loss: 0.3241\n",
      "Epoch 4/10\n",
      "\u001b[1m100/100\u001b[0m \u001b[32m━━━━━━━━━━━━━━━━━━━━\u001b[0m\u001b[37m\u001b[0m \u001b[1m3s\u001b[0m 27ms/step - binary_accuracy: 0.9562 - false_negatives_1: 28.7030 - false_positives_1: 45.9307 - loss: 0.1297 - val_binary_accuracy: 0.8672 - val_false_negatives_1: 30.0000 - val_false_positives_1: 76.0000 - val_loss: 0.3711\n",
      "Epoch 5/10\n",
      "\u001b[1m100/100\u001b[0m \u001b[32m━━━━━━━━━━━━━━━━━━━━\u001b[0m\u001b[37m\u001b[0m \u001b[1m3s\u001b[0m 27ms/step - binary_accuracy: 0.9682 - false_negatives_1: 17.9703 - false_positives_1: 33.5644 - loss: 0.0952 - val_binary_accuracy: 0.8609 - val_false_negatives_1: 50.0000 - val_false_positives_1: 61.0000 - val_loss: 0.3658\n",
      "Epoch 6/10\n",
      "\u001b[1m100/100\u001b[0m \u001b[32m━━━━━━━━━━━━━━━━━━━━\u001b[0m\u001b[37m\u001b[0m \u001b[1m3s\u001b[0m 28ms/step - binary_accuracy: 0.9731 - false_negatives_1: 17.9109 - false_positives_1: 27.2376 - loss: 0.0886 - val_binary_accuracy: 0.8634 - val_false_negatives_1: 39.0000 - val_false_positives_1: 70.0000 - val_loss: 0.4514\n",
      "Epoch 7/10\n",
      "\u001b[1m100/100\u001b[0m \u001b[32m━━━━━━━━━━━━━━━━━━━━\u001b[0m\u001b[37m\u001b[0m \u001b[1m3s\u001b[0m 28ms/step - binary_accuracy: 0.9860 - false_negatives_1: 10.5842 - false_positives_1: 14.4950 - loss: 0.0568 - val_binary_accuracy: 0.8484 - val_false_negatives_1: 80.0000 - val_false_positives_1: 41.0000 - val_loss: 0.4685\n",
      "Epoch 8/10\n",
      "\u001b[1m100/100\u001b[0m \u001b[32m━━━━━━━━━━━━━━━━━━━━\u001b[0m\u001b[37m\u001b[0m \u001b[1m3s\u001b[0m 28ms/step - binary_accuracy: 0.9895 - false_negatives_1: 8.9604 - false_positives_1: 8.2673 - loss: 0.0446 - val_binary_accuracy: 0.8496 - val_false_negatives_1: 69.0000 - val_false_positives_1: 51.0000 - val_loss: 0.4885\n",
      "Epoch 9/10\n",
      "\u001b[1m100/100\u001b[0m \u001b[32m━━━━━━━━━━━━━━━━━━━━\u001b[0m\u001b[37m\u001b[0m \u001b[1m3s\u001b[0m 28ms/step - binary_accuracy: 0.9954 - false_negatives_1: 4.4257 - false_positives_1: 5.9901 - loss: 0.0278 - val_binary_accuracy: 0.8634 - val_false_negatives_1: 45.0000 - val_false_positives_1: 64.0000 - val_loss: 0.5410\n",
      "Epoch 10/10\n",
      "\u001b[1m100/100\u001b[0m \u001b[32m━━━━━━━━━━━━━━━━━━━━\u001b[0m\u001b[37m\u001b[0m \u001b[1m3s\u001b[0m 28ms/step - binary_accuracy: 0.9923 - false_negatives_1: 3.8218 - false_positives_1: 6.8416 - loss: 0.0304 - val_binary_accuracy: 0.8534 - val_false_negatives_1: 73.0000 - val_false_positives_1: 44.0000 - val_loss: 0.5716\n"
     ]
    }
   ],
   "source": [
    "model.compile(optimizer=\"adam\",\n",
    "              loss=tf.keras.losses.BinaryCrossentropy(),\n",
    "             metrics=[\n",
    "        keras.metrics.BinaryAccuracy(),\n",
    "        keras.metrics.FalseNegatives(),\n",
    "        keras.metrics.FalsePositives(),])\n",
    "\n",
    "history = model.fit(x_train, y_train, epochs=10, \n",
    "         validation_data =(x_test,y_test))"
   ]
  },
  {
   "cell_type": "code",
   "execution_count": 34,
   "id": "bf55b3a5-5026-4c6f-8a6c-299d073043a7",
   "metadata": {},
   "outputs": [
    {
     "data": {
      "text/plain": [
       "<matplotlib.legend.Legend at 0x2dfb0f410>"
      ]
     },
     "execution_count": 34,
     "metadata": {},
     "output_type": "execute_result"
    },
    {
     "data": {
      "image/png": "[encoded data removed]",
      "text/plain": [
       "<Figure size 640x480 with 1 Axes>"
      ]
     },
     "metadata": {},
     "output_type": "display_data"
    }
   ],
   "source": [
    "plt.plot(history.history['binary_accuracy'], label='accuracy')\n",
    "plt.plot(history.history['val_binary_accuracy'], label = 'val_accuracy')\n",
    "plt.xlabel('Epoch')\n",
    "plt.ylabel('Accuracy')\n",
    "plt.ylim([0, 1])\n",
    "plt.legend(loc='lower right')\n",
    "\n"
   ]
  },
  {
   "cell_type": "code",
   "execution_count": 35,
   "id": "e8f549cb-d35b-4aa8-940f-6b214afd5b65",
   "metadata": {},
   "outputs": [
    {
     "ename": "KeyError",
     "evalue": "'false_positives'",
     "output_type": "error",
     "traceback": [
      "\u001b[0;31m---------------------------------------------------------------------------\u001b[0m",
      "\u001b[0;31mKeyError\u001b[0m                                  Traceback (most recent call last)",
      "Cell \u001b[0;32mIn[35], line 8\u001b[0m\n\u001b[1;32m      5\u001b[0m loss \u001b[38;5;241m=\u001b[39m history\u001b[38;5;241m.\u001b[39mhistory[\u001b[38;5;124m\"\u001b[39m\u001b[38;5;124mloss\u001b[39m\u001b[38;5;124m\"\u001b[39m]\n\u001b[1;32m      6\u001b[0m val_loss \u001b[38;5;241m=\u001b[39m history\u001b[38;5;241m.\u001b[39mhistory[\u001b[38;5;124m\"\u001b[39m\u001b[38;5;124mval_loss\u001b[39m\u001b[38;5;124m\"\u001b[39m]\n\u001b[0;32m----> 8\u001b[0m false_pos\u001b[38;5;241m=\u001b[39m history\u001b[38;5;241m.\u001b[39mhistory[\u001b[38;5;124m\"\u001b[39m\u001b[38;5;124mfalse_positives\u001b[39m\u001b[38;5;124m\"\u001b[39m]\n\u001b[1;32m      9\u001b[0m val_false_pos \u001b[38;5;241m=\u001b[39m history\u001b[38;5;241m.\u001b[39mhistory[\u001b[38;5;124m\"\u001b[39m\u001b[38;5;124mval_false_positives\u001b[39m\u001b[38;5;124m\"\u001b[39m]\n\u001b[1;32m     11\u001b[0m false_neg \u001b[38;5;241m=\u001b[39m history\u001b[38;5;241m.\u001b[39mhistory[\u001b[38;5;124m\"\u001b[39m\u001b[38;5;124mfalse_negatives\u001b[39m\u001b[38;5;124m\"\u001b[39m]\n",
      "\u001b[0;31mKeyError\u001b[0m: 'false_positives'"
     ]
    }
   ],
   "source": [
    "import matplotlib.pyplot as plt\n",
    "accuracy = history.history[\"binary_accuracy\"]\n",
    "val_accuracy = history.history[\"val_binary_accuracy\"]\n",
    "\n",
    "loss = history.history[\"loss\"]\n",
    "val_loss = history.history[\"val_loss\"]\n",
    "\n",
    "false_pos= history.history[\"false_positives\"]\n",
    "val_false_pos = history.history[\"val_false_positives\"]\n",
    "\n",
    "false_neg = history.history[\"false_negatives\"]\n",
    "val_false_neg = history.history[\"val_false_negatives\"]\n",
    "\n",
    "epochs = range(1, len(accuracy) + 1)\n",
    "plt.plot(epochs, accuracy, \"bo\", label=\"Training accuracy\")\n",
    "plt.plot(epochs, val_accuracy, \"b\", label=\"Validation accuracy\")\n",
    "plt.title(\"Training and validation accuracy\")\n",
    "plt.legend()\n",
    "plt.figure()\n",
    "plt.plot(epochs, loss, \"bo\", label=\"Training loss\")\n",
    "plt.plot(epochs, val_loss, \"b\", label=\"Validation loss\")\n",
    "plt.title(\"Training and validation loss\")\n",
    "plt.legend()\n",
    "plt.figure()\n",
    "plt.plot(epochs, false_pos, \"bo\", label=\"Training False Positives\")\n",
    "plt.plot(epochs, val_false_pos, \"b\", label=\"Validation False Positives\")\n",
    "plt.title(\"Training and validation false positives\")\n",
    "plt.legend()\n",
    "plt.figure()\n",
    "plt.plot(epochs, false_neg, \"bo\", label=\"Training False Negatives\")\n",
    "plt.plot(epochs, val_false_neg, \"b\", label=\"Validation False Negatives\")\n",
    "plt.title(\"Training and validation false negatives\")\n",
    "plt.legend()\n",
    "plt.show()"
   ]
  },
  {
   "cell_type": "code",
   "execution_count": 36,
   "id": "8d6837f9-e376-4a30-b1bd-79fe3f02c0f0",
   "metadata": {},
   "outputs": [
    {
     "data": {
      "image/png": "[encoded data removed]",
      "text/plain": [
       "<Figure size 640x480 with 2 Axes>"
      ]
     },
     "metadata": {},
     "output_type": "display_data"
    }
   ],
   "source": [
    "#Creating confusion matrix from false pos/neg values had trouble plotting as above\n",
    "import seaborn as sn\n",
    "import pandas as pd\n",
    "import matplotlib.pyplot as plt\n",
    "\n",
    "array = [[127,62],\n",
    "         [42,567]]\n",
    "\n",
    "df_cm = pd.DataFrame(array, range(2), range(2))\n",
    "# plt.figure(figsize=(10,7))\n",
    "sn.set(font_scale=1.4) # for label size\n",
    "sn.heatmap(df_cm, annot=True, annot_kws={\"size\": 12}, fmt = 'd',cmap=\"YlGnBu\") # font size\n",
    "\n",
    "plt.show()\n"
   ]
  },
  {
   "cell_type": "markdown",
   "id": "3f0c6528-17c1-4f99-859c-3365ebab419c",
   "metadata": {},
   "source": [
    "**Fine-tuning CNN**"
   ]
  },
  {
   "cell_type": "code",
   "execution_count": 38,
   "id": "7da27e16-7cbf-4f28-a54f-fc0dea3ed78b",
   "metadata": {},
   "outputs": [
    {
     "name": "stdout",
     "output_type": "stream",
     "text": [
      "Epoch 1/30\n",
      "\u001b[1m99/99\u001b[0m \u001b[32m━━━━━━━━━━━━━━━━━━━━\u001b[0m\u001b[37m\u001b[0m \u001b[1m3s\u001b[0m 31ms/step - binary_accuracy: 0.8724 - false_negatives_1: 76.2100 - false_positives_1: 127.7900 - loss: 0.3107 - val_binary_accuracy: 0.8571 - val_false_negatives_1: 73.0000 - val_false_positives_1: 41.0000 - val_loss: 0.3136\n",
      "Epoch 2/30\n",
      "\u001b[1m 1/99\u001b[0m \u001b[37m━━━━━━━━━━━━━━━━━━━━\u001b[0m \u001b[1m2s\u001b[0m 26ms/step - binary_accuracy: 0.8125 - false_negatives_1: 3.0000 - false_positives_1: 3.0000 - loss: 0.3120"
     ]
    },
    {
     "name": "stderr",
     "output_type": "stream",
     "text": [
      "2024-05-07 12:26:06.632550: W tensorflow/core/framework/local_rendezvous.cc:404] Local rendezvous is aborting with status: OUT_OF_RANGE: End of sequence\n",
      "\t [[{{node IteratorGetNext}}]]\n"
     ]
    },
    {
     "name": "stdout",
     "output_type": "stream",
     "text": [
      "\u001b[1m99/99\u001b[0m \u001b[32m━━━━━━━━━━━━━━━━━━━━\u001b[0m\u001b[37m\u001b[0m \u001b[1m0s\u001b[0m 2ms/step - binary_accuracy: 0.8125 - false_negatives_1: 3.0000 - false_positives_1: 3.0000 - loss: 0.3120 - val_binary_accuracy: 0.8697 - val_false_negatives_1: 55.0000 - val_false_positives_1: 49.0000 - val_loss: 0.3017\n",
      "Epoch 3/30\n",
      "\u001b[1m99/99\u001b[0m \u001b[32m━━━━━━━━━━━━━━━━━━━━\u001b[0m\u001b[37m\u001b[0m \u001b[1m3s\u001b[0m 32ms/step - binary_accuracy: 0.8694 - false_negatives_1: 74.7800 - false_positives_1: 133.5200 - loss: 0.3193 - val_binary_accuracy: 0.8734 - val_false_negatives_1: 51.0000 - val_false_positives_1: 50.0000 - val_loss: 0.2963\n",
      "Epoch 4/30\n",
      "\u001b[1m 1/99\u001b[0m \u001b[37m━━━━━━━━━━━━━━━━━━━━\u001b[0m \u001b[1m3s\u001b[0m 31ms/step - binary_accuracy: 0.7812 - false_negatives_1: 3.0000 - false_positives_1: 4.0000 - loss: 0.2999"
     ]
    },
    {
     "name": "stderr",
     "output_type": "stream",
     "text": [
      "2024-05-07 12:26:10.131452: W tensorflow/core/framework/local_rendezvous.cc:404] Local rendezvous is aborting with status: OUT_OF_RANGE: End of sequence\n",
      "\t [[{{node IteratorGetNext}}]]\n"
     ]
    },
    {
     "name": "stdout",
     "output_type": "stream",
     "text": [
      "\u001b[1m99/99\u001b[0m \u001b[32m━━━━━━━━━━━━━━━━━━━━\u001b[0m\u001b[37m\u001b[0m \u001b[1m0s\u001b[0m 2ms/step - binary_accuracy: 0.7812 - false_negatives_1: 3.0000 - false_positives_1: 4.0000 - loss: 0.2999 - val_binary_accuracy: 0.8772 - val_false_negatives_1: 48.0000 - val_false_positives_1: 50.0000 - val_loss: 0.2972\n",
      "Epoch 5/30\n",
      "\u001b[1m99/99\u001b[0m \u001b[32m━━━━━━━━━━━━━━━━━━━━\u001b[0m\u001b[37m\u001b[0m \u001b[1m3s\u001b[0m 31ms/step - binary_accuracy: 0.8678 - false_negatives_1: 78.4700 - false_positives_1: 130.6600 - loss: 0.3109 - val_binary_accuracy: 0.8622 - val_false_negatives_1: 72.0000 - val_false_positives_1: 38.0000 - val_loss: 0.2983\n",
      "Epoch 6/30\n",
      "\u001b[1m 1/99\u001b[0m \u001b[37m━━━━━━━━━━━━━━━━━━━━\u001b[0m \u001b[1m2s\u001b[0m 27ms/step - binary_accuracy: 0.9062 - false_negatives_1: 0.0000e+00 - false_positives_1: 3.0000 - loss: 0.2980"
     ]
    },
    {
     "name": "stderr",
     "output_type": "stream",
     "text": [
      "2024-05-07 12:26:13.518072: W tensorflow/core/framework/local_rendezvous.cc:404] Local rendezvous is aborting with status: OUT_OF_RANGE: End of sequence\n",
      "\t [[{{node IteratorGetNext}}]]\n"
     ]
    },
    {
     "name": "stdout",
     "output_type": "stream",
     "text": [
      "\u001b[1m99/99\u001b[0m \u001b[32m━━━━━━━━━━━━━━━━━━━━\u001b[0m\u001b[37m\u001b[0m \u001b[1m0s\u001b[0m 2ms/step - binary_accuracy: 0.9062 - false_negatives_1: 0.0000e+00 - false_positives_1: 3.0000 - loss: 0.2980 - val_binary_accuracy: 0.8747 - val_false_negatives_1: 58.0000 - val_false_positives_1: 42.0000 - val_loss: 0.2933\n",
      "Epoch 7/30\n",
      "\u001b[1m99/99\u001b[0m \u001b[32m━━━━━━━━━━━━━━━━━━━━\u001b[0m\u001b[37m\u001b[0m \u001b[1m3s\u001b[0m 30ms/step - binary_accuracy: 0.8837 - false_negatives_1: 77.1000 - false_positives_1: 116.3100 - loss: 0.2915 - val_binary_accuracy: 0.8784 - val_false_negatives_1: 50.0000 - val_false_positives_1: 47.0000 - val_loss: 0.2894\n",
      "Epoch 8/30\n",
      "\u001b[1m 1/99\u001b[0m \u001b[37m━━━━━━━━━━━━━━━━━━━━\u001b[0m \u001b[1m2s\u001b[0m 26ms/step - binary_accuracy: 0.8750 - false_negatives_1: 1.0000 - false_positives_1: 3.0000 - loss: 0.4865"
     ]
    },
    {
     "name": "stderr",
     "output_type": "stream",
     "text": [
      "2024-05-07 12:26:16.820863: W tensorflow/core/framework/local_rendezvous.cc:404] Local rendezvous is aborting with status: OUT_OF_RANGE: End of sequence\n",
      "\t [[{{node IteratorGetNext}}]]\n"
     ]
    },
    {
     "name": "stdout",
     "output_type": "stream",
     "text": [
      "\u001b[1m99/99\u001b[0m \u001b[32m━━━━━━━━━━━━━━━━━━━━\u001b[0m\u001b[37m\u001b[0m \u001b[1m0s\u001b[0m 2ms/step - binary_accuracy: 0.8750 - false_negatives_1: 1.0000 - false_positives_1: 3.0000 - loss: 0.4865 - val_binary_accuracy: 0.8784 - val_false_negatives_1: 52.0000 - val_false_positives_1: 45.0000 - val_loss: 0.2930\n",
      "Epoch 9/30\n",
      "\u001b[1m99/99\u001b[0m \u001b[32m━━━━━━━━━━━━━━━━━━━━\u001b[0m\u001b[37m\u001b[0m \u001b[1m3s\u001b[0m 29ms/step - binary_accuracy: 0.8679 - false_negatives_1: 81.0400 - false_positives_1: 120.8000 - loss: 0.3038 - val_binary_accuracy: 0.8860 - val_false_negatives_1: 45.0000 - val_false_positives_1: 46.0000 - val_loss: 0.2851\n",
      "Epoch 10/30\n",
      "\u001b[1m 1/99\u001b[0m \u001b[37m━━━━━━━━━━━━━━━━━━━━\u001b[0m \u001b[1m2s\u001b[0m 27ms/step - binary_accuracy: 0.8750 - false_negatives_1: 1.0000 - false_positives_1: 3.0000 - loss: 0.2310"
     ]
    },
    {
     "name": "stderr",
     "output_type": "stream",
     "text": [
      "2024-05-07 12:26:20.058433: W tensorflow/core/framework/local_rendezvous.cc:404] Local rendezvous is aborting with status: OUT_OF_RANGE: End of sequence\n",
      "\t [[{{node IteratorGetNext}}]]\n"
     ]
    },
    {
     "name": "stdout",
     "output_type": "stream",
     "text": [
      "\u001b[1m99/99\u001b[0m \u001b[32m━━━━━━━━━━━━━━━━━━━━\u001b[0m\u001b[37m\u001b[0m \u001b[1m0s\u001b[0m 3ms/step - binary_accuracy: 0.8750 - false_negatives_1: 1.0000 - false_positives_1: 3.0000 - loss: 0.2310 - val_binary_accuracy: 0.8847 - val_false_negatives_1: 45.0000 - val_false_positives_1: 47.0000 - val_loss: 0.2859\n",
      "Epoch 11/30\n",
      "\u001b[1m99/99\u001b[0m \u001b[32m━━━━━━━━━━━━━━━━━━━━\u001b[0m\u001b[37m\u001b[0m \u001b[1m3s\u001b[0m 30ms/step - binary_accuracy: 0.8737 - false_negatives_1: 73.8500 - false_positives_1: 121.9400 - loss: 0.3045 - val_binary_accuracy: 0.8709 - val_false_negatives_1: 62.0000 - val_false_positives_1: 41.0000 - val_loss: 0.2909\n",
      "Epoch 12/30\n",
      "\u001b[1m 1/99\u001b[0m \u001b[37m━━━━━━━━━━━━━━━━━━━━\u001b[0m \u001b[1m2s\u001b[0m 29ms/step - binary_accuracy: 0.8125 - false_negatives_1: 3.0000 - false_positives_1: 3.0000 - loss: 0.3102"
     ]
    },
    {
     "name": "stderr",
     "output_type": "stream",
     "text": [
      "2024-05-07 12:26:23.446208: W tensorflow/core/framework/local_rendezvous.cc:404] Local rendezvous is aborting with status: OUT_OF_RANGE: End of sequence\n",
      "\t [[{{node IteratorGetNext}}]]\n"
     ]
    },
    {
     "name": "stdout",
     "output_type": "stream",
     "text": [
      "\u001b[1m99/99\u001b[0m \u001b[32m━━━━━━━━━━━━━━━━━━━━\u001b[0m\u001b[37m\u001b[0m \u001b[1m0s\u001b[0m 2ms/step - binary_accuracy: 0.8125 - false_negatives_1: 3.0000 - false_positives_1: 3.0000 - loss: 0.3102 - val_binary_accuracy: 0.8634 - val_false_negatives_1: 73.0000 - val_false_positives_1: 36.0000 - val_loss: 0.3027\n",
      "Epoch 13/30\n",
      "\u001b[1m99/99\u001b[0m \u001b[32m━━━━━━━━━━━━━━━━━━━━\u001b[0m\u001b[37m\u001b[0m \u001b[1m3s\u001b[0m 31ms/step - binary_accuracy: 0.8782 - false_negatives_1: 75.7400 - false_positives_1: 119.5500 - loss: 0.2821 - val_binary_accuracy: 0.8747 - val_false_negatives_1: 58.0000 - val_false_positives_1: 42.0000 - val_loss: 0.3015\n",
      "Epoch 14/30\n",
      "\u001b[1m 1/99\u001b[0m \u001b[37m━━━━━━━━━━━━━━━━━━━━\u001b[0m \u001b[1m2s\u001b[0m 29ms/step - binary_accuracy: 0.9062 - false_negatives_1: 1.0000 - false_positives_1: 2.0000 - loss: 0.2605"
     ]
    },
    {
     "name": "stderr",
     "output_type": "stream",
     "text": [
      "2024-05-07 12:26:26.824175: W tensorflow/core/framework/local_rendezvous.cc:404] Local rendezvous is aborting with status: OUT_OF_RANGE: End of sequence\n",
      "\t [[{{node IteratorGetNext}}]]\n"
     ]
    },
    {
     "name": "stdout",
     "output_type": "stream",
     "text": [
      "\u001b[1m99/99\u001b[0m \u001b[32m━━━━━━━━━━━━━━━━━━━━\u001b[0m\u001b[37m\u001b[0m \u001b[1m0s\u001b[0m 2ms/step - binary_accuracy: 0.9062 - false_negatives_1: 1.0000 - false_positives_1: 2.0000 - loss: 0.2605 - val_binary_accuracy: 0.8722 - val_false_negatives_1: 38.0000 - val_false_positives_1: 64.0000 - val_loss: 0.2881\n",
      "Epoch 15/30\n",
      "\u001b[1m99/99\u001b[0m \u001b[32m━━━━━━━━━━━━━━━━━━━━\u001b[0m\u001b[37m\u001b[0m \u001b[1m3s\u001b[0m 31ms/step - binary_accuracy: 0.8795 - false_negatives_1: 66.2100 - false_positives_1: 123.6200 - loss: 0.2971 - val_binary_accuracy: 0.8784 - val_false_negatives_1: 20.0000 - val_false_positives_1: 77.0000 - val_loss: 0.2950\n",
      "Epoch 16/30\n",
      "\u001b[1m 1/99\u001b[0m \u001b[37m━━━━━━━━━━━━━━━━━━━━\u001b[0m \u001b[1m2s\u001b[0m 27ms/step - binary_accuracy: 0.8125 - false_negatives_1: 1.0000 - false_positives_1: 5.0000 - loss: 0.5121"
     ]
    },
    {
     "name": "stderr",
     "output_type": "stream",
     "text": [
      "2024-05-07 12:26:30.241113: W tensorflow/core/framework/local_rendezvous.cc:404] Local rendezvous is aborting with status: OUT_OF_RANGE: End of sequence\n",
      "\t [[{{node IteratorGetNext}}]]\n"
     ]
    },
    {
     "name": "stdout",
     "output_type": "stream",
     "text": [
      "\u001b[1m99/99\u001b[0m \u001b[32m━━━━━━━━━━━━━━━━━━━━\u001b[0m\u001b[37m\u001b[0m \u001b[1m0s\u001b[0m 2ms/step - binary_accuracy: 0.8125 - false_negatives_1: 1.0000 - false_positives_1: 5.0000 - loss: 0.5121 - val_binary_accuracy: 0.8784 - val_false_negatives_1: 21.0000 - val_false_positives_1: 76.0000 - val_loss: 0.2901\n",
      "Epoch 17/30\n",
      "\u001b[1m99/99\u001b[0m \u001b[32m━━━━━━━━━━━━━━━━━━━━\u001b[0m\u001b[37m\u001b[0m \u001b[1m3s\u001b[0m 29ms/step - binary_accuracy: 0.8959 - false_negatives_1: 67.5700 - false_positives_1: 105.5500 - loss: 0.2540 - val_binary_accuracy: 0.8634 - val_false_negatives_1: 71.0000 - val_false_positives_1: 38.0000 - val_loss: 0.3036\n",
      "Epoch 18/30\n",
      "\u001b[1m 1/99\u001b[0m \u001b[37m━━━━━━━━━━━━━━━━━━━━\u001b[0m \u001b[1m2s\u001b[0m 26ms/step - binary_accuracy: 0.8750 - false_negatives_1: 2.0000 - false_positives_1: 2.0000 - loss: 0.2509"
     ]
    },
    {
     "name": "stderr",
     "output_type": "stream",
     "text": [
      "2024-05-07 12:26:33.508231: W tensorflow/core/framework/local_rendezvous.cc:404] Local rendezvous is aborting with status: OUT_OF_RANGE: End of sequence\n",
      "\t [[{{node IteratorGetNext}}]]\n"
     ]
    },
    {
     "name": "stdout",
     "output_type": "stream",
     "text": [
      "\u001b[1m99/99\u001b[0m \u001b[32m━━━━━━━━━━━━━━━━━━━━\u001b[0m\u001b[37m\u001b[0m \u001b[1m0s\u001b[0m 2ms/step - binary_accuracy: 0.8750 - false_negatives_1: 2.0000 - false_positives_1: 2.0000 - loss: 0.2509 - val_binary_accuracy: 0.8609 - val_false_negatives_1: 72.0000 - val_false_positives_1: 39.0000 - val_loss: 0.3033\n",
      "Epoch 19/30\n",
      "\u001b[1m99/99\u001b[0m \u001b[32m━━━━━━━━━━━━━━━━━━━━\u001b[0m\u001b[37m\u001b[0m \u001b[1m3s\u001b[0m 29ms/step - binary_accuracy: 0.8785 - false_negatives_1: 72.3900 - false_positives_1: 120.3100 - loss: 0.2813 - val_binary_accuracy: 0.8947 - val_false_negatives_1: 21.0000 - val_false_positives_1: 63.0000 - val_loss: 0.2825\n",
      "Epoch 20/30\n",
      "\u001b[1m 1/99\u001b[0m \u001b[37m━━━━━━━━━━━━━━━━━━━━\u001b[0m \u001b[1m2s\u001b[0m 26ms/step - binary_accuracy: 0.9062 - false_negatives_1: 0.0000e+00 - false_positives_1: 3.0000 - loss: 0.5155"
     ]
    },
    {
     "name": "stderr",
     "output_type": "stream",
     "text": [
      "2024-05-07 12:26:36.751754: W tensorflow/core/framework/local_rendezvous.cc:404] Local rendezvous is aborting with status: OUT_OF_RANGE: End of sequence\n",
      "\t [[{{node IteratorGetNext}}]]\n"
     ]
    },
    {
     "name": "stdout",
     "output_type": "stream",
     "text": [
      "\u001b[1m99/99\u001b[0m \u001b[32m━━━━━━━━━━━━━━━━━━━━\u001b[0m\u001b[37m\u001b[0m \u001b[1m0s\u001b[0m 2ms/step - binary_accuracy: 0.9062 - false_negatives_1: 0.0000e+00 - false_positives_1: 3.0000 - loss: 0.5155 - val_binary_accuracy: 0.8947 - val_false_negatives_1: 20.0000 - val_false_positives_1: 64.0000 - val_loss: 0.2861\n",
      "Epoch 21/30\n",
      "\u001b[1m99/99\u001b[0m \u001b[32m━━━━━━━━━━━━━━━━━━━━\u001b[0m\u001b[37m\u001b[0m \u001b[1m3s\u001b[0m 30ms/step - binary_accuracy: 0.8863 - false_negatives_1: 70.0300 - false_positives_1: 116.3900 - loss: 0.2729 - val_binary_accuracy: 0.8684 - val_false_negatives_1: 61.0000 - val_false_positives_1: 44.0000 - val_loss: 0.3048\n",
      "Epoch 22/30\n",
      "\u001b[1m 1/99\u001b[0m \u001b[37m━━━━━━━━━━━━━━━━━━━━\u001b[0m \u001b[1m2s\u001b[0m 25ms/step - binary_accuracy: 0.9062 - false_negatives_1: 2.0000 - false_positives_1: 1.0000 - loss: 0.2639"
     ]
    },
    {
     "name": "stderr",
     "output_type": "stream",
     "text": [
      "2024-05-07 12:26:40.109025: W tensorflow/core/framework/local_rendezvous.cc:404] Local rendezvous is aborting with status: OUT_OF_RANGE: End of sequence\n",
      "\t [[{{node IteratorGetNext}}]]\n"
     ]
    },
    {
     "name": "stdout",
     "output_type": "stream",
     "text": [
      "\u001b[1m99/99\u001b[0m \u001b[32m━━━━━━━━━━━━━━━━━━━━\u001b[0m\u001b[37m\u001b[0m \u001b[1m0s\u001b[0m 2ms/step - binary_accuracy: 0.9062 - false_negatives_1: 2.0000 - false_positives_1: 1.0000 - loss: 0.2639 - val_binary_accuracy: 0.8722 - val_false_negatives_1: 52.0000 - val_false_positives_1: 50.0000 - val_loss: 0.2923\n",
      "Epoch 23/30\n",
      "\u001b[1m99/99\u001b[0m \u001b[32m━━━━━━━━━━━━━━━━━━━━\u001b[0m\u001b[37m\u001b[0m \u001b[1m3s\u001b[0m 30ms/step - binary_accuracy: 0.8900 - false_negatives_1: 68.2500 - false_positives_1: 109.9900 - loss: 0.2722 - val_binary_accuracy: 0.8822 - val_false_negatives_1: 41.0000 - val_false_positives_1: 53.0000 - val_loss: 0.2817\n",
      "Epoch 24/30\n",
      "\u001b[1m 1/99\u001b[0m \u001b[37m━━━━━━━━━━━━━━━━━━━━\u001b[0m \u001b[1m2s\u001b[0m 28ms/step - binary_accuracy: 0.9062 - false_negatives_1: 1.0000 - false_positives_1: 2.0000 - loss: 0.1604"
     ]
    },
    {
     "name": "stderr",
     "output_type": "stream",
     "text": [
      "2024-05-07 12:26:43.434094: W tensorflow/core/framework/local_rendezvous.cc:404] Local rendezvous is aborting with status: OUT_OF_RANGE: End of sequence\n",
      "\t [[{{node IteratorGetNext}}]]\n"
     ]
    },
    {
     "name": "stdout",
     "output_type": "stream",
     "text": [
      "\u001b[1m99/99\u001b[0m \u001b[32m━━━━━━━━━━━━━━━━━━━━\u001b[0m\u001b[37m\u001b[0m \u001b[1m0s\u001b[0m 2ms/step - binary_accuracy: 0.9062 - false_negatives_1: 1.0000 - false_positives_1: 2.0000 - loss: 0.1604 - val_binary_accuracy: 0.8885 - val_false_negatives_1: 37.0000 - val_false_positives_1: 52.0000 - val_loss: 0.2806\n",
      "Epoch 25/30\n",
      "\u001b[1m99/99\u001b[0m \u001b[32m━━━━━━━━━━━━━━━━━━━━\u001b[0m\u001b[37m\u001b[0m \u001b[1m3s\u001b[0m 30ms/step - binary_accuracy: 0.8859 - false_negatives_1: 69.2600 - false_positives_1: 116.1000 - loss: 0.2578 - val_binary_accuracy: 0.8897 - val_false_negatives_1: 37.0000 - val_false_positives_1: 51.0000 - val_loss: 0.2763\n",
      "Epoch 26/30\n",
      "\u001b[1m 1/99\u001b[0m \u001b[37m━━━━━━━━━━━━━━━━━━━━\u001b[0m \u001b[1m2s\u001b[0m 29ms/step - binary_accuracy: 0.7500 - false_negatives_1: 2.0000 - false_positives_1: 6.0000 - loss: 0.4846"
     ]
    },
    {
     "name": "stderr",
     "output_type": "stream",
     "text": [
      "2024-05-07 12:26:46.744876: W tensorflow/core/framework/local_rendezvous.cc:404] Local rendezvous is aborting with status: OUT_OF_RANGE: End of sequence\n",
      "\t [[{{node IteratorGetNext}}]]\n"
     ]
    },
    {
     "name": "stdout",
     "output_type": "stream",
     "text": [
      "\u001b[1m99/99\u001b[0m \u001b[32m━━━━━━━━━━━━━━━━━━━━\u001b[0m\u001b[37m\u001b[0m \u001b[1m0s\u001b[0m 2ms/step - binary_accuracy: 0.7500 - false_negatives_1: 2.0000 - false_positives_1: 6.0000 - loss: 0.4846 - val_binary_accuracy: 0.8897 - val_false_negatives_1: 41.0000 - val_false_positives_1: 47.0000 - val_loss: 0.2768\n",
      "Epoch 27/30\n",
      "\u001b[1m99/99\u001b[0m \u001b[32m━━━━━━━━━━━━━━━━━━━━\u001b[0m\u001b[37m\u001b[0m \u001b[1m3s\u001b[0m 30ms/step - binary_accuracy: 0.8920 - false_negatives_1: 72.5300 - false_positives_1: 106.0900 - loss: 0.2538 - val_binary_accuracy: 0.8759 - val_false_negatives_1: 64.0000 - val_false_positives_1: 35.0000 - val_loss: 0.2876\n",
      "Epoch 28/30\n",
      "\u001b[1m 1/99\u001b[0m \u001b[37m━━━━━━━━━━━━━━━━━━━━\u001b[0m \u001b[1m2s\u001b[0m 27ms/step - binary_accuracy: 0.9062 - false_negatives_1: 2.0000 - false_positives_1: 1.0000 - loss: 0.2744"
     ]
    },
    {
     "name": "stderr",
     "output_type": "stream",
     "text": [
      "2024-05-07 12:26:50.030504: W tensorflow/core/framework/local_rendezvous.cc:404] Local rendezvous is aborting with status: OUT_OF_RANGE: End of sequence\n",
      "\t [[{{node IteratorGetNext}}]]\n"
     ]
    },
    {
     "name": "stdout",
     "output_type": "stream",
     "text": [
      "\u001b[1m99/99\u001b[0m \u001b[32m━━━━━━━━━━━━━━━━━━━━\u001b[0m\u001b[37m\u001b[0m \u001b[1m0s\u001b[0m 2ms/step - binary_accuracy: 0.9062 - false_negatives_1: 2.0000 - false_positives_1: 1.0000 - loss: 0.2744 - val_binary_accuracy: 0.8759 - val_false_negatives_1: 67.0000 - val_false_positives_1: 32.0000 - val_loss: 0.2907\n",
      "Epoch 29/30\n",
      "\u001b[1m99/99\u001b[0m \u001b[32m━━━━━━━━━━━━━━━━━━━━\u001b[0m\u001b[37m\u001b[0m \u001b[1m3s\u001b[0m 30ms/step - binary_accuracy: 0.8915 - false_negatives_1: 72.8700 - false_positives_1: 106.9200 - loss: 0.2683 - val_binary_accuracy: 0.8885 - val_false_negatives_1: 38.0000 - val_false_positives_1: 51.0000 - val_loss: 0.2692\n",
      "Epoch 30/30\n",
      "\u001b[1m 1/99\u001b[0m \u001b[37m━━━━━━━━━━━━━━━━━━━━\u001b[0m \u001b[1m1s\u001b[0m 18ms/step - binary_accuracy: 0.8000 - false_negatives_1: 2.0000 - false_positives_1: 2.0000 - loss: 0.3113"
     ]
    },
    {
     "name": "stderr",
     "output_type": "stream",
     "text": [
      "2024-05-07 12:26:53.299323: W tensorflow/core/framework/local_rendezvous.cc:404] Local rendezvous is aborting with status: OUT_OF_RANGE: End of sequence\n",
      "\t [[{{node IteratorGetNext}}]]\n"
     ]
    },
    {
     "name": "stdout",
     "output_type": "stream",
     "text": [
      "\u001b[1m99/99\u001b[0m \u001b[32m━━━━━━━━━━━━━━━━━━━━\u001b[0m\u001b[37m\u001b[0m \u001b[1m0s\u001b[0m 2ms/step - binary_accuracy: 0.8000 - false_negatives_1: 2.0000 - false_positives_1: 2.0000 - loss: 0.3113 - val_binary_accuracy: 0.8835 - val_false_negatives_1: 48.0000 - val_false_positives_1: 45.0000 - val_loss: 0.2731\n"
     ]
    }
   ],
   "source": [
    "\n",
    "from tensorflow.keras.preprocessing.image import ImageDataGenerator\n",
    "\n",
    "batch_size = 32\n",
    "data_generator = ImageDataGenerator(width_shift_range=0.1, height_shift_range=0.1, horizontal_flip=True)\n",
    "train_generator = data_generator.flow(x_train, y_train, batch_size)\n",
    "steps_per_epoch = x_train.shape[0] // batch_size\n",
    "\n",
    "r = model.fit(train_generator, \n",
    "              epochs=30,\n",
    "              steps_per_epoch=steps_per_epoch,\n",
    "              validation_data=(x_test, y_test), \n",
    "             )\n"
   ]
  },
  {
   "cell_type": "code",
   "execution_count": 40,
   "id": "39f28df4-ee9f-4402-8d85-e5ee85ab460b",
   "metadata": {},
   "outputs": [
    {
     "data": {
      "text/plain": [
       "<matplotlib.legend.Legend at 0x30889fb10>"
      ]
     },
     "execution_count": 40,
     "metadata": {},
     "output_type": "execute_result"
    },
    {
     "data": {
      "image/png": "[encoded data removed]",
      "text/plain": [
       "<Figure size 1200x1600 with 2 Axes>"
      ]
     },
     "metadata": {},
     "output_type": "display_data"
    }
   ],
   "source": [
    "plt.figure(figsize=(12, 16))\n",
    "\n",
    "plt.subplot(4, 2, 1)\n",
    "plt.plot(r.history['loss'], label='Loss')\n",
    "plt.plot(r.history['val_loss'], label='val_Loss')\n",
    "plt.title('Loss Function Evolution')\n",
    "plt.legend()\n",
    "\n",
    "plt.subplot(4, 2, 2)\n",
    "plt.plot(r.history['binary_accuracy'], label='binary_accuracy')\n",
    "plt.plot(r.history['val_binary_accuracy'], label='val_binary_accuracy')\n",
    "plt.title('Accuracy Function Evolution')\n",
    "plt.legend()\n"
   ]
  },
  {
   "cell_type": "code",
   "execution_count": 41,
   "id": "76660c58-0572-4efe-9635-e5f49fd19e7d",
   "metadata": {},
   "outputs": [
    {
     "data": {
      "image/png": "[encoded data removed]",
      "text/plain": [
       "<Figure size 640x480 with 2 Axes>"
      ]
     },
     "metadata": {},
     "output_type": "display_data"
    }
   ],
   "source": [
    "#Creating confusion matrix from false pos/neg values had trouble plotting as above\n",
    "import seaborn as sn\n",
    "import pandas as pd\n",
    "import matplotlib.pyplot as plt\n",
    "\n",
    "array = [[146,43],\n",
    "         [45,564]]\n",
    "\n",
    "df_cm = pd.DataFrame(array, range(2), range(2))\n",
    "# plt.figure(figsize=(10,7))\n",
    "sn.set(font_scale=1.4) # for label size\n",
    "sn.heatmap(df_cm, annot=True, annot_kws={\"size\": 12}, fmt = 'd',cmap=\"YlGnBu\") # font size\n",
    "\n",
    "plt.show()"
   ]
  },
  {
   "cell_type": "markdown",
   "id": "29aaec49-c9b6-4142-ab1b-abf3290317a9",
   "metadata": {},
   "source": [
    "**Outcome:** Discussion in write-up"
   ]
  },
  {
   "cell_type": "markdown",
   "id": "140a1d33-c507-42ca-9e99-596d241ce0a7",
   "metadata": {},
   "source": [
    "**References**\n",
    "\n",
    "**Data Source**\n",
    "\n",
    "Divyansh Agrawal. (2021). Star-Galaxy Classification Data [Data set]. Kaggle. https://doi.org/10.34740/KAGGLE/DS/1396185 \n",
    "\n",
    "**Articles on Machine Learning in Astronomy**\n",
    "\n",
    "Rajesvari, M., Sinha, A., Saxena, V., & Mukerji, S. A. (2020). Deep learning approach to classify the galaxies for astronomy applications. OSR-JEEE., 15, 35-9.\n",
    "\n",
    "Kembhavi, A., & Pattnaik, R. (2022). Machine learning in astronomy. Journal of Astrophysics and Astronomy, 43(2), 76.\n",
    "\n",
    "\n",
    "**Information on fitting Random Forest and CNN**\n",
    "\n",
    "Random Forest Classification with Scikit-Learn https://www.datacamp.com/tutorial/random-forests-classifier-python\n",
    "\n",
    "Image classification using Sklearn (RandomForest) https://www.kaggle.com/code/kkhandekar/image-classification-using-sklearn-randomforest\n",
    "\n",
    "François Chollet. Deep Learning with Python Video Edition. Manning Publications, 2017.\n",
    "\n",
    "\n"
   ]
  }
 ],
 "metadata": {
  "kernelspec": {
   "display_name": "Python 3 (ipykernel)",
   "language": "python",
   "name": "python3"
  },
  "language_info": {
   "codemirror_mode": {
    "name": "ipython",
    "version": 3
   },
   "file_extension": ".py",
   "mimetype": "text/x-python",
   "name": "python",
   "nbconvert_exporter": "python",
   "pygments_lexer": "ipython3",
   "version": "3.11.7"
  }
 },
 "nbformat": 4,
 "nbformat_minor": 5
}
